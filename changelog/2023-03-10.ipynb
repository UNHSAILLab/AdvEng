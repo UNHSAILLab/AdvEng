{
 "cells": [
  {
   "cell_type": "markdown",
   "id": "a95f263d",
   "metadata": {},
   "source": [
    "## Upcoming Changes"
   ]
  },
  {
   "cell_type": "markdown",
   "id": "edb7b6ff",
   "metadata": {},
   "source": [
    "1. Add a `Beacon` action class which will be used to describe the relationship of action classes:\n",
    "    - `performer(property)` restricted to range instances of `uco-core:ObservableObject`\n",
    "    - `object(property)` restricted to instances of `uco-core:ObservableObject`.\n",
    "- This is to differentiate between action classes with `object(property)` of range `uco-core:ObservableObject` and `performer(property)` of range `uco-identity:Identity`. Foreseeably, we may find value in separating actions performed between systems and systems and actions performed between people and systems.\n",
    "- `engagment:Alert` is explicitly designed for object-identity actions, but for now it is abused to be used for all.\n",
    "\n",
    "2. Add a `DataCollectionEndpoint` object class to describe the object which collects or listens for data, in comparison to `DataSource` which refers to some source that generates or produces data."
   ]
  },
  {
   "cell_type": "code",
   "execution_count": null,
   "id": "6c352b87",
   "metadata": {},
   "outputs": [],
   "source": []
  }
 ],
 "metadata": {
  "kernelspec": {
   "display_name": "Python 3 (ipykernel)",
   "language": "python",
   "name": "python3"
  },
  "language_info": {
   "codemirror_mode": {
    "name": "ipython",
    "version": 3
   },
   "file_extension": ".py",
   "mimetype": "text/x-python",
   "name": "python",
   "nbconvert_exporter": "python",
   "pygments_lexer": "ipython3",
   "version": "3.8.13"
  }
 },
 "nbformat": 4,
 "nbformat_minor": 5
}
