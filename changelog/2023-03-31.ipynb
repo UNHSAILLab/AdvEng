{
 "cells": [
  {
   "cell_type": "markdown",
   "id": "a95f263d",
   "metadata": {},
   "source": [
    "## Changes"
   ]
  },
  {
   "cell_type": "markdown",
   "id": "edb7b6ff",
   "metadata": {},
   "source": [
    "1. [ADD] `engagement:Beacon` [NEEDS TO BE MODIFIED]\n",
    "    - `performer(property)` restricted to range instances of `uco-observable:ObservableObject`\n",
    "    - `object(property)` restricted to instances of `uco-observable:ObservableObject`."
   ]
  },
  {
   "cell_type": "markdown",
   "id": "1ccc96fb",
   "metadata": {},
   "source": [
    "2. [ADD] `DataTarget` object class to describe the object which collects or listens for data, in comparison to `DataSource` which refers to some source that generates or produces data."
   ]
  },
  {
   "cell_type": "markdown",
   "id": "e4f52cd3",
   "metadata": {},
   "source": [
    "3. [CHANGE] `engagement:BreadcrumbTrail` and `engagement:Breadcrumb` to have a property called `engagement:breadcrumbTargetObject`which indentifies the intended goal-state or goal-object/intended resource the `engagement:Breadcrumb` or `engagement:BreadcrumbTrail` is attempting to have an adversary reach.\n",
    "    - For example, let's say there is a breadcrumb trail consisting of two breadcrumbs that leads to a file containing a honeytoken. The first breadcrumb is a pdf indicating the important data servers containing all sensitive data, the second breadcrumb is a folder with an attractive, then the target object of the breadcrumb is the honeytoken. This goal-object can be a traditional `uco-observable:ObservableObject` besides a deception object."
   ]
  },
  {
   "cell_type": "code",
   "execution_count": null,
   "id": "ef87a957",
   "metadata": {},
   "outputs": [],
   "source": []
  }
 ],
 "metadata": {
  "kernelspec": {
   "display_name": "Python 3 (ipykernel)",
   "language": "python",
   "name": "python3"
  },
  "language_info": {
   "codemirror_mode": {
    "name": "ipython",
    "version": 3
   },
   "file_extension": ".py",
   "mimetype": "text/x-python",
   "name": "python",
   "nbconvert_exporter": "python",
   "pygments_lexer": "ipython3",
   "version": "3.8.13"
  }
 },
 "nbformat": 4,
 "nbformat_minor": 5
}
