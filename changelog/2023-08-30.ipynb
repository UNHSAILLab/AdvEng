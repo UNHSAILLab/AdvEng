{
 "cells": [
  {
   "cell_type": "markdown",
   "id": "a95f263d",
   "metadata": {},
   "source": [
    "## Changes"
   ]
  },
  {
   "cell_type": "markdown",
   "id": "edb7b6ff",
   "metadata": {},
   "source": [
    "1. [ADD] `engagement:hasPerceptionCharacterization`\n",
    "        - Acts like `hasCharacterization` property except applies to the perceived object by the adversary instead of the actual perception of the defender. E.g., suppose a server is capable of hosting multiple honeypots. An adversary will perceive it to be a single user endpoint running services, but it is actual a server."
   ]
  },
  {
   "cell_type": "markdown",
   "id": "1ccc96fb",
   "metadata": {},
   "source": [
    "2. [CHANGE] `engagement:LureObject` now has the property `engagement:hasPerceptionCharacterization`"
   ]
  },
  {
   "cell_type": "markdown",
   "id": "e4f52cd3",
   "metadata": {},
   "source": [
    "3. [RENAME] `engagement:hasStageAttackSurface`-> `engagement:hasAttackSurface`\n",
    "    - Property attaches UcoObject which are relevant to the attack surface of the object. E.g., the available planned paths an adversary will take to access or compromise the object.\n",
    "4. [REMOVED] StageAttackSurface (depreciated, no longer necessary given `engagement:hasAttackSurface` directly attaches to a UcoObject.\n",
    "5. [REMOVED] Stage (depreciated for the `engagement:hasPerceptionCharacterization`)"
   ]
  }
 ],
 "metadata": {
  "kernelspec": {
   "display_name": "Python 3 (ipykernel)",
   "language": "python",
   "name": "python3"
  },
  "language_info": {
   "codemirror_mode": {
    "name": "ipython",
    "version": 3
   },
   "file_extension": ".py",
   "mimetype": "text/x-python",
   "name": "python",
   "nbconvert_exporter": "python",
   "pygments_lexer": "ipython3",
   "version": "3.8.13"
  }
 },
 "nbformat": 4,
 "nbformat_minor": 5
}
