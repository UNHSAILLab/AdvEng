{
 "cells": [
  {
   "cell_type": "markdown",
   "id": "8adf0aa2",
   "metadata": {},
   "source": [
    "# Changes (2023-11-17)"
   ]
  },
  {
   "cell_type": "markdown",
   "id": "08fb4412",
   "metadata": {},
   "source": [
    "### Depreciated Classes\n",
    "- Sandbox\n",
    "- Resource\n",
    "- Malware\n",
    "\n",
    "### Replaced Classes\n",
    "- LureObject --> DeceptionObject\n",
    "\n",
    "\n",
    "### Soon to be depreciated classes (off-loaded to UCO)\n",
    "- Alert\n",
    "- Beacon\n",
    "- Deploy\n",
    "- Obfuscate\n",
    "- Respond\n",
    "- DataSource\n",
    "- DataTarget\n",
    "- Event\n",
    "- PlannedEvent\n",
    "\n",
    "### New Classes\n",
    "- DeceptionAction\n",
    "- DenialAction"
   ]
  }
 ],
 "metadata": {
  "kernelspec": {
   "display_name": "Python 3",
   "language": "python",
   "name": "python3"
  },
  "language_info": {
   "codemirror_mode": {
    "name": "ipython",
    "version": 3
   },
   "file_extension": ".py",
   "mimetype": "text/x-python",
   "name": "python",
   "nbconvert_exporter": "python",
   "pygments_lexer": "ipython3",
   "version": "3.8.8"
  }
 },
 "nbformat": 4,
 "nbformat_minor": 5
}
