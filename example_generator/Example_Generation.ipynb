{
 "cells": [
  {
   "cell_type": "code",
   "execution_count": 1,
   "id": "656aa987",
   "metadata": {},
   "outputs": [],
   "source": [
    "import openai\n",
    "import os"
   ]
  },
  {
   "cell_type": "code",
   "execution_count": 2,
   "id": "85b30ff1",
   "metadata": {},
   "outputs": [],
   "source": [
    "#set your api key from your terminal as a global variable in advance via set OPEN_API_KEY=<string>\n",
    "openai.api_key = os.environ['OPENAI_API_KEY']"
   ]
  },
  {
   "cell_type": "code",
   "execution_count": 3,
   "id": "02d9a7bf",
   "metadata": {
    "scrolled": true
   },
   "outputs": [],
   "source": [
    "from aeo_ex_generator.aeo_example_generator import ExampleGenerator"
   ]
  },
  {
   "cell_type": "code",
   "execution_count": 4,
   "id": "c174798a",
   "metadata": {},
   "outputs": [],
   "source": [
    "ex = ExampleGenerator() #declare the instance"
   ]
  },
  {
   "cell_type": "code",
   "execution_count": 5,
   "id": "790bc741",
   "metadata": {
    "scrolled": false
   },
   "outputs": [],
   "source": [
    "#ex.add_ontology(\"ae_ontology.ttl\") #provide the ontology ttl file"
   ]
  },
  {
   "cell_type": "code",
   "execution_count": 6,
   "id": "d0c1a766",
   "metadata": {},
   "outputs": [],
   "source": [
    "#ex.send_ontology() #sends the ontology and the ontology structure in parts to give context to the LLM"
   ]
  },
  {
   "cell_type": "code",
   "execution_count": 7,
   "id": "7a5ac4e7",
   "metadata": {},
   "outputs": [],
   "source": [
    "#This is an example description\n",
    "#Remember to provide sufficient detail about explicitly:\n",
    "#The actors and their roles\n",
    "#The characterization of each PlannedEvent and the actors involved\n",
    "#If an 'action' is not performed human-to-human but by an OBJECT_X/ENTITY_X to a human or ENTITY_Y/OBJECT_Y\n",
    "###specify that the performer (property) is the ENTITY_X and the object (property) is the ENTITY_Y/OBJECT_Y\n",
    "### ** SEE UCO's action namespace for full list of properties that need explicit declaration\n",
    "\n",
    "description = \"\"\"\n",
    "Use one engagement:Narrative\n",
    "Use one engagement:Storyline\n",
    "Use the following people:\n",
    "    Bob Smith is a defender role\n",
    "    Mary Jane is an adversary role\n",
    "Use three planned events:\n",
    "    Planned Event one - Bob Smith deploys a honeyobject enviroment and a honeytoken file containing fake user credentials called \"user-creds.dmp\". The objective is to direct and elicit.  He also deploys a honeypot with the objective to detect and trap.\n",
    "    Planned Event two - The honeypot beacons to the dataTarget called CanaryTokenAlert, the performer is the honeypot, the object is the CanaryTokenAlert.\n",
    "    Planned Event three - CanaryTokenAlert dataSource alerts Bob Smith that the second honeypot was accessed. The performer is the CanaryTokenAlert, the object is Bob Smith\n",
    "    \"\"\""
   ]
  },
  {
   "cell_type": "code",
   "execution_count": 8,
   "id": "c62fc87a",
   "metadata": {
    "scrolled": false
   },
   "outputs": [],
   "source": [
    "e = ex.prompt(description)"
   ]
  },
  {
   "cell_type": "code",
   "execution_count": 9,
   "id": "5364cdcc",
   "metadata": {
    "scrolled": false
   },
   "outputs": [
    {
     "data": {
      "text/plain": [
       "{'@context': {'objective': 'https://ontology.adversaryengagement.org/ae/objective#',\n",
       "  'engagement': 'https://ontology.adversaryengagement.org/ae/engagement#',\n",
       "  'xsd': 'http://www.w3.org/2001/XMLSchema#',\n",
       "  'uco-types': 'https://ontology.unifiedcyberontology.org/uco/types#',\n",
       "  'uco-core': 'https://ontology.unifiedcyberontology.org/uco/core#'},\n",
       " '@graph': [{'@id': 'engagement:Narrative1',\n",
       "   '@type': 'engagement:Narrative',\n",
       "   'engagement:hasStoryline': {'@id': 'engagement:Storyline1'}},\n",
       "  {'@id': 'engagement:Storyline1',\n",
       "   '@type': 'engagement:Storyline',\n",
       "   'engagement:hasEvent': {'@id': 'uco-types:Thread1'}},\n",
       "  {'@id': 'uco-types:Thread1',\n",
       "   '@type': 'uco-types:Thread',\n",
       "   'co:element': [{'@id': 'engagement:PlannedEvent1'},\n",
       "    {'@id': 'engagement:PlannedEvent2'},\n",
       "    {'@id': 'engagement:PlannedEvent3'}],\n",
       "   'co:item': [{'@id': 'uco-types:ThreadItem1'},\n",
       "    {'@id': 'uco-types:ThreadItem2'},\n",
       "    {'@id': 'uco-types:ThreadItem3'}],\n",
       "   'co:size': {'@type': 'xsd:nonNegativeInteger', '@value': 3},\n",
       "   'uco-types:threadOriginItem': {'@id': 'uco-types:ThreadItem1'},\n",
       "   'uco-types:threadTerminalItem': {'@id': 'uco-types:ThreadItem3'}},\n",
       "  {'@id': 'uco-types:ThreadItem1',\n",
       "   '@type': 'uco-types:ThreadItem',\n",
       "   'co:itemContent': {'@id': 'engagement:PlannedEvent1'},\n",
       "   'uco-types:threadNextItem': {'@id': 'uco-types:ThreadItem2'}},\n",
       "  {'@id': 'uco-types:ThreadItem2',\n",
       "   '@type': 'uco-types:ThreadItem',\n",
       "   'co:itemContent': {'@id': 'engagement:PlannedEvent2'},\n",
       "   'uco-types:threadNextItem': {'@id': 'uco-types:ThreadItem3'},\n",
       "   'uco-types:threadPreviousItem': {'@id': 'uco-types:ThreadItem1'}},\n",
       "  {'@id': 'uco-types:ThreadItem3',\n",
       "   '@type': 'uco-types:ThreadItem',\n",
       "   'co:itemContent': {'@id': 'engagement:PlannedEvent3'},\n",
       "   'uco-types:threadPreviousItem': {'@id': 'uco-types:ThreadItem2'}},\n",
       "  {'@id': 'engagement:PlannedEvent1',\n",
       "   '@type': 'engagement:PlannedEvent',\n",
       "   'engagement:eventContext': {'@id': 'engagement:Deploy1'}},\n",
       "  {'@id': 'engagement:Deploy1',\n",
       "   '@type': 'engagement:Deploy',\n",
       "   'uco-core:performer': {'@id': 'identity:BobSmith'},\n",
       "   'uco-core:object': {'@id': 'engagement:HoneyObject1'}},\n",
       "  {'@id': 'engagement:HoneyObject1',\n",
       "   '@type': 'engagement:HoneyObject',\n",
       "   'engagement:hasCharacterization': {'@id': 'uco-core:UcoObject1'},\n",
       "   'objective:hasObjective': {'@type': 'objective:Objective',\n",
       "    '@id': 'objective:Direct'},\n",
       "   'uco-core:name': 'HoneyObject'},\n",
       "  {'@id': 'uco-core:UcoObject1',\n",
       "   '@type': 'uco-core:UcoObject',\n",
       "   'uco-core:description': 'Object characterizing the honey object'},\n",
       "  {'@id': 'identity:BobSmith',\n",
       "   '@type': 'uco-identity:Person',\n",
       "   'uco-core:hasFacet': {'@id': 'identity:BobSmithFacet'}},\n",
       "  {'@id': 'identity:BobSmithFacet',\n",
       "   '@type': 'uco-identity:SimpleNameFacet',\n",
       "   'uco-identity:familyName': 'Smith',\n",
       "   'uco-identity:givenName': 'Bob'},\n",
       "  {'@id': 'engagement:PlannedEvent2',\n",
       "   '@type': 'engagement:PlannedEvent',\n",
       "   'engagement:eventContext': {'@id': 'engagement:Beacon1'}},\n",
       "  {'@id': 'engagement:Beacon1',\n",
       "   '@type': 'engagement:Beacon',\n",
       "   'uco-core:performer': {'@id': 'engagement:Honeypot1'},\n",
       "   'uco-core:object': {'@id': 'engagement:CanaryTokenAlert1'}},\n",
       "  {'@id': 'engagement:Honeypot1',\n",
       "   '@type': 'engagement:Honeypot',\n",
       "   'engagement:hasCharacterization': {'@id': 'uco-core:UcoObject2'},\n",
       "   'objective:hasObjective': {'@type': 'objective:Objective',\n",
       "    '@id': 'objective:Detect'},\n",
       "   'uco-core:name': 'Honeypot'},\n",
       "  {'@id': 'uco-core:UcoObject2',\n",
       "   '@type': 'uco-core:UcoObject',\n",
       "   'uco-core:description': 'Object characterizing the honeypot'},\n",
       "  {'@id': 'engagement:CanaryTokenAlert1',\n",
       "   '@type': 'engagement:DataSource',\n",
       "   'engagement:hasCharacterization': {'@id': 'uco-core:UcoObject3'},\n",
       "   'objective:hasObjective': {'@type': 'objective:Objective',\n",
       "    '@id': 'objective:Alert'},\n",
       "   'uco-core:name': 'CanaryTokenAlert'},\n",
       "  {'@id': 'uco-core:UcoObject3',\n",
       "   '@type': 'uco-core:UcoObject',\n",
       "   'uco-core:description': 'Object characterizing the data source'},\n",
       "  {'@id': 'engagement:PlannedEvent3',\n",
       "   '@type': 'engagement:PlannedEvent',\n",
       "   'engagement:eventContext': {'@id': 'engagement:Alert1'}},\n",
       "  {'@id': 'engagement:Alert1',\n",
       "   '@type': 'engagement:Alert',\n",
       "   'uco-core:performer': {'@id': 'engagement:CanaryTokenAlert1'},\n",
       "   'uco-core:object': {'@id': 'identity:BobSmith'}},\n",
       "  {'@id': 'identity:BobSmith',\n",
       "   '@type': 'uco-identity:Person',\n",
       "   'uco-core:hasFacet': {'@id': 'identity:BobSmithFacet'}}]}"
      ]
     },
     "execution_count": 9,
     "metadata": {},
     "output_type": "execute_result"
    }
   ],
   "source": [
    "e"
   ]
  },
  {
   "cell_type": "code",
   "execution_count": 10,
   "id": "9918be53",
   "metadata": {},
   "outputs": [
    {
     "data": {
      "text/plain": [
       "{'objective': 'https://ontology.adversaryengagement.org/ae/objective#',\n",
       " 'engagement': 'https://ontology.adversaryengagement.org/ae/engagement#',\n",
       " 'xsd': 'http://www.w3.org/2001/XMLSchema#',\n",
       " 'uco-types': 'https://ontology.unifiedcyberontology.org/uco/types#',\n",
       " 'uco-core': 'https://ontology.unifiedcyberontology.org/uco/core#'}"
      ]
     },
     "execution_count": 10,
     "metadata": {},
     "output_type": "execute_result"
    }
   ],
   "source": [
    "e['@context'] #here are the prefix namespaces mentioned in the example"
   ]
  },
  {
   "cell_type": "code",
   "execution_count": 11,
   "id": "cb9a170f",
   "metadata": {},
   "outputs": [
    {
     "data": {
      "text/plain": [
       "[{'@id': 'engagement:Narrative1',\n",
       "  '@type': 'engagement:Narrative',\n",
       "  'engagement:hasStoryline': {'@id': 'engagement:Storyline1'}},\n",
       " {'@id': 'engagement:Storyline1',\n",
       "  '@type': 'engagement:Storyline',\n",
       "  'engagement:hasEvent': {'@id': 'uco-types:Thread1'}},\n",
       " {'@id': 'uco-types:Thread1',\n",
       "  '@type': 'uco-types:Thread',\n",
       "  'co:element': [{'@id': 'engagement:PlannedEvent1'},\n",
       "   {'@id': 'engagement:PlannedEvent2'},\n",
       "   {'@id': 'engagement:PlannedEvent3'}],\n",
       "  'co:item': [{'@id': 'uco-types:ThreadItem1'},\n",
       "   {'@id': 'uco-types:ThreadItem2'},\n",
       "   {'@id': 'uco-types:ThreadItem3'}],\n",
       "  'co:size': {'@type': 'xsd:nonNegativeInteger', '@value': 3},\n",
       "  'uco-types:threadOriginItem': {'@id': 'uco-types:ThreadItem1'},\n",
       "  'uco-types:threadTerminalItem': {'@id': 'uco-types:ThreadItem3'}},\n",
       " {'@id': 'uco-types:ThreadItem1',\n",
       "  '@type': 'uco-types:ThreadItem',\n",
       "  'co:itemContent': {'@id': 'engagement:PlannedEvent1'},\n",
       "  'uco-types:threadNextItem': {'@id': 'uco-types:ThreadItem2'}},\n",
       " {'@id': 'uco-types:ThreadItem2',\n",
       "  '@type': 'uco-types:ThreadItem',\n",
       "  'co:itemContent': {'@id': 'engagement:PlannedEvent2'},\n",
       "  'uco-types:threadNextItem': {'@id': 'uco-types:ThreadItem3'},\n",
       "  'uco-types:threadPreviousItem': {'@id': 'uco-types:ThreadItem1'}},\n",
       " {'@id': 'uco-types:ThreadItem3',\n",
       "  '@type': 'uco-types:ThreadItem',\n",
       "  'co:itemContent': {'@id': 'engagement:PlannedEvent3'},\n",
       "  'uco-types:threadPreviousItem': {'@id': 'uco-types:ThreadItem2'}},\n",
       " {'@id': 'engagement:PlannedEvent1',\n",
       "  '@type': 'engagement:PlannedEvent',\n",
       "  'engagement:eventContext': {'@id': 'engagement:Deploy1'}},\n",
       " {'@id': 'engagement:Deploy1',\n",
       "  '@type': 'engagement:Deploy',\n",
       "  'uco-core:performer': {'@id': 'identity:BobSmith'},\n",
       "  'uco-core:object': {'@id': 'engagement:HoneyObject1'}},\n",
       " {'@id': 'engagement:HoneyObject1',\n",
       "  '@type': 'engagement:HoneyObject',\n",
       "  'engagement:hasCharacterization': {'@id': 'uco-core:UcoObject1'},\n",
       "  'objective:hasObjective': {'@type': 'objective:Objective',\n",
       "   '@id': 'objective:Direct'},\n",
       "  'uco-core:name': 'HoneyObject'},\n",
       " {'@id': 'uco-core:UcoObject1',\n",
       "  '@type': 'uco-core:UcoObject',\n",
       "  'uco-core:description': 'Object characterizing the honey object'},\n",
       " {'@id': 'identity:BobSmith',\n",
       "  '@type': 'uco-identity:Person',\n",
       "  'uco-core:hasFacet': {'@id': 'identity:BobSmithFacet'}},\n",
       " {'@id': 'identity:BobSmithFacet',\n",
       "  '@type': 'uco-identity:SimpleNameFacet',\n",
       "  'uco-identity:familyName': 'Smith',\n",
       "  'uco-identity:givenName': 'Bob'},\n",
       " {'@id': 'engagement:PlannedEvent2',\n",
       "  '@type': 'engagement:PlannedEvent',\n",
       "  'engagement:eventContext': {'@id': 'engagement:Beacon1'}},\n",
       " {'@id': 'engagement:Beacon1',\n",
       "  '@type': 'engagement:Beacon',\n",
       "  'uco-core:performer': {'@id': 'engagement:Honeypot1'},\n",
       "  'uco-core:object': {'@id': 'engagement:CanaryTokenAlert1'}},\n",
       " {'@id': 'engagement:Honeypot1',\n",
       "  '@type': 'engagement:Honeypot',\n",
       "  'engagement:hasCharacterization': {'@id': 'uco-core:UcoObject2'},\n",
       "  'objective:hasObjective': {'@type': 'objective:Objective',\n",
       "   '@id': 'objective:Detect'},\n",
       "  'uco-core:name': 'Honeypot'},\n",
       " {'@id': 'uco-core:UcoObject2',\n",
       "  '@type': 'uco-core:UcoObject',\n",
       "  'uco-core:description': 'Object characterizing the honeypot'},\n",
       " {'@id': 'engagement:CanaryTokenAlert1',\n",
       "  '@type': 'engagement:DataSource',\n",
       "  'engagement:hasCharacterization': {'@id': 'uco-core:UcoObject3'},\n",
       "  'objective:hasObjective': {'@type': 'objective:Objective',\n",
       "   '@id': 'objective:Alert'},\n",
       "  'uco-core:name': 'CanaryTokenAlert'},\n",
       " {'@id': 'uco-core:UcoObject3',\n",
       "  '@type': 'uco-core:UcoObject',\n",
       "  'uco-core:description': 'Object characterizing the data source'},\n",
       " {'@id': 'engagement:PlannedEvent3',\n",
       "  '@type': 'engagement:PlannedEvent',\n",
       "  'engagement:eventContext': {'@id': 'engagement:Alert1'}},\n",
       " {'@id': 'engagement:Alert1',\n",
       "  '@type': 'engagement:Alert',\n",
       "  'uco-core:performer': {'@id': 'engagement:CanaryTokenAlert1'},\n",
       "  'uco-core:object': {'@id': 'identity:BobSmith'}},\n",
       " {'@id': 'identity:BobSmith',\n",
       "  '@type': 'uco-identity:Person',\n",
       "  'uco-core:hasFacet': {'@id': 'identity:BobSmithFacet'}}]"
      ]
     },
     "execution_count": 11,
     "metadata": {},
     "output_type": "execute_result"
    }
   ],
   "source": [
    "[i for i in e['@graph']] #here is the rest of the example"
   ]
  },
  {
   "cell_type": "code",
   "execution_count": 14,
   "id": "eabdf915",
   "metadata": {},
   "outputs": [],
   "source": [
    "description = \"\"\"\n",
    "Use one engagement:Narrative\n",
    "Use one engagement:Storyline\n",
    "Use the following people:\n",
    "    John White is a defender role\n",
    "Use three planned events:\n",
    "    Planned Event one - John White deploys a breadcrumbtrail consisting of four breadcrumbs. The objective is to direct. He also deploys a honeypot with the objective to trap.\n",
    "    Planned Event two - The honeypot beacons to the dataTarget called CommandControlCenter, the performer is the honeypot, the object is the CommandControlCenter.\n",
    "    Planned Event three - CommandControlCenter dataSource alerts John White that the honeypot was accessed. The performer is the CommandControlCenter, the object is John White\n",
    "    \"\"\"\n",
    "e = ex.prompt(description)"
   ]
  },
  {
   "cell_type": "code",
   "execution_count": 15,
   "id": "f2060595",
   "metadata": {
    "scrolled": false
   },
   "outputs": [
    {
     "data": {
      "text/plain": [
       "{'@context': {'objective': 'https://ontology.adversaryengagement.org/ae/objective#',\n",
       "  'engagement': 'https://ontology.adversaryengagement.org/ae/engagement#',\n",
       "  'xsd': 'http://www.w3.org/2001/XMLSchema#',\n",
       "  'uco-types': 'https://ontology.unifiedcyberontology.org/uco/types#',\n",
       "  'uco-core': 'https://ontology.unifiedcyberontology.org/uco/core#',\n",
       "  'identity': 'https://ontology.adversaryengagement.org/ae/identity#'},\n",
       " '@graph': [{'@id': 'engagement:Narrative1',\n",
       "   '@type': 'engagement:Narrative',\n",
       "   'engagement:hasStoryline': {'@id': 'engagement:Storyline1'}},\n",
       "  {'@id': 'engagement:Storyline1',\n",
       "   '@type': 'engagement:Storyline',\n",
       "   'engagement:hasEvent': {'@id': 'uco-types:Thread1'}},\n",
       "  {'@id': 'uco-types:Thread1',\n",
       "   '@type': 'uco-types:Thread',\n",
       "   'co:element': [{'@id': 'engagement:PlannedEvent1'},\n",
       "    {'@id': 'engagement:PlannedEvent2'},\n",
       "    {'@id': 'engagement:PlannedEvent3'}],\n",
       "   'co:item': [{'@id': 'uco-types:ThreadItem1'},\n",
       "    {'@id': 'uco-types:ThreadItem2'},\n",
       "    {'@id': 'uco-types:ThreadItem3'}],\n",
       "   'co:size': {'@type': 'xsd:nonNegativeInteger', '@value': 3},\n",
       "   'uco-types:threadOriginItem': {'@id': 'uco-types:ThreadItem1'},\n",
       "   'uco-types:threadTerminalItem': {'@id': 'uco-types:ThreadItem3'}},\n",
       "  {'@id': 'uco-types:ThreadItem1',\n",
       "   '@type': 'uco-types:ThreadItem',\n",
       "   'co:itemContent': {'@id': 'engagement:PlannedEvent1'},\n",
       "   'uco-types:threadNextItem': {'@id': 'uco-types:ThreadItem2'}},\n",
       "  {'@id': 'uco-types:ThreadItem2',\n",
       "   '@type': 'uco-types:ThreadItem',\n",
       "   'co:itemContent': {'@id': 'engagement:PlannedEvent2'},\n",
       "   'uco-types:threadNextItem': {'@id': 'uco-types:ThreadItem3'},\n",
       "   'uco-types:threadPreviousItem': {'@id': 'uco-types:ThreadItem1'}},\n",
       "  {'@id': 'uco-types:ThreadItem3',\n",
       "   '@type': 'uco-types:ThreadItem',\n",
       "   'co:itemContent': {'@id': 'engagement:PlannedEvent3'},\n",
       "   'uco-types:threadPreviousItem': {'@id': 'uco-types:ThreadItem2'}},\n",
       "  {'@id': 'engagement:PlannedEvent1',\n",
       "   '@type': 'engagement:PlannedEvent',\n",
       "   'engagement:eventContext': {'@id': 'engagement:Deploy1'}},\n",
       "  {'@id': 'engagement:Deploy1',\n",
       "   '@type': 'engagement:Deploy',\n",
       "   'uco-core:performer': {'@id': 'identity:JohnWhite'},\n",
       "   'uco-core:object': {'@id': 'engagement:BreadcrumbTrail1'}},\n",
       "  {'@id': 'engagement:BreadcrumbTrail1',\n",
       "   '@type': 'engagement:BreadcrumbTrail',\n",
       "   'engagement:hasBreadcrumb': {'@id': 'uco-types:Thread2'}},\n",
       "  {'@id': 'uco-types:Thread2',\n",
       "   '@type': 'uco-types:Thread',\n",
       "   'co:element': [{'@id': 'engagement:Breadcrumb1'},\n",
       "    {'@id': 'engagement:Breadcrumb2'},\n",
       "    {'@id': 'engagement:Breadcrumb3'},\n",
       "    {'@id': 'engagement:Breadcrumb4'}],\n",
       "   'co:item': [{'@id': 'uco-types:ThreadItem4'},\n",
       "    {'@id': 'uco-types:ThreadItem5'},\n",
       "    {'@id': 'uco-types:ThreadItem6'},\n",
       "    {'@id': 'uco-types:ThreadItem7'}],\n",
       "   'co:size': {'@type': 'xsd:nonNegativeInteger', '@value': 4},\n",
       "   'uco-types:threadOriginItem': {'@id': 'uco-types:ThreadItem4'},\n",
       "   'uco-types:threadTerminalItem': {'@id': 'uco-types:ThreadItem7'}},\n",
       "  {'@id': 'uco-types:ThreadItem4',\n",
       "   '@type': 'uco-types:ThreadItem',\n",
       "   'co:itemContent': {'@id': 'engagement:Breadcrumb1'},\n",
       "   'uco-types:threadNextItem': {'@id': 'uco-types:ThreadItem5'}},\n",
       "  {'@id': 'uco-types:ThreadItem5',\n",
       "   '@type': 'uco-types:ThreadItem',\n",
       "   'co:itemContent': {'@id': 'engagement:Breadcrumb2'},\n",
       "   'uco-types:threadNextItem': {'@id': 'uco-types:ThreadItem6'},\n",
       "   'uco-types:threadPreviousItem': {'@id': 'uco-types:ThreadItem4'}},\n",
       "  {'@id': 'uco-types:ThreadItem6',\n",
       "   '@type': 'uco-types:ThreadItem',\n",
       "   'co:itemContent': {'@id': 'engagement:Breadcrumb3'},\n",
       "   'uco-types:threadNextItem': {'@id': 'uco-types:ThreadItem7'},\n",
       "   'uco-types:threadPreviousItem': {'@id': 'uco-types:ThreadItem5'}},\n",
       "  {'@id': 'uco-types:ThreadItem7',\n",
       "   '@type': 'uco-types:ThreadItem',\n",
       "   'co:itemContent': {'@id': 'engagement:Breadcrumb4'},\n",
       "   'uco-types:threadPreviousItem': {'@id': 'uco-types:ThreadItem6'}},\n",
       "  {'@id': 'engagement:Breadcrumb1',\n",
       "   '@type': 'engagement:Breadcrumb',\n",
       "   'engagement:hasCharacterization': {'@id': 'uco-core:UcoObject1'}},\n",
       "  {'@id': 'uco-core:UcoObject1',\n",
       "   '@type': 'uco-core:UcoObject',\n",
       "   'uco-core:description': 'Characterization of Breadcrumb 1'},\n",
       "  {'@id': 'engagement:Breadcrumb2',\n",
       "   '@type': 'engagement:Breadcrumb',\n",
       "   'engagement:hasCharacterization': {'@id': 'uco-core:UcoObject2'}},\n",
       "  {'@id': 'uco-core:UcoObject2',\n",
       "   '@type': 'uco-core:UcoObject',\n",
       "   'uco-core:description': 'Characterization of Breadcrumb 2'},\n",
       "  {'@id': 'engagement:Breadcrumb3',\n",
       "   '@type': 'engagement:Breadcrumb',\n",
       "   'engagement:hasCharacterization': {'@id': 'uco-core:UcoObject3'}},\n",
       "  {'@id': 'uco-core:UcoObject3',\n",
       "   '@type': 'uco-core:UcoObject',\n",
       "   'uco-core:description': 'Characterization of Breadcrumb 3'},\n",
       "  {'@id': 'engagement:Breadcrumb4',\n",
       "   '@type': 'engagement:Breadcrumb',\n",
       "   'engagement:hasCharacterization': {'@id': 'uco-core:UcoObject4'}},\n",
       "  {'@id': 'uco-core:UcoObject4',\n",
       "   '@type': 'uco-core:UcoObject',\n",
       "   'uco-core:description': 'Characterization of Breadcrumb 4'},\n",
       "  {'@id': 'engagement:PlannedEvent2',\n",
       "   '@type': 'engagement:PlannedEvent',\n",
       "   'engagement:eventContext': {'@id': 'engagement:Beacon1'}},\n",
       "  {'@id': 'engagement:Beacon1',\n",
       "   '@type': 'engagement:Beacon',\n",
       "   'uco-core:performer': {'@id': 'identity:Honeypot1'},\n",
       "   'uco-core:object': {'@id': 'objective:CommandAndControl1'}},\n",
       "  {'@id': 'objective:CommandAndControl1',\n",
       "   '@type': 'objective:Objective',\n",
       "   'uco-core:name': 'CommandControlCenter'},\n",
       "  {'@id': 'identity:Honeypot1',\n",
       "   '@type': 'identity:Person',\n",
       "   'uco-core:hasFacet': {'@id': 'identity:SimpleNameFacet1'}},\n",
       "  {'@id': 'identity:SimpleNameFacet1',\n",
       "   '@type': 'identity:SimpleNameFacet',\n",
       "   'uco-identity:familyName': 'Honeypot',\n",
       "   'uco-identity:givenName': 'John'},\n",
       "  {'@id': 'engagement:PlannedEvent3',\n",
       "   '@type': 'engagement:PlannedEvent',\n",
       "   'engagement:eventContext': {'@id': 'engagement:Alert1'}},\n",
       "  {'@id': 'engagement:Alert1',\n",
       "   '@type': 'engagement:Alert',\n",
       "   'uco-core:performer': {'@id': 'objective:CommandAndControl1'},\n",
       "   'uco-core:object': {'@id': 'identity:JohnWhite'}},\n",
       "  {'@id': 'identity:JohnWhite',\n",
       "   '@type': 'identity:Person',\n",
       "   'uco-core:hasFacet': {'@id': 'identity:SimpleNameFacet2'}},\n",
       "  {'@id': 'identity:SimpleNameFacet2',\n",
       "   '@type': 'identity:SimpleNameFacet',\n",
       "   'uco-identity:familyName': 'White',\n",
       "   'uco-identity:givenName': 'John'}]}"
      ]
     },
     "execution_count": 15,
     "metadata": {},
     "output_type": "execute_result"
    }
   ],
   "source": [
    "e"
   ]
  },
  {
   "cell_type": "code",
   "execution_count": 16,
   "id": "c1d17545",
   "metadata": {},
   "outputs": [
    {
     "data": {
      "text/plain": [
       "{'objective': 'https://ontology.adversaryengagement.org/ae/objective#',\n",
       " 'engagement': 'https://ontology.adversaryengagement.org/ae/engagement#',\n",
       " 'xsd': 'http://www.w3.org/2001/XMLSchema#',\n",
       " 'uco-types': 'https://ontology.unifiedcyberontology.org/uco/types#',\n",
       " 'uco-core': 'https://ontology.unifiedcyberontology.org/uco/core#',\n",
       " 'identity': 'https://ontology.adversaryengagement.org/ae/identity#'}"
      ]
     },
     "execution_count": 16,
     "metadata": {},
     "output_type": "execute_result"
    }
   ],
   "source": [
    "e['@context'] #here are the prefix namespaces mentioned in the example"
   ]
  },
  {
   "cell_type": "code",
   "execution_count": null,
   "id": "b190d733",
   "metadata": {},
   "outputs": [],
   "source": []
  }
 ],
 "metadata": {
  "kernelspec": {
   "display_name": "Python 3 (ipykernel)",
   "language": "python",
   "name": "python3"
  },
  "language_info": {
   "codemirror_mode": {
    "name": "ipython",
    "version": 3
   },
   "file_extension": ".py",
   "mimetype": "text/x-python",
   "name": "python",
   "nbconvert_exporter": "python",
   "pygments_lexer": "ipython3",
   "version": "3.10.11"
  }
 },
 "nbformat": 4,
 "nbformat_minor": 5
}
