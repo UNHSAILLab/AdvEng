{
  "cells": [
    {
      "cell_type": "code",
      "execution_count": null,
      "metadata": {
        "id": "E8qWAy77Mc_n"
      },
      "outputs": [],
      "source": [
        "!pip install rdflib"
      ]
    },
    {
      "cell_type": "code",
      "execution_count": null,
      "metadata": {
        "colab": {
          "base_uri": "https://localhost:8080/"
        },
        "collapsed": true,
        "id": "daS-Mx72qfiM",
        "outputId": "33d3d843-b569-40dc-bc92-3d504e3bba67"
      },
      "outputs": [
        {
          "name": "stdout",
          "output_type": "stream",
          "text": [
            "Collecting anthropic\n",
            "  Downloading anthropic-0.33.0-py3-none-any.whl.metadata (18 kB)\n",
            "Requirement already satisfied: anyio<5,>=3.5.0 in /usr/local/lib/python3.10/dist-packages (from anthropic) (3.7.1)\n",
            "Requirement already satisfied: distro<2,>=1.7.0 in /usr/lib/python3/dist-packages (from anthropic) (1.7.0)\n",
            "Collecting httpx<1,>=0.23.0 (from anthropic)\n",
            "  Downloading httpx-0.27.0-py3-none-any.whl.metadata (7.2 kB)\n",
            "Collecting jiter<1,>=0.4.0 (from anthropic)\n",
            "  Downloading jiter-0.5.0-cp310-cp310-manylinux_2_17_x86_64.manylinux2014_x86_64.whl.metadata (3.6 kB)\n",
            "Requirement already satisfied: pydantic<3,>=1.9.0 in /usr/local/lib/python3.10/dist-packages (from anthropic) (2.8.2)\n",
            "Requirement already satisfied: sniffio in /usr/local/lib/python3.10/dist-packages (from anthropic) (1.3.1)\n",
            "Requirement already satisfied: tokenizers>=0.13.0 in /usr/local/lib/python3.10/dist-packages (from anthropic) (0.19.1)\n",
            "Requirement already satisfied: typing-extensions<5,>=4.7 in /usr/local/lib/python3.10/dist-packages (from anthropic) (4.12.2)\n",
            "Requirement already satisfied: idna>=2.8 in /usr/local/lib/python3.10/dist-packages (from anyio<5,>=3.5.0->anthropic) (3.7)\n",
            "Requirement already satisfied: exceptiongroup in /usr/local/lib/python3.10/dist-packages (from anyio<5,>=3.5.0->anthropic) (1.2.2)\n",
            "Requirement already satisfied: certifi in /usr/local/lib/python3.10/dist-packages (from httpx<1,>=0.23.0->anthropic) (2024.7.4)\n",
            "Collecting httpcore==1.* (from httpx<1,>=0.23.0->anthropic)\n",
            "  Downloading httpcore-1.0.5-py3-none-any.whl.metadata (20 kB)\n",
            "Collecting h11<0.15,>=0.13 (from httpcore==1.*->httpx<1,>=0.23.0->anthropic)\n",
            "  Downloading h11-0.14.0-py3-none-any.whl.metadata (8.2 kB)\n",
            "Requirement already satisfied: annotated-types>=0.4.0 in /usr/local/lib/python3.10/dist-packages (from pydantic<3,>=1.9.0->anthropic) (0.7.0)\n",
            "Requirement already satisfied: pydantic-core==2.20.1 in /usr/local/lib/python3.10/dist-packages (from pydantic<3,>=1.9.0->anthropic) (2.20.1)\n",
            "Requirement already satisfied: huggingface-hub<1.0,>=0.16.4 in /usr/local/lib/python3.10/dist-packages (from tokenizers>=0.13.0->anthropic) (0.23.5)\n",
            "Requirement already satisfied: filelock in /usr/local/lib/python3.10/dist-packages (from huggingface-hub<1.0,>=0.16.4->tokenizers>=0.13.0->anthropic) (3.15.4)\n",
            "Requirement already satisfied: fsspec>=2023.5.0 in /usr/local/lib/python3.10/dist-packages (from huggingface-hub<1.0,>=0.16.4->tokenizers>=0.13.0->anthropic) (2024.6.1)\n",
            "Requirement already satisfied: packaging>=20.9 in /usr/local/lib/python3.10/dist-packages (from huggingface-hub<1.0,>=0.16.4->tokenizers>=0.13.0->anthropic) (24.1)\n",
            "Requirement already satisfied: pyyaml>=5.1 in /usr/local/lib/python3.10/dist-packages (from huggingface-hub<1.0,>=0.16.4->tokenizers>=0.13.0->anthropic) (6.0.2)\n",
            "Requirement already satisfied: requests in /usr/local/lib/python3.10/dist-packages (from huggingface-hub<1.0,>=0.16.4->tokenizers>=0.13.0->anthropic) (2.32.3)\n",
            "Requirement already satisfied: tqdm>=4.42.1 in /usr/local/lib/python3.10/dist-packages (from huggingface-hub<1.0,>=0.16.4->tokenizers>=0.13.0->anthropic) (4.66.5)\n",
            "Requirement already satisfied: charset-normalizer<4,>=2 in /usr/local/lib/python3.10/dist-packages (from requests->huggingface-hub<1.0,>=0.16.4->tokenizers>=0.13.0->anthropic) (3.3.2)\n",
            "Requirement already satisfied: urllib3<3,>=1.21.1 in /usr/local/lib/python3.10/dist-packages (from requests->huggingface-hub<1.0,>=0.16.4->tokenizers>=0.13.0->anthropic) (2.0.7)\n",
            "Downloading anthropic-0.33.0-py3-none-any.whl (866 kB)\n",
            "\u001b[2K   \u001b[90m━━━━━━━━━━━━━━━━━━━━━━━━━━━━━━━━━━━━━━━━\u001b[0m \u001b[32m866.9/866.9 kB\u001b[0m \u001b[31m11.4 MB/s\u001b[0m eta \u001b[36m0:00:00\u001b[0m\n",
            "\u001b[?25hDownloading httpx-0.27.0-py3-none-any.whl (75 kB)\n",
            "\u001b[2K   \u001b[90m━━━━━━━━━━━━━━━━━━━━━━━━━━━━━━━━━━━━━━━━\u001b[0m \u001b[32m75.6/75.6 kB\u001b[0m \u001b[31m3.1 MB/s\u001b[0m eta \u001b[36m0:00:00\u001b[0m\n",
            "\u001b[?25hDownloading httpcore-1.0.5-py3-none-any.whl (77 kB)\n",
            "\u001b[2K   \u001b[90m━━━━━━━━━━━━━━━━━━━━━━━━━━━━━━━━━━━━━━━━\u001b[0m \u001b[32m77.9/77.9 kB\u001b[0m \u001b[31m3.6 MB/s\u001b[0m eta \u001b[36m0:00:00\u001b[0m\n",
            "\u001b[?25hDownloading jiter-0.5.0-cp310-cp310-manylinux_2_17_x86_64.manylinux2014_x86_64.whl (318 kB)\n",
            "\u001b[2K   \u001b[90m━━━━━━━━━━━━━━━━━━━━━━━━━━━━━━━━━━━━━━━━\u001b[0m \u001b[32m318.9/318.9 kB\u001b[0m \u001b[31m13.9 MB/s\u001b[0m eta \u001b[36m0:00:00\u001b[0m\n",
            "\u001b[?25hDownloading h11-0.14.0-py3-none-any.whl (58 kB)\n",
            "\u001b[2K   \u001b[90m━━━━━━━━━━━━━━━━━━━━━━━━━━━━━━━━━━━━━━━━\u001b[0m \u001b[32m58.3/58.3 kB\u001b[0m \u001b[31m2.7 MB/s\u001b[0m eta \u001b[36m0:00:00\u001b[0m\n",
            "\u001b[?25hInstalling collected packages: jiter, h11, httpcore, httpx, anthropic\n",
            "Successfully installed anthropic-0.33.0 h11-0.14.0 httpcore-1.0.5 httpx-0.27.0 jiter-0.5.0\n"
          ]
        }
      ],
      "source": [
        "!pip install anthropic"
      ]
    },
    {
      "cell_type": "code",
      "execution_count": null,
      "metadata": {
        "id": "JdpHC7DGqmGK"
      },
      "outputs": [],
      "source": [
        "# Please use the Claude-3.5-Sonnet API key from Anthropic\n",
        "my_api_key = '----apikey----'"
      ]
    },
    {
      "cell_type": "code",
      "execution_count": null,
      "metadata": {
        "id": "OZGlOiK4qfGB"
      },
      "outputs": [],
      "source": [
        "import anthropic\n",
        "\n",
        "client = anthropic.Anthropic(\n",
        "    # defaults to os.environ.get(\"ANTHROPIC_API_KEY\")\n",
        "    api_key=my_api_key,\n",
        ")\n"
      ]
    },
    {
      "cell_type": "code",
      "execution_count": null,
      "metadata": {
        "id": "CPog5UTmqaXO"
      },
      "outputs": [],
      "source": [
        "def create_json_ld(description):\n",
        "  message = client.messages.create(\n",
        "      model=\"claude-3-5-sonnet-20240620\",\n",
        "      max_tokens=8192,\n",
        "      temperature=1,\n",
        "      system=\"\"\"You are helping me to create an example based on the following  classes and properties.\n",
        "               Your task is to make a json-ld format example that only uses classes and properties terms from Adversary Engagement Ontology, Unified Cyber Ontology. \\n\\n\\n\n",
        "               <|Adversary Engagement Ontology Details STARTS|>\n",
        "                  Each engagement:Narrative has property:\\n    engagement:hasStoryline connects to an engagement:Storyline\\nEach engagement:Storyline has property:\\n    engagement:hasEvent connects to a uco-types:Thread\\nEach uco-types:Thread has properties:\\n    co:element contains all engagement:PlannedEvents\\n    co:item contains all uco-types:ThreadItem one each for each engagement:PlannedEvent.\\n    co:size\\n    uco-types:threadOriginItem is the uco-types:ThreadItem for the first engagement:PlannedEvent\\n    uco-types:threadTerminalItem is the uco-types:ThreadItem for the last engagement:PlannedEvent\\nEach co:size has properties:\\n    @type as xsd:nonNegativeInteger\\n    @value which is the number of uco-types:ThreadItem\\nEach uco-types:ThreadItem has property:\\n    co:itemContent is the engagement:PlannedEvent\\n    optional uco-types:threadNextItem is the next uco-types:ThreadItem for the next engagement:PlannedEvent if there is one,\\n    optional uco-types:threadPreviousItem is the previous uco-types:ThreadItem for the previous engagement:PlannedEvent if there is one\\nEach engagement:PlannedEvent has property:\\n    engagement:eventContext connects to one engagement action has property @type one of the following:\\n        engagement:Access\\n        engagement:Alert\\n        engagement:Beacon\\n        engagement:Deploy\\n        engagement:Obfuscate\\n        engagement:Respond\\nEach engagement action has properties:\\n    @type is the action\\n    uco-core:performer\\n    uco-core:object connects to one of the following engagement deception object denoted as \\\"EDO\\\" objects:\\n        engagement:Honeypot\\n        engagement:Honeytoken\\n        engagement:Breadcrumb\\n        engagement:BreadcrumbTrail\\n        engagement:LureObject\\n        engagement:HoneyObject\\n        engagement:Decoy\\n        engagement:DataSource\\nEach \\\"EDO\\\" object has properties:\\n    engagement:hasCharacterization connects to a uco-core:UcoObject\\n    objective:hasObjective with @type objective:Objective and @id with one of the following instances:\\n            objective:CommandAndControl\\n            objective:CredentialAccess\\n            objective:DevelopResource\\n            objective:Discover\\n            objective:EscalatePrivilege\\n            objective:Evade\\n            objective:Execute\\n            objective:Exfilitrate\\n            objective:GainInitialAccess\\n            objective:Impact\\n            objective:MoveLaterally\\n            objective:Persist\\n            objective:Reconnaissance\\n            objective:Affect\\n            objective:Collect\\n            objective:Detect\\n            objective:Direct\\n            objective:Disrupt\\n            objective:Elicit\\n            objective:Expose\\n            objective:Motivate\\n            objective:Plan\\n            objective:Prepare\\n            objective:Prevent\\n            objective:Reassure\\n            objective:Analyze\\n            objective:Deny\\n            objective:ElicitBehavior\\n            objective:Lure\\n            objective:TimeSink\\n            objective:Track\\n            objective:Trap\\n        uco-core:name is the objective\\nAll people have property:\\n    @type is uco-identity:Person\\n    uco-core:hasFacet that connects to one of the following: \\n        uco-identity:SimpleNameFacet which has the property:\\n            uco-identity:familyName\\n            uco-identity:givenName\\nEach uco-core:Role has properties:\\n        @id is the role\\n        uco-core:name is the role\\nEach uco-core:Role there is a uco-core:Relationship with properties:\\n    uco-core:kindofRelationship is \\\"has_Role\\\"\\n    uco-core:source connects to the person who has the role\\n    uco-core:target connects to uco-core:Role\\nEach engagement:BreadcrumbTrail has property:\\n    engagement:hasBreadcrumb connects to uco-types:Thread\\n        This uco-types:Thread has property:\\n            co:element contains all engagement:Breadcrumb that belong to this engagement:BreadcrumbTrail\\n            co:item contains all uco-types:ThreadItem one each for each engagement:Breadcrumb\\n            co:size\\n            uco-types:threadOriginItem is the uco-types:ThreadItem for the first engagement:Breadcrumb belonging to this engagement:BreadcrumbTrail\\n            uco-types:threadTerminalItem is the uco-types:ThreadItem for the last engagement:Breadcrumb belonging to this engagement:BreadcrumbTrail\\nEach engagement:Breadcrumb has the properties:\\n    engagement:hasCharacterization which connects to a uco-core:UcoObject with the property:\\n        uco-core:description which describes the object characterizing the breadcrumb\\nAll classes must include property:\\n    @type is the class\\n    @id is a unique identifier\\n    \\nIf namespace \\\"engagement\\\" prefix is used then https://ontology.adversaryengagement.org/ae/engagement#\\nIf namespace \\\"objective\\\" prefix is used then https://ontology.adversaryengagement.org/ae/objective#\\nIf namespace \\\"role\\\" prefix is used then https://ontology.adversaryengagement.org/ae/role#\\nIf namespace \\\"identity\\\" prefix is used then https://ontology.adversaryengagement.org/ae/identity#\\nIf namespace \\\"uco-core\\\" prefix is used then https://ontology.unifiedcyberontology.org/uco/core#\\nIf namespace \\\"uco-types\\\" prefix is used then https://ontology.unifiedcyberontology.org/uco/types#\\nIf namespace \\\"uco-role\\\" prefix is used then https://ontology.unifiedcyberontology.org/uco/role#\\n\n",
        "               <|Adversary Engagement Ontology Details ENDS|>\\n\\n\\n\"\"\",\n",
        "      messages=[\n",
        "          {\n",
        "              \"role\": \"user\",\n",
        "              \"content\": [\n",
        "                  {\n",
        "                      \"type\": \"text\",\n",
        "                      \"text\": f\"Please create a JSON-LD for the below description. Remember to first write down the given description and understand it properly.<|DESCRIPTION STARTS|>\\n {description} \\n<|DESCRIPTION ENDS|>\"\n",
        "                  }\n",
        "              ]\n",
        "          }\n",
        "      ],\n",
        "      extra_headers={\n",
        "          \"anthropic-beta\": \"max-tokens-3-5-sonnet-2024-07-15\"\n",
        "      }\n",
        "  )\n",
        "  return message.content[0].text, message"
      ]
    },
    {
      "cell_type": "code",
      "execution_count": null,
      "metadata": {
        "id": "jMhRcDFzrt3D"
      },
      "outputs": [],
      "source": [
        "def extract_json(text):\n",
        "    # Find content between ``` json and ```\n",
        "    pattern = r'```\\s*json\\s*(.*?)```'\n",
        "    match = re.search(pattern, text, re.DOTALL)\n",
        "\n",
        "    if match:\n",
        "        json_content = match.group(1).strip()\n",
        "        return json_content\n",
        "    else:\n",
        "        return None\n",
        "\n",
        "\n",
        "\n"
      ]
    },
    {
      "cell_type": "markdown",
      "metadata": {
        "id": "tO93L48kuwU3"
      },
      "source": [
        "#Example 1\n",
        "\n",
        "Use one engagement:Narrative\n",
        "Use one engagement:Storyline\n",
        "Use the following people:\n",
        "    Bob Smith is a defender role\n",
        "    Mary Jane is an adversary role\n",
        "Use three planned events:\n",
        "    Planned Event one - Bob Smith deploys a honeyobject enviroment and a honeytoken file containing fake user credentials called \"user-creds.dmp\". The objective is to direct and elicit.  He also deploys a honeypot with the objective to detect and trap.\n",
        "    Planned Event two - The honeypot beacons to the dataTarget called CanaryTokenAlert, the performer is the honeypot, the object is the CanaryTokenAlert.\n",
        "    Planned Event three - CanaryTokenAlert dataSource alerts Bob Smith that the second honeypot was accessed. The performer is the CanaryTokenAlert, the object is Bob Smith\n",
        "   "
      ]
    },
    {
      "cell_type": "code",
      "execution_count": null,
      "metadata": {
        "id": "FZ22sEqsu56v"
      },
      "outputs": [],
      "source": [
        "#This is an example description\n",
        "#Remember to provide sufficient detail about explicitly:\n",
        "#The actors and their roles\n",
        "#The characterization of each PlannedEvent and the actors involved\n",
        "#If an 'action' is not performed human-to-human but by an OBJECT_X/ENTITY_X to a human or ENTITY_Y/OBJECT_Y\n",
        "###specify that the performer (property) is the ENTITY_X and the object (property) is the ENTITY_Y/OBJECT_Y\n",
        "### ** SEE UCO's action namespace for full list of properties that need explicit declaration\n",
        "\n",
        "description_1 = \"\"\"\n",
        "Use one engagement:Narrative\n",
        "Use one engagement:Storyline\n",
        "Use the following people:\n",
        "    Bob Smith is a defender role\n",
        "    Mary Jane is an adversary role\n",
        "Use three planned events:\n",
        "    Planned Event one - Bob Smith deploys a honeyobject enviroment and a honeytoken file containing fake user credentials called \"user-creds.dmp\". The objective is to direct and elicit.  He also deploys a honeypot with the objective to detect and trap.\n",
        "    Planned Event two - The honeypot beacons to the dataTarget called CanaryTokenAlert, the performer is the honeypot, the object is the CanaryTokenAlert.\n",
        "    Planned Event three - CanaryTokenAlert dataSource alerts Bob Smith that the second honeypot was accessed. The performer is the CanaryTokenAlert, the object is Bob Smith\n",
        "    \"\"\""
      ]
    },
    {
      "cell_type": "code",
      "execution_count": null,
      "metadata": {
        "id": "rcffdWbcsxjx"
      },
      "outputs": [],
      "source": [
        "model_response = create_json_ld(description_1)\n",
        "extracted_json = extract_json(model_response[0])\n",
        "eg= json.loads(extracted_json)\n"
      ]
    },
    {
      "cell_type": "code",
      "execution_count": null,
      "metadata": {
        "colab": {
          "base_uri": "https://localhost:8080/"
        },
        "id": "roPixwGCrj6g",
        "outputId": "777d0692-b1e4-4a11-91ae-4f072d448c50"
      },
      "outputs": [
        {
          "data": {
            "text/plain": [
              "{'engagement': 'https://ontology.adversaryengagement.org/ae/engagement#',\n",
              " 'objective': 'https://ontology.adversaryengagement.org/ae/objective#',\n",
              " 'role': 'https://ontology.adversaryengagement.org/ae/role#',\n",
              " 'uco-core': 'https://ontology.unifiedcyberontology.org/uco/core#',\n",
              " 'uco-types': 'https://ontology.unifiedcyberontology.org/uco/types#',\n",
              " 'uco-identity': 'https://ontology.unifiedcyberontology.org/uco/identity#',\n",
              " 'co': 'http://purl.org/co/'}"
            ]
          },
          "execution_count": 21,
          "metadata": {},
          "output_type": "execute_result"
        }
      ],
      "source": [
        "eg['@context'] #here are the prefix namespaces mentioned in the example"
      ]
    },
    {
      "cell_type": "code",
      "execution_count": null,
      "metadata": {
        "colab": {
          "base_uri": "https://localhost:8080/"
        },
        "id": "nmbsRS_pvG7l",
        "outputId": "fbddfd9d-3c0a-494e-b795-9a95a2513a52"
      },
      "outputs": [
        {
          "name": "stdout",
          "output_type": "stream",
          "text": [
            "{\n",
            "    \"engagement\": \"https://ontology.adversaryengagement.org/ae/engagement#\",\n",
            "    \"objective\": \"https://ontology.adversaryengagement.org/ae/objective#\",\n",
            "    \"role\": \"https://ontology.adversaryengagement.org/ae/role#\",\n",
            "    \"uco-core\": \"https://ontology.unifiedcyberontology.org/uco/core#\",\n",
            "    \"uco-types\": \"https://ontology.unifiedcyberontology.org/uco/types#\",\n",
            "    \"uco-identity\": \"https://ontology.unifiedcyberontology.org/uco/identity#\"\n",
            "}\n"
          ]
        }
      ],
      "source": [
        "print(json.dumps(eg['@context'], indent=4)) #here are the prefix namespaces mentioned in the example\n"
      ]
    },
    {
      "cell_type": "code",
      "execution_count": null,
      "metadata": {
        "colab": {
          "base_uri": "https://localhost:8080/"
        },
        "id": "YdvWRrWwvGPB",
        "outputId": "2909a24c-fe0b-4d34-ad59-d7f25be77155"
      },
      "outputs": [
        {
          "name": "stdout",
          "output_type": "stream",
          "text": [
            "[\n",
            "    {\n",
            "        \"@id\": \"narrative1\",\n",
            "        \"@type\": \"engagement:Narrative\",\n",
            "        \"engagement:hasStoryline\": {\n",
            "            \"@id\": \"storyline1\"\n",
            "        }\n",
            "    },\n",
            "    {\n",
            "        \"@id\": \"storyline1\",\n",
            "        \"@type\": \"engagement:Storyline\",\n",
            "        \"engagement:hasEvent\": {\n",
            "            \"@id\": \"thread1\"\n",
            "        }\n",
            "    },\n",
            "    {\n",
            "        \"@id\": \"thread1\",\n",
            "        \"@type\": \"uco-types:Thread\",\n",
            "        \"co:element\": [\n",
            "            {\n",
            "                \"@id\": \"plannedEvent1\"\n",
            "            },\n",
            "            {\n",
            "                \"@id\": \"plannedEvent2\"\n",
            "            },\n",
            "            {\n",
            "                \"@id\": \"plannedEvent3\"\n",
            "            }\n",
            "        ],\n",
            "        \"co:item\": [\n",
            "            {\n",
            "                \"@id\": \"threadItem1\"\n",
            "            },\n",
            "            {\n",
            "                \"@id\": \"threadItem2\"\n",
            "            },\n",
            "            {\n",
            "                \"@id\": \"threadItem3\"\n",
            "            }\n",
            "        ],\n",
            "        \"co:size\": {\n",
            "            \"@type\": \"xsd:nonNegativeInteger\",\n",
            "            \"@value\": 3\n",
            "        },\n",
            "        \"uco-types:threadOriginItem\": {\n",
            "            \"@id\": \"threadItem1\"\n",
            "        },\n",
            "        \"uco-types:threadTerminalItem\": {\n",
            "            \"@id\": \"threadItem3\"\n",
            "        }\n",
            "    },\n",
            "    {\n",
            "        \"@id\": \"threadItem1\",\n",
            "        \"@type\": \"uco-types:ThreadItem\",\n",
            "        \"co:itemContent\": {\n",
            "            \"@id\": \"plannedEvent1\"\n",
            "        },\n",
            "        \"uco-types:threadNextItem\": {\n",
            "            \"@id\": \"threadItem2\"\n",
            "        }\n",
            "    },\n",
            "    {\n",
            "        \"@id\": \"threadItem2\",\n",
            "        \"@type\": \"uco-types:ThreadItem\",\n",
            "        \"co:itemContent\": {\n",
            "            \"@id\": \"plannedEvent2\"\n",
            "        },\n",
            "        \"uco-types:threadPreviousItem\": {\n",
            "            \"@id\": \"threadItem1\"\n",
            "        },\n",
            "        \"uco-types:threadNextItem\": {\n",
            "            \"@id\": \"threadItem3\"\n",
            "        }\n",
            "    },\n",
            "    {\n",
            "        \"@id\": \"threadItem3\",\n",
            "        \"@type\": \"uco-types:ThreadItem\",\n",
            "        \"co:itemContent\": {\n",
            "            \"@id\": \"plannedEvent3\"\n",
            "        },\n",
            "        \"uco-types:threadPreviousItem\": {\n",
            "            \"@id\": \"threadItem2\"\n",
            "        }\n",
            "    },\n",
            "    {\n",
            "        \"@id\": \"plannedEvent1\",\n",
            "        \"@type\": \"engagement:PlannedEvent\",\n",
            "        \"engagement:eventContext\": {\n",
            "            \"@id\": \"deploy1\"\n",
            "        }\n",
            "    },\n",
            "    {\n",
            "        \"@id\": \"deploy1\",\n",
            "        \"@type\": \"engagement:Deploy\",\n",
            "        \"uco-core:performer\": {\n",
            "            \"@id\": \"bobSmith\"\n",
            "        },\n",
            "        \"uco-core:object\": [\n",
            "            {\n",
            "                \"@id\": \"honeyObject1\"\n",
            "            },\n",
            "            {\n",
            "                \"@id\": \"honeytoken1\"\n",
            "            },\n",
            "            {\n",
            "                \"@id\": \"honeypot1\"\n",
            "            }\n",
            "        ]\n",
            "    },\n",
            "    {\n",
            "        \"@id\": \"honeyObject1\",\n",
            "        \"@type\": \"engagement:HoneyObject\",\n",
            "        \"engagement:hasCharacterization\": {\n",
            "            \"@type\": \"uco-core:UcoObject\",\n",
            "            \"uco-core:description\": \"Honeyobject environment\"\n",
            "        },\n",
            "        \"objective:hasObjective\": [\n",
            "            {\n",
            "                \"@id\": \"objective:Direct\"\n",
            "            },\n",
            "            {\n",
            "                \"@id\": \"objective:Elicit\"\n",
            "            }\n",
            "        ]\n",
            "    },\n",
            "    {\n",
            "        \"@id\": \"honeytoken1\",\n",
            "        \"@type\": \"engagement:Honeytoken\",\n",
            "        \"engagement:hasCharacterization\": {\n",
            "            \"@type\": \"uco-core:UcoObject\",\n",
            "            \"uco-core:description\": \"Fake user credentials file 'user-creds.dmp'\"\n",
            "        },\n",
            "        \"objective:hasObjective\": [\n",
            "            {\n",
            "                \"@id\": \"objective:Direct\"\n",
            "            },\n",
            "            {\n",
            "                \"@id\": \"objective:Elicit\"\n",
            "            }\n",
            "        ]\n",
            "    },\n",
            "    {\n",
            "        \"@id\": \"honeypot1\",\n",
            "        \"@type\": \"engagement:Honeypot\",\n",
            "        \"engagement:hasCharacterization\": {\n",
            "            \"@type\": \"uco-core:UcoObject\",\n",
            "            \"uco-core:description\": \"Honeypot for detection and trapping\"\n",
            "        },\n",
            "        \"objective:hasObjective\": [\n",
            "            {\n",
            "                \"@id\": \"objective:Detect\"\n",
            "            },\n",
            "            {\n",
            "                \"@id\": \"objective:Trap\"\n",
            "            }\n",
            "        ]\n",
            "    },\n",
            "    {\n",
            "        \"@id\": \"plannedEvent2\",\n",
            "        \"@type\": \"engagement:PlannedEvent\",\n",
            "        \"engagement:eventContext\": {\n",
            "            \"@id\": \"beacon1\"\n",
            "        }\n",
            "    },\n",
            "    {\n",
            "        \"@id\": \"beacon1\",\n",
            "        \"@type\": \"engagement:Beacon\",\n",
            "        \"uco-core:performer\": {\n",
            "            \"@id\": \"honeypot1\"\n",
            "        },\n",
            "        \"uco-core:object\": {\n",
            "            \"@id\": \"canaryTokenAlert\"\n",
            "        }\n",
            "    },\n",
            "    {\n",
            "        \"@id\": \"canaryTokenAlert\",\n",
            "        \"@type\": \"engagement:DataSource\",\n",
            "        \"engagement:hasCharacterization\": {\n",
            "            \"@type\": \"uco-core:UcoObject\",\n",
            "            \"uco-core:description\": \"CanaryTokenAlert data source\"\n",
            "        }\n",
            "    },\n",
            "    {\n",
            "        \"@id\": \"plannedEvent3\",\n",
            "        \"@type\": \"engagement:PlannedEvent\",\n",
            "        \"engagement:eventContext\": {\n",
            "            \"@id\": \"alert1\"\n",
            "        }\n",
            "    },\n",
            "    {\n",
            "        \"@id\": \"alert1\",\n",
            "        \"@type\": \"engagement:Alert\",\n",
            "        \"uco-core:performer\": {\n",
            "            \"@id\": \"canaryTokenAlert\"\n",
            "        },\n",
            "        \"uco-core:object\": {\n",
            "            \"@id\": \"bobSmith\"\n",
            "        }\n",
            "    },\n",
            "    {\n",
            "        \"@id\": \"bobSmith\",\n",
            "        \"@type\": \"uco-identity:Person\",\n",
            "        \"uco-core:hasFacet\": {\n",
            "            \"@type\": \"uco-identity:SimpleNameFacet\",\n",
            "            \"uco-identity:familyName\": \"Smith\",\n",
            "            \"uco-identity:givenName\": \"Bob\"\n",
            "        }\n",
            "    },\n",
            "    {\n",
            "        \"@id\": \"maryJane\",\n",
            "        \"@type\": \"uco-identity:Person\",\n",
            "        \"uco-core:hasFacet\": {\n",
            "            \"@type\": \"uco-identity:SimpleNameFacet\",\n",
            "            \"uco-identity:familyName\": \"Jane\",\n",
            "            \"uco-identity:givenName\": \"Mary\"\n",
            "        }\n",
            "    },\n",
            "    {\n",
            "        \"@id\": \"defenderRole\",\n",
            "        \"@type\": \"uco-core:Role\",\n",
            "        \"uco-core:name\": \"defender\"\n",
            "    },\n",
            "    {\n",
            "        \"@id\": \"adversaryRole\",\n",
            "        \"@type\": \"uco-core:Role\",\n",
            "        \"uco-core:name\": \"adversary\"\n",
            "    },\n",
            "    {\n",
            "        \"@id\": \"bobSmithRole\",\n",
            "        \"@type\": \"uco-core:Relationship\",\n",
            "        \"uco-core:kindOfRelationship\": \"has_Role\",\n",
            "        \"uco-core:source\": {\n",
            "            \"@id\": \"bobSmith\"\n",
            "        },\n",
            "        \"uco-core:target\": {\n",
            "            \"@id\": \"defenderRole\"\n",
            "        }\n",
            "    },\n",
            "    {\n",
            "        \"@id\": \"maryJaneRole\",\n",
            "        \"@type\": \"uco-core:Relationship\",\n",
            "        \"uco-core:kindOfRelationship\": \"has_Role\",\n",
            "        \"uco-core:source\": {\n",
            "            \"@id\": \"maryJane\"\n",
            "        },\n",
            "        \"uco-core:target\": {\n",
            "            \"@id\": \"adversaryRole\"\n",
            "        }\n",
            "    }\n",
            "]\n"
          ]
        }
      ],
      "source": [
        "print(json.dumps(eg['@graph'], indent=4)) #here is the rest of the example\n"
      ]
    },
    {
      "cell_type": "markdown",
      "metadata": {
        "id": "rTtoFX8bticz"
      },
      "source": [
        "# Example 2\n",
        "\n",
        "\n",
        "Use one engagement:Narrative\n",
        "Use one engagement:Storyline\n",
        "Use the following people:\n",
        "    John White is a defender role\n",
        "Use three planned events:\n",
        "    Planned Event one - John White deploys a breadcrumbtrail consisting of four breadcrumbs. The objective is to direct. He also deploys a honeypot with the objective to trap.\n",
        "    Planned Event two - The honeypot beacons to the dataTarget called CommandControlCenter, the performer is the honeypot, the object is the CommandControlCenter.\n",
        "    Planned Event three - CommandControlCenter dataSource alerts John White that the honeypot was accessed. The performer is the CommandControlCenter, the object is John White\n",
        "    \"\"\"\n"
      ]
    },
    {
      "cell_type": "code",
      "execution_count": null,
      "metadata": {
        "id": "1VNVow5ttGRQ"
      },
      "outputs": [],
      "source": [
        "description_2 = \"\"\"\n",
        "Use one engagement:Narrative\n",
        "Use one engagement:Storyline\n",
        "Use the following people:\n",
        "    John White is a defender role\n",
        "Use three planned events:\n",
        "    Planned Event one - John White deploys a breadcrumbtrail consisting of four breadcrumbs. The objective is to direct. He also deploys a honeypot with the objective to trap.\n",
        "    Planned Event two - The honeypot beacons to the dataTarget called CommandControlCenter, the performer is the honeypot, the object is the CommandControlCenter.\n",
        "    Planned Event three - CommandControlCenter dataSource alerts John White that the honeypot was accessed. The performer is the CommandControlCenter, the object is John White\n",
        "    \"\"\"\n"
      ]
    },
    {
      "cell_type": "code",
      "execution_count": null,
      "metadata": {
        "id": "p1rYEc3ttq21"
      },
      "outputs": [],
      "source": [
        "model_response = create_json_ld(description_2)\n",
        "extracted_json = extract_json(model_response[0])\n",
        "eg= json.loads(extracted_json)\n"
      ]
    },
    {
      "cell_type": "code",
      "execution_count": null,
      "metadata": {
        "colab": {
          "base_uri": "https://localhost:8080/"
        },
        "id": "ZYzDT7zOt2iD",
        "outputId": "6a415eed-16d7-4394-e608-a00653688765"
      },
      "outputs": [
        {
          "name": "stdout",
          "output_type": "stream",
          "text": [
            "{\n",
            "    \"engagement\": \"https://ontology.adversaryengagement.org/ae/engagement#\",\n",
            "    \"objective\": \"https://ontology.adversaryengagement.org/ae/objective#\",\n",
            "    \"role\": \"https://ontology.adversaryengagement.org/ae/role#\",\n",
            "    \"uco-core\": \"https://ontology.unifiedcyberontology.org/uco/core#\",\n",
            "    \"uco-types\": \"https://ontology.unifiedcyberontology.org/uco/types#\",\n",
            "    \"uco-identity\": \"https://ontology.unifiedcyberontology.org/uco/identity#\"\n",
            "}\n"
          ]
        }
      ],
      "source": [
        "#here are the prefix namespaces mentioned in the example)\n",
        "print(json.dumps(eg['@context'], indent=4))\n"
      ]
    },
    {
      "cell_type": "code",
      "execution_count": null,
      "metadata": {
        "colab": {
          "base_uri": "https://localhost:8080/"
        },
        "id": "B_xYJJRJt4uK",
        "outputId": "9be51496-9687-4e77-f443-4e9b8a8a60d9"
      },
      "outputs": [
        {
          "name": "stdout",
          "output_type": "stream",
          "text": [
            "[\n",
            "    {\n",
            "        \"@id\": \"narrative1\",\n",
            "        \"@type\": \"engagement:Narrative\",\n",
            "        \"engagement:hasStoryline\": {\n",
            "            \"@id\": \"storyline1\"\n",
            "        }\n",
            "    },\n",
            "    {\n",
            "        \"@id\": \"storyline1\",\n",
            "        \"@type\": \"engagement:Storyline\",\n",
            "        \"engagement:hasEvent\": {\n",
            "            \"@id\": \"thread1\"\n",
            "        }\n",
            "    },\n",
            "    {\n",
            "        \"@id\": \"thread1\",\n",
            "        \"@type\": \"uco-types:Thread\",\n",
            "        \"co:element\": [\n",
            "            {\n",
            "                \"@id\": \"plannedEvent1\"\n",
            "            },\n",
            "            {\n",
            "                \"@id\": \"plannedEvent2\"\n",
            "            },\n",
            "            {\n",
            "                \"@id\": \"plannedEvent3\"\n",
            "            }\n",
            "        ],\n",
            "        \"co:item\": [\n",
            "            {\n",
            "                \"@id\": \"threadItem1\"\n",
            "            },\n",
            "            {\n",
            "                \"@id\": \"threadItem2\"\n",
            "            },\n",
            "            {\n",
            "                \"@id\": \"threadItem3\"\n",
            "            }\n",
            "        ],\n",
            "        \"co:size\": {\n",
            "            \"@type\": \"xsd:nonNegativeInteger\",\n",
            "            \"@value\": 3\n",
            "        },\n",
            "        \"uco-types:threadOriginItem\": {\n",
            "            \"@id\": \"threadItem1\"\n",
            "        },\n",
            "        \"uco-types:threadTerminalItem\": {\n",
            "            \"@id\": \"threadItem3\"\n",
            "        }\n",
            "    },\n",
            "    {\n",
            "        \"@id\": \"threadItem1\",\n",
            "        \"@type\": \"uco-types:ThreadItem\",\n",
            "        \"co:itemContent\": {\n",
            "            \"@id\": \"plannedEvent1\"\n",
            "        },\n",
            "        \"uco-types:threadNextItem\": {\n",
            "            \"@id\": \"threadItem2\"\n",
            "        }\n",
            "    },\n",
            "    {\n",
            "        \"@id\": \"threadItem2\",\n",
            "        \"@type\": \"uco-types:ThreadItem\",\n",
            "        \"co:itemContent\": {\n",
            "            \"@id\": \"plannedEvent2\"\n",
            "        },\n",
            "        \"uco-types:threadPreviousItem\": {\n",
            "            \"@id\": \"threadItem1\"\n",
            "        },\n",
            "        \"uco-types:threadNextItem\": {\n",
            "            \"@id\": \"threadItem3\"\n",
            "        }\n",
            "    },\n",
            "    {\n",
            "        \"@id\": \"threadItem3\",\n",
            "        \"@type\": \"uco-types:ThreadItem\",\n",
            "        \"co:itemContent\": {\n",
            "            \"@id\": \"plannedEvent3\"\n",
            "        },\n",
            "        \"uco-types:threadPreviousItem\": {\n",
            "            \"@id\": \"threadItem2\"\n",
            "        }\n",
            "    },\n",
            "    {\n",
            "        \"@id\": \"plannedEvent1\",\n",
            "        \"@type\": \"engagement:PlannedEvent\",\n",
            "        \"engagement:eventContext\": {\n",
            "            \"@id\": \"deploy1\"\n",
            "        }\n",
            "    },\n",
            "    {\n",
            "        \"@id\": \"deploy1\",\n",
            "        \"@type\": \"engagement:Deploy\",\n",
            "        \"uco-core:performer\": {\n",
            "            \"@id\": \"bobSmith\"\n",
            "        },\n",
            "        \"uco-core:object\": [\n",
            "            {\n",
            "                \"@id\": \"honeyObject1\"\n",
            "            },\n",
            "            {\n",
            "                \"@id\": \"honeytoken1\"\n",
            "            },\n",
            "            {\n",
            "                \"@id\": \"honeypot1\"\n",
            "            }\n",
            "        ]\n",
            "    },\n",
            "    {\n",
            "        \"@id\": \"honeyObject1\",\n",
            "        \"@type\": \"engagement:HoneyObject\",\n",
            "        \"engagement:hasCharacterization\": {\n",
            "            \"@type\": \"uco-core:UcoObject\",\n",
            "            \"uco-core:description\": \"Honeyobject environment\"\n",
            "        },\n",
            "        \"objective:hasObjective\": [\n",
            "            {\n",
            "                \"@id\": \"objective:Direct\"\n",
            "            },\n",
            "            {\n",
            "                \"@id\": \"objective:Elicit\"\n",
            "            }\n",
            "        ]\n",
            "    },\n",
            "    {\n",
            "        \"@id\": \"honeytoken1\",\n",
            "        \"@type\": \"engagement:Honeytoken\",\n",
            "        \"engagement:hasCharacterization\": {\n",
            "            \"@type\": \"uco-core:UcoObject\",\n",
            "            \"uco-core:description\": \"Fake user credentials file 'user-creds.dmp'\"\n",
            "        },\n",
            "        \"objective:hasObjective\": [\n",
            "            {\n",
            "                \"@id\": \"objective:Direct\"\n",
            "            },\n",
            "            {\n",
            "                \"@id\": \"objective:Elicit\"\n",
            "            }\n",
            "        ]\n",
            "    },\n",
            "    {\n",
            "        \"@id\": \"honeypot1\",\n",
            "        \"@type\": \"engagement:Honeypot\",\n",
            "        \"engagement:hasCharacterization\": {\n",
            "            \"@type\": \"uco-core:UcoObject\",\n",
            "            \"uco-core:description\": \"Honeypot for detection and trapping\"\n",
            "        },\n",
            "        \"objective:hasObjective\": [\n",
            "            {\n",
            "                \"@id\": \"objective:Detect\"\n",
            "            },\n",
            "            {\n",
            "                \"@id\": \"objective:Trap\"\n",
            "            }\n",
            "        ]\n",
            "    },\n",
            "    {\n",
            "        \"@id\": \"plannedEvent2\",\n",
            "        \"@type\": \"engagement:PlannedEvent\",\n",
            "        \"engagement:eventContext\": {\n",
            "            \"@id\": \"beacon1\"\n",
            "        }\n",
            "    },\n",
            "    {\n",
            "        \"@id\": \"beacon1\",\n",
            "        \"@type\": \"engagement:Beacon\",\n",
            "        \"uco-core:performer\": {\n",
            "            \"@id\": \"honeypot1\"\n",
            "        },\n",
            "        \"uco-core:object\": {\n",
            "            \"@id\": \"canaryTokenAlert\"\n",
            "        }\n",
            "    },\n",
            "    {\n",
            "        \"@id\": \"canaryTokenAlert\",\n",
            "        \"@type\": \"engagement:DataSource\",\n",
            "        \"engagement:hasCharacterization\": {\n",
            "            \"@type\": \"uco-core:UcoObject\",\n",
            "            \"uco-core:description\": \"CanaryTokenAlert data source\"\n",
            "        }\n",
            "    },\n",
            "    {\n",
            "        \"@id\": \"plannedEvent3\",\n",
            "        \"@type\": \"engagement:PlannedEvent\",\n",
            "        \"engagement:eventContext\": {\n",
            "            \"@id\": \"alert1\"\n",
            "        }\n",
            "    },\n",
            "    {\n",
            "        \"@id\": \"alert1\",\n",
            "        \"@type\": \"engagement:Alert\",\n",
            "        \"uco-core:performer\": {\n",
            "            \"@id\": \"canaryTokenAlert\"\n",
            "        },\n",
            "        \"uco-core:object\": {\n",
            "            \"@id\": \"bobSmith\"\n",
            "        }\n",
            "    },\n",
            "    {\n",
            "        \"@id\": \"bobSmith\",\n",
            "        \"@type\": \"uco-identity:Person\",\n",
            "        \"uco-core:hasFacet\": {\n",
            "            \"@type\": \"uco-identity:SimpleNameFacet\",\n",
            "            \"uco-identity:familyName\": \"Smith\",\n",
            "            \"uco-identity:givenName\": \"Bob\"\n",
            "        }\n",
            "    },\n",
            "    {\n",
            "        \"@id\": \"maryJane\",\n",
            "        \"@type\": \"uco-identity:Person\",\n",
            "        \"uco-core:hasFacet\": {\n",
            "            \"@type\": \"uco-identity:SimpleNameFacet\",\n",
            "            \"uco-identity:familyName\": \"Jane\",\n",
            "            \"uco-identity:givenName\": \"Mary\"\n",
            "        }\n",
            "    },\n",
            "    {\n",
            "        \"@id\": \"defenderRole\",\n",
            "        \"@type\": \"uco-core:Role\",\n",
            "        \"uco-core:name\": \"defender\"\n",
            "    },\n",
            "    {\n",
            "        \"@id\": \"adversaryRole\",\n",
            "        \"@type\": \"uco-core:Role\",\n",
            "        \"uco-core:name\": \"adversary\"\n",
            "    },\n",
            "    {\n",
            "        \"@id\": \"bobSmithRole\",\n",
            "        \"@type\": \"uco-core:Relationship\",\n",
            "        \"uco-core:kindOfRelationship\": \"has_Role\",\n",
            "        \"uco-core:source\": {\n",
            "            \"@id\": \"bobSmith\"\n",
            "        },\n",
            "        \"uco-core:target\": {\n",
            "            \"@id\": \"defenderRole\"\n",
            "        }\n",
            "    },\n",
            "    {\n",
            "        \"@id\": \"maryJaneRole\",\n",
            "        \"@type\": \"uco-core:Relationship\",\n",
            "        \"uco-core:kindOfRelationship\": \"has_Role\",\n",
            "        \"uco-core:source\": {\n",
            "            \"@id\": \"maryJane\"\n",
            "        },\n",
            "        \"uco-core:target\": {\n",
            "            \"@id\": \"adversaryRole\"\n",
            "        }\n",
            "    }\n",
            "]\n"
          ]
        }
      ],
      "source": [
        "\n",
        "print(json.dumps(eg['@graph'], indent=4))\n"
      ]
    },
    {
      "cell_type": "markdown",
      "metadata": {
        "id": "U9xcKBmpOUKD"
      },
      "source": [
        "## Let's import the JSON-LD into an RDF graph using Python's rdflib library, and then perform some queries to ensure it works correctly"
      ]
    },
    {
      "cell_type": "code",
      "execution_count": null,
      "metadata": {
        "colab": {
          "base_uri": "https://localhost:8080/"
        },
        "id": "_O-mGIb7Mfb8",
        "outputId": "e803ccb7-8fc6-4e3f-c2c7-710629568f69"
      },
      "outputs": [
        {
          "data": {
            "text/plain": [
              "<Graph identifier=N71b5ffc386434746b86050de9032e959 (<class 'rdflib.graph.Graph'>)>"
            ]
          },
          "execution_count": 40,
          "metadata": {},
          "output_type": "execute_result"
        }
      ],
      "source": [
        "from rdflib import Graph, Namespace\n",
        "from rdflib.namespace import RDF, RDFS\n",
        "\n",
        "# Create a new graph\n",
        "g = Graph()\n",
        "\n",
        "# Parse the JSON-LD\n",
        "g.parse(data=eg, format='json-ld')"
      ]
    },
    {
      "cell_type": "code",
      "execution_count": null,
      "metadata": {
        "id": "Swb5UW2gMlHx"
      },
      "outputs": [],
      "source": [
        "\n",
        "\n",
        "# Define namespaces\n",
        "ENGAGEMENT = Namespace(\"https://ontology.adversaryengagement.org/ae/engagement#\")\n",
        "OBJECTIVE = Namespace(\"https://ontology.adversaryengagement.org/ae/objective#\")\n",
        "UCO_CORE = Namespace(\"https://ontology.unifiedcyberontology.org/uco/core#\")\n",
        "UCO_TYPES = Namespace(\"https://ontology.unifiedcyberontology.org/uco/types#\")\n",
        "UCO_IDENTITY = Namespace(\"https://ontology.unifiedcyberontology.org/uco/identity#\")\n",
        "\n",
        "# Bind namespaces\n",
        "g.bind(\"engagement\", ENGAGEMENT)\n",
        "g.bind(\"objective\", OBJECTIVE)\n",
        "g.bind(\"uco-core\", UCO_CORE)\n",
        "g.bind(\"uco-types\", UCO_TYPES)\n",
        "g.bind(\"uco-identity\", UCO_IDENTITY)\n"
      ]
    },
    {
      "cell_type": "code",
      "execution_count": null,
      "metadata": {
        "colab": {
          "base_uri": "https://localhost:8080/"
        },
        "id": "Qji2CCtgMnwi",
        "outputId": "e89231d8-603d-40a3-9739-1ab82650981d"
      },
      "outputs": [
        {
          "name": "stdout",
          "output_type": "stream",
          "text": [
            "PlannedEvents:\n",
            "file:///content/plannedEvent1\n",
            "file:///content/plannedEvent2\n",
            "file:///content/plannedEvent3\n"
          ]
        }
      ],
      "source": [
        "\n",
        "# Now let's perform some SPARQL queries\n",
        "\n",
        "# Query 1: Get all PlannedEvents\n",
        "q1 = \"\"\"\n",
        "SELECT ?event\n",
        "WHERE {\n",
        "    ?event a engagement:PlannedEvent .\n",
        "}\n",
        "\"\"\"\n",
        "print(\"PlannedEvents:\")\n",
        "for row in g.query(q1):\n",
        "    print(row.event)"
      ]
    },
    {
      "cell_type": "code",
      "execution_count": null,
      "metadata": {
        "colab": {
          "base_uri": "https://localhost:8080/"
        },
        "id": "gsuxq1xzMqLg",
        "outputId": "c8de8d3a-ebf3-449f-ab7d-9d5c271a3a58"
      },
      "outputs": [
        {
          "name": "stdout",
          "output_type": "stream",
          "text": [
            "\n",
            "Objectives of HoneyObject:\n",
            "https://ontology.adversaryengagement.org/ae/objective#Direct\n",
            "https://ontology.adversaryengagement.org/ae/objective#Elicit\n"
          ]
        }
      ],
      "source": [
        "# Query 2: Get all objectives of the HoneyObject\n",
        "q2 = \"\"\"\n",
        "SELECT ?objective\n",
        "WHERE {\n",
        "    ?honeyObject a engagement:HoneyObject ;\n",
        "                 objective:hasObjective ?objective .\n",
        "}\n",
        "\"\"\"\n",
        "print(\"\\nObjectives of HoneyObject:\")\n",
        "for row in g.query(q2):\n",
        "    print(row.objective)\n"
      ]
    },
    {
      "cell_type": "code",
      "execution_count": null,
      "metadata": {
        "colab": {
          "base_uri": "https://localhost:8080/"
        },
        "id": "-81Pv6VPMsI-",
        "outputId": "640f1318-2817-4f19-c613-6c296095885c"
      },
      "outputs": [
        {
          "name": "stdout",
          "output_type": "stream",
          "text": [
            "\n",
            "Actions with performers and objects:\n",
            "Action: file:///content/deploy1, Performer: file:///content/bobSmith, Object: file:///content/honeyObject1\n",
            "Action: file:///content/deploy1, Performer: file:///content/bobSmith, Object: file:///content/honeytoken1\n",
            "Action: file:///content/deploy1, Performer: file:///content/bobSmith, Object: file:///content/honeypot1\n",
            "Action: file:///content/beacon1, Performer: file:///content/honeypot1, Object: file:///content/canaryTokenAlert\n",
            "Action: file:///content/alert1, Performer: file:///content/canaryTokenAlert, Object: file:///content/bobSmith\n"
          ]
        }
      ],
      "source": [
        "\n",
        "\n",
        "\n",
        "# Query 3: Get the performer and object of each action\n",
        "q3 = \"\"\"\n",
        "SELECT ?action ?performer ?object\n",
        "WHERE {\n",
        "    ?event a engagement:PlannedEvent ;\n",
        "           engagement:eventContext ?action .\n",
        "    ?action uco-core:performer ?performer ;\n",
        "            uco-core:object ?object .\n",
        "}\n",
        "\"\"\"\n",
        "print(\"\\nActions with performers and objects:\")\n",
        "for row in g.query(q3):\n",
        "    print(f\"Action: {row.action}, Performer: {row.performer}, Object: {row.object}\")\n"
      ]
    },
    {
      "cell_type": "code",
      "execution_count": null,
      "metadata": {
        "colab": {
          "base_uri": "https://localhost:8080/"
        },
        "id": "_TuANYCFuVAk",
        "outputId": "7cee9584-bab5-416b-cfa9-33904bfa0484"
      },
      "outputs": [
        {
          "name": "stdout",
          "output_type": "stream",
          "text": [
            "\n",
            "People and their roles:\n",
            "Person: Bob Smith, Role: defender\n",
            "Person: Mary Jane, Role: adversary\n"
          ]
        }
      ],
      "source": [
        "\n",
        "# Query 4: Get people and their roles\n",
        "q4 = \"\"\"\n",
        "SELECT ?person ?givenName ?familyName ?role\n",
        "WHERE {\n",
        "    ?person a uco-identity:Person ;\n",
        "            uco-core:hasFacet ?facet .\n",
        "    ?facet uco-identity:givenName ?givenName ;\n",
        "           uco-identity:familyName ?familyName .\n",
        "    ?relationship uco-core:source ?person ;\n",
        "                  uco-core:target ?roleObj .\n",
        "    ?roleObj uco-core:name ?role .\n",
        "}\n",
        "\"\"\"\n",
        "print(\"\\nPeople and their roles:\")\n",
        "for row in g.query(q4):\n",
        "    print(f\"Person: {row.givenName} {row.familyName}, Role: {row.role}\")"
      ]
    }
  ],
  "metadata": {
    "colab": {
      "provenance": []
    },
    "kernelspec": {
      "display_name": "Python 3",
      "name": "python3"
    },
    "language_info": {
      "name": "python"
    }
  },
  "nbformat": 4,
  "nbformat_minor": 0
}
