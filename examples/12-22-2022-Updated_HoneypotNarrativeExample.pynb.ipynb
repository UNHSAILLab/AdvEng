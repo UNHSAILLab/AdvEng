{
 "cells": [
  {
   "cell_type": "markdown",
   "id": "4130f78b",
   "metadata": {},
   "source": [
    "# Honeypot Narrative Example"
   ]
  },
  {
   "cell_type": "markdown",
   "id": "673b1151",
   "metadata": {},
   "source": [
    "The usage of this example is to demonstrate how to narrate a sequences of expected events which representations the desired process for a deception operation."
   ]
  },
  {
   "cell_type": "markdown",
   "id": "b907a745",
   "metadata": {},
   "source": [
    "A few concepts to keep in mind:\n",
    "- `Storyline` is used to describe a set of events which relate to each other for a single trajectory of a deception operation.\n",
    "- `Narrative` or alternatively a deception campaign is the association to any and all sequences of events tied to a single identity campaign.\n",
    "- `Relationship` comes from UCO and requires adoption\n",
    "- All action classes e.g. `Access`, `Alert` rely UCO's action class and its current properties, please note the adoption.\n",
    "- `Relationship` is used to describe ordinal relationships between Events instead of properties to allow for flexibility across multiple Storylines"
   ]
  },
  {
   "cell_type": "markdown",
   "id": "206dcf2b",
   "metadata": {},
   "source": [
    "![alt text](12-22-2022-Updated_HoneypotNarrativeExample.png \"12-22-2022-Updated_HoneypotNarrativeExample\")"
   ]
  },
  {
   "cell_type": "markdown",
   "id": "d2f4e2e5",
   "metadata": {},
   "source": [
    "### 1. Event 1 (highlighted in green)\n",
    "\n",
    "The first expected event named \"def-deploy-honeytoken\" has an associated hasEventScript property, linking the Event object and the action associated with the event. Other objects and identities relating to this action are expressed through the UCO action properties e.g. `performer`,`object`.\n",
    "\n",
    "The event describes that a role defender identity deployed honeytoken credentials."
   ]
  },
  {
   "cell_type": "markdown",
   "id": "662e19e2",
   "metadata": {},
   "source": [
    "### 2. Event 2 (highlighted in red)\n",
    "\n",
    "The second expected event named \"adv-finds-honeytoken\" describe an event where some data source \"CanaryTokenAlert\" alerts a defender role that there has been access to a particular file which contains the honeytoken credentials."
   ]
  },
  {
   "cell_type": "markdown",
   "id": "02edad1e",
   "metadata": {},
   "source": [
    "### 3. Event 3 (highlighted in purple)\n",
    "\n",
    "The third expected event named \"adv-scans-honeypot\" describe an event where some data source \"NetworkLog\" which alerts a defender role that a known adversary IP pinged the honeypot."
   ]
  },
  {
   "cell_type": "markdown",
   "id": "426ce259",
   "metadata": {},
   "source": [
    "### 4. Event 4 (highlighted in blue)\n",
    "\n",
    "The last expected event named \"adv-uses-honeytoken\" describe an event where some data source \"LoginAlert\" alerts a defender role that an adversary logged into the intended Windows XP Honeypot using the honeytoken credentials."
   ]
  }
 ],
 "metadata": {
  "kernelspec": {
   "display_name": "Python 3 (ipykernel)",
   "language": "python",
   "name": "python3"
  },
  "language_info": {
   "codemirror_mode": {
    "name": "ipython",
    "version": 3
   },
   "file_extension": ".py",
   "mimetype": "text/x-python",
   "name": "python",
   "nbconvert_exporter": "python",
   "pygments_lexer": "ipython3",
   "version": "3.8.13"
  }
 },
 "nbformat": 4,
 "nbformat_minor": 5
}
