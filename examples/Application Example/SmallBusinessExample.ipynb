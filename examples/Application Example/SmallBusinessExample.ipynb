{
 "cells": [
  {
   "cell_type": "markdown",
   "id": "4cc9c001",
   "metadata": {},
   "source": [
    "# Small Business Example"
   ]
  },
  {
   "cell_type": "code",
   "execution_count": 1,
   "id": "33eb03ee",
   "metadata": {},
   "outputs": [],
   "source": [
    "# This software was produced for the U.S. Government under contract FA8702-23-C-0001,\n",
    "# and is subject to the Rights in Data-General Clause 52.227-14, Alt. IV (DEC 2007)\n",
    "# ©2023 The MITRE Corporation. Published under the Linux Foundation’s Cyber Domain Ontology project’s Apache 2 license.\n",
    "# Released under MITRE PRS 18-4297."
   ]
  },
  {
   "cell_type": "markdown",
   "id": "c82f32a4",
   "metadata": {},
   "source": [
    "After checking out the specific class instantiation tutorial examples such as `Honeypot`, `FluidDeception` and `Breadcrumb`, we believe enumerating through an application example can help our audience understand how AEO can represent and support a deception operation."
   ]
  },
  {
   "cell_type": "markdown",
   "id": "87429705",
   "metadata": {},
   "source": [
    "# Premise"
   ]
  },
  {
   "cell_type": "markdown",
   "id": "5e40b7d3",
   "metadata": {},
   "source": [
    "- You are part of a small business called <b> MineralRUs Inc.</b>, which is a small, yet critical mining company in New Hampshire specializing in rare earth elements.\n",
    "- Your main clients are from particular sectors of technology and defense industries, and are considered to be critical infrastructure. Therefore, your business and its operation is essential to the integrity of supply chains enabling those critical infrastructure.\n",
    "- MineralRUs Inc. maintains paper-based record of their key intellectual property and operational procedures, which are stored in a physical safe. This fact is known by only a select few in the company.\n",
    "- Your business has a small, unorganized computer network with only generic security infrastructure, and the company does not have the resources to employ an in-house information security team. Instead, a very small team is tasked with maintaining Operational Technology (OT) systems on the network.\n",
    "\n",
    "Your company has recently received an advisory from federal authorities, warning businesses in your industry about the rapidly growing threat of cyber espionage by state-sponsored Advanced Persistent Threats (APTs). In response, your company decides to engage an external cybersecurity provider to assist with timely incident response and prevention. The external provider recommends the employment of active adversary engagement plans, and asks you to develop a high-level deception and denial strategy."
   ]
  },
  {
   "cell_type": "markdown",
   "id": "44f72953",
   "metadata": {},
   "source": [
    "## Preplanning & Indentifying Assets"
   ]
  },
  {
   "cell_type": "markdown",
   "id": "d10a035f",
   "metadata": {},
   "source": [
    "To get started with the planning of this adversary engagement operation, we begin with an existing tool, namely the <b> Fact&Fiction/(D&D) matrix </b>. The original matrix uses Deception & Denial (D&D) technique types as the row header (for more details, see [Heckman, K. E., et al. (2015), Denial and deception in cyber defense.](https://www.researchgate.net/publication/275270540_Denial_and_Deception_in_Cyber_Defense)\n",
    "\n",
    "The <b> row header </b> outlines two types of methods that concurrently facilitate adversary engagement: <b>misleading-type methods used to reveal specific information to an adversary and ambiguity-type methods for concealing or denying information from an adversary </b>. The ambiguity-type methods for denial can be used to safe-guard assets through confusion and obfuscation, thus impeding an adversary's efforts to obtain a clear view of relevant resources and access paths. On the other hand, the misleading-type methods aim to induce a desired (mis)perception of the cyber ecosystem through the controlled revelation of real or fabricated information to an adversary.\n",
    "\n",
    "\n",
    "The <b> column header </b> refers to the <b> value of information </b> an adversary gains from some revealed event. In this specific method, fact is used to describe the asset information and fiction specifically implies the intended (mis)perception of such information. \n",
    "\n",
    "\n",
    "[remove?] Generally speaking, we do not specify actual values, but comparative concepts such as high-value, low-value or no-value in relationship with the deception operation and the expectation of value an adversary justifies for expending resources for. Extension to numerical values can be done, but is not within the scope of this example. "
   ]
  },
  {
   "cell_type": "markdown",
   "id": "c22c5153",
   "metadata": {},
   "source": [
    "|| Deception Operation Mislead-type Methods (Revealing) | Denial Operation Ambiguity-type Methods (Concealing) |\n",
    "|---| --- | --- |\n",
    "|Fact | Network in New Hampshire, business runs a mine in New Hampshire | Business relationships with a specific strategic partner, types of minerals mined given to the strategic partner, process of mineral mining that is essential to the strategic partner, amounts of mined minerals for the strategic partner, company safe location, passcodes, locations of IP keys|\n",
    "|Fiction | low-value IP is stored on the network, contained within falsified, obfuscated files | Most important IP is located in <i> this </i> specific encrypted volume |"
   ]
  },
  {
   "cell_type": "markdown",
   "id": "ddeb8358",
   "metadata": {},
   "source": [
    "1. The fiction under the Deception Operation column refers to presenting to an adversary that there is low-value intellectual property on the network such as referencing perhaps other types of non-confidential mineral mining processes and outdated contracts with public partners.\n",
    "\n",
    "2. The fact under Deception Operation refers to bits of factual but so called friendly information that can help bring realism to the deception operation and allow adversaries to validate some mutual information to minimize inconsistencies in the perception.\n",
    "\n",
    "3. The fiction under the Denial Operation refers to giving the adversary the perception that it is in the defender's interest for the network to conceal the location of the IP.\n",
    "\n",
    "4. The fact under the Denial Operation refers to the information or assets the strategic partner would like to conceal such as their business relationships and exact details about the mining process and contracted amounts of minerals provided by MineralRUs.\n",
    "\n",
    "By enumerating the assets of the business such as the intellectual property located in the safe and business operation details, we directly identify what information we would like to deny an adversary. Building on this analysis, we then decide on the appropriate adversary engagement tools and techniques for our deception and denial needs. \n",
    "\n",
    "At this point, we would like to raise a reminder that the AE ontology specializes in the characterization of deception and denial operations, but asset evaluation and risk profiling are outside the scope of this work. Such concepts and processes fall within the purview of the soon-to-come UCO Risk and Cyber Threat Intelligence (CTI) subontologies.\n",
    "\n"
   ]
  },
  {
   "cell_type": "markdown",
   "id": "636cfc24",
   "metadata": {},
   "source": [
    "## From the Narrative to a Graph"
   ]
  },
  {
   "cell_type": "markdown",
   "id": "9a1e1392",
   "metadata": {},
   "source": [
    "The Adversary Engagement Ontology provides the structure needed to transform your abstract deception operation plan into graph representation. The degree of how detailed your `Narrative` depends on how extensively refined do you want your preoperation planning to be. \n"
   ]
  },
  {
   "cell_type": "markdown",
   "id": "e2aef4be",
   "metadata": {},
   "source": [
    "### The Mapping Process"
   ]
  },
  {
   "cell_type": "markdown",
   "id": "52fdd3be",
   "metadata": {},
   "source": [
    "- 1. Start with a basic more or less static structure. Outline the sequence of planned events for the deception operation. Then comes the following iterative process:\n",
    "    - 2.a Select deception techniques and objects according to the intended fiction (cf. Fact&Fiction matrix)\n",
    "    - 2.b Evaluate the refinements: Does it deliver your desired fiction in the most feasible, effective and efficient manner?\n",
    "    - 2.c If not, repeat 2.a and 2.b until satisfied."
   ]
  },
  {
   "cell_type": "markdown",
   "id": "f3529b9b",
   "metadata": {},
   "source": [
    "### Diagram representation"
   ]
  },
  {
   "cell_type": "markdown",
   "id": "22282649",
   "metadata": {},
   "source": [
    "![SmallBusinessNarrativeExample.drawio.png](SmallBusinessNarrativeExample.drawio.png)"
   ]
  },
  {
   "cell_type": "markdown",
   "id": "3da9c8aa",
   "metadata": {},
   "source": [
    "In this diagram, the `Narrative` has very little `PlannedEvent(s)` within the `Storyline`. That's okay! Not all deception operations need to consider adversaries with straightforward access to the contents and artifacts of a network. Deception operations typically use just a subset of all the deception tools and tricks, particularly since the employment of each additional component comes with additional cost in terms of resources, risk, and operational integrity. In our example scenario of a small business, extremely complex forms of deception are deemed infeasible within their scope of available resources and risk models. \n",
    "\n",
    "- The class [`engagement:Honeypot`](https://aeontology.sail-lab.org/docs/class-engagementhoneypot.html) in this use case is used with the specific objective `objective:Direct` to lure an adversary away from the real assets of the network to this fictitious staged location. \n",
    "\n",
    "- Staged files are instantiated under the general [`engagement:LureObject`](https://aeontology.sail-lab.org/docs/class-engagementlureobject.html) class, though these can be fully real, partially real or completely facticious files. Furthermore, these `LureObject(s)` are associated with the objective `objective:Exfiltrate` which implies that these files are intended to be taken by an adversary off the network. (More complex representations may include instances associated with attack patterns for an adversary with the same objective.)\n",
    "\n",
    "- The method which we plan to be notified whether these files were removed from the network is through a canary token, however one can have other `DataSource(s)` such as a network monitor."
   ]
  },
  {
   "cell_type": "markdown",
   "id": "daa1f197",
   "metadata": {},
   "source": [
    "## Building the JSON-LD:"
   ]
  },
  {
   "cell_type": "markdown",
   "id": "2fdf4388",
   "metadata": {},
   "source": [
    "1. As with all `Narrative(s)`, we start with instantiating an [`engagement:Narrative`](https://aeontology.sail-lab.org/docs/class-engagementnarrative.html) class which is often referred to as a deception campaign and is the collection of all storylines . We also specify a large-scale operational objective to the Narrative object. This instance of an [`engagement:Narrative`](https://aeontology.sail-lab.org/docs/class-engagementnarrative.html) only has one instance of a [`engagement:Storyline`](https://aeontology.sail-lab.org/docs/class-engagementstoryline.html) attached since we have only developed one plan so far. However, we can model this with multiple `Storyline(s)` if we wanted to separate each falsified file as its own `Storyline`.\n",
    "2. An objective can be attached to describe large-scale operational objectives. Explicit objectives are considered individual, so please remember that!"
   ]
  },
  {
   "cell_type": "code",
   "execution_count": 4,
   "id": "38977911",
   "metadata": {},
   "outputs": [
    {
     "data": {
      "text/plain": [
       "{'@id': 'kb:narrative1',\n",
       " '@type': 'engagement:Narrative',\n",
       " 'engagement:hasStoryline': [{'@id': 'kb:storyline1',\n",
       "   '@type': 'engagement:Storyline',\n",
       "   'uco-core:name': 'ProtectTheFilesNarrative'}],\n",
       " 'objective:hasObjective': [{'@id': 'kb:objective1',\n",
       "   '@type': 'objective:Objective',\n",
       "   'uco-core:name': 'ProtectTheFiles'}],\n",
       " 'uco-core:description': 'Grand objective is to lure adversaries or insiders on the network away from details of the mining operations, location and passcode of the safe containing intellectual property.'}"
      ]
     },
     "execution_count": 4,
     "metadata": {},
     "output_type": "execute_result"
    }
   ],
   "source": [
    "{\n",
    "  \"@id\": \"kb:narrative1\",\n",
    "  \"@type\": \"engagement:Narrative\",\n",
    "  \"engagement:hasStoryline\": [\n",
    "    {\n",
    "      \"@id\": \"kb:storyline1\",\n",
    "      \"@type\": \"engagement:Storyline\",\n",
    "      \"uco-core:name\": \"ProtectTheFilesNarrative\"\n",
    "    }\n",
    "  ],\n",
    "  \"objective:hasObjective\": [\n",
    "    {\n",
    "      \"@id\": \"kb:objective1\",\n",
    "      \"@type\": \"objective:Objective\",\n",
    "      \"uco-core:name\": \"ProtectTheFiles\"\n",
    "    }\n",
    "  ],\n",
    "  \"uco-core:description\": \"Grand objective is to lure adversaries or insiders on the network away from details of the mining operations, location and passcode of the safe containing intellectual property.\"\n",
    "}"
   ]
  },
  {
   "cell_type": "markdown",
   "id": "9f17721e",
   "metadata": {},
   "source": [
    "3. Next, to populate the sequence of `PlannedEvent(s)`for a our instance of [`engagement:Storyline`](https://aeontology.sail-lab.org/docs/class-engagementstoryline.html), we add an event, let's call it `kb:Event1`.\n",
    "4. Each instance of [`PlannedEvent`](https://aeontology.sail-lab.org/docs/class-engagementplannedevent.html) is designed to have an action class e.g. `engagement:Deploy` by the [`engagement:eventContext`](https://aeontology.sail-lab.org/docs/prop-engagementeventcontext.html) property. By design, action concepts like `Deploy` can support properties such as `performers`, `object`, `environment` etc because of its parent class `uco-action:Action`.\n",
    "5. In this explicit case, the `object` that is `Deploy`(ed) is an instance of a [`engagement:Honeypot`](https://aeontology.sail-lab.org/docs/class-engagementhoneypot.html) with the specific objective of `objective:Direct`, implying the honeypot is used to direct adversaries to or away from other assets on the network."
   ]
  },
  {
   "cell_type": "code",
   "execution_count": 12,
   "id": "805c3e2a",
   "metadata": {},
   "outputs": [
    {
     "data": {
      "text/plain": [
       "{'@id': 'kb:Event1',\n",
       " '@type': 'engagement:PlannedEvent',\n",
       " 'engagement:eventContext': [{'@id': 'kb:deploy1',\n",
       "   '@type': 'engagement:Deploy',\n",
       "   'uco-action:object': [{'@id': 'kb:honeypot1',\n",
       "     '@type': 'engagement:Honeypot',\n",
       "     'uco-core:description': 'Fake production server to contain the fabricated files.',\n",
       "     'objective:hasObjective': [{'@id': 'objective:Direct'}]}]}]}"
      ]
     },
     "execution_count": 12,
     "metadata": {},
     "output_type": "execute_result"
    }
   ],
   "source": [
    "{\n",
    "  \"@id\": \"kb:Event1\",\n",
    "  \"@type\": \"engagement:PlannedEvent\",\n",
    "  \"engagement:eventContext\": [\n",
    "    {\n",
    "      \"@id\": \"kb:deploy1\",\n",
    "      \"@type\": \"engagement:Deploy\",\n",
    "      \"uco-action:object\": [\n",
    "        {\n",
    "          \"@id\": \"kb:honeypot1\",\n",
    "          \"@type\": \"engagement:Honeypot\",\n",
    "          \"uco-core:description\": \"Fake production server to contain the fabricated files.\",\n",
    "          \"objective:hasObjective\": [\n",
    "            {\n",
    "              \"@id\": \"objective:Direct\"\n",
    "            } \n",
    "            ]\n",
    "\n",
    "        }]\n",
    "}]\n",
    "}"
   ]
  },
  {
   "cell_type": "markdown",
   "id": "3efbf532",
   "metadata": {},
   "source": [
    "6. Besides an instance of a [`engagement:Honeypot`](https://aeontology.sail-lab.org/docs/class-engagementhoneypot.html) and the CanaryTokenAlert `dataSource`, two deception objects namely the obfuscated, falsified files were deployed during the first `PlannedEvent`. Both files `kb:obffile1` and `kb:obffile2` are an instances of a [`engagement:LureObject`](https://aeontology.sail-lab.org/docs/class-engagementlureobject.html) with the explicit objective `objective:Exfiltrate` of being exfilitrated from the network by adversaries. The first file being false information on the mining procedures used by the business and the second file refers to false passcodes in case the adversary happens to be an insider."
   ]
  },
  {
   "cell_type": "code",
   "execution_count": 2,
   "id": "4bed5478",
   "metadata": {},
   "outputs": [
    {
     "data": {
      "text/plain": [
       "{'@id': 'kb:obffile2',\n",
       " '@type': 'engagement:LureObject',\n",
       " 'uco-core:name': 'backup-safe-passcode.pdf',\n",
       " 'uco-core:description': 'Fake file of safe passcode and physical location of the safe.',\n",
       " 'objective:hasObjective': [{'@id': 'objective:Exfiltrate'}]}"
      ]
     },
     "execution_count": 2,
     "metadata": {},
     "output_type": "execute_result"
    }
   ],
   "source": [
    "{\n",
    "  \"@id\": \"kb:obffile1\",\n",
    "  \"@type\": \"engagement:LureObject\",\n",
    "  \"uco-core:name\": \"mining-procedure.pdf\",\n",
    "  \"uco-core:description\": \"Fake file of mining procedures.\",\n",
    "  \"objective:hasObjective\": [\n",
    "    {\n",
    "      \"@id\": \"objective:Exfilitrate\"\n",
    "    } \n",
    "    ]\n",
    "},\n",
    "{\n",
    "  \"@id\": \"kb:obffile2\",\n",
    "  \"@type\": \"engagement:LureObject\",\n",
    "  \"uco-core:name\": \"backup-safe-passcode.pdf\",\n",
    "  \"uco-core:description\": \"Fake file of safe passcode and physical location of the safe.\",\n",
    "  \"objective:hasObjective\": [\n",
    "    {\n",
    "      \"@id\": \"objective:Exfiltrate\"\n",
    "    } \n",
    "    ]\n",
    "}"
   ]
  },
  {
   "cell_type": "markdown",
   "id": "35bfd2cd",
   "metadata": {},
   "source": [
    "7. We also know who is going to `Deploy` the deception objects so we should also include that through the `performer` property.\n",
    "8. We also attach an objective the `Deploy` action."
   ]
  },
  {
   "cell_type": "code",
   "execution_count": 18,
   "id": "cc966a75",
   "metadata": {},
   "outputs": [
    {
     "data": {
      "text/plain": [
       "{'uco-action:performer': [{'@id': 'kb:person1',\n",
       "   '@type': 'uco-identity:Person',\n",
       "   'uco-core:hasFacet': [{'@id': 'kb:RichardRocky',\n",
       "     '@type': 'identity:SimpleNameFacet',\n",
       "     'uco-identity:familyName': 'Richard',\n",
       "     'uco-identity:givenName': 'Rocky'}]}],\n",
       " 'objective:hasObjective': [{'@id': 'objective:Deploy'}]}"
      ]
     },
     "execution_count": 18,
     "metadata": {},
     "output_type": "execute_result"
    }
   ],
   "source": [
    "{\"uco-action:performer\": [\n",
    "{\n",
    "  \"@id\": \"kb:person1\",\n",
    "  \"@type\": \"uco-identity:Person\",\n",
    "  \"uco-core:hasFacet\": [\n",
    "    {\n",
    "      \"@id\": \"kb:RichardRocky\",\n",
    "      \"@type\": \"identity:SimpleNameFacet\",\n",
    "      \"uco-identity:familyName\": \"Richard\",\n",
    "      \"uco-identity:givenName\": \"Rocky\"\n",
    "    }\n",
    "  ]\n",
    "}\n",
    "],\n",
    "\"objective:hasObjective\": [\n",
    "{\n",
    "  \"@id\": \"objective:Deploy\"\n",
    "}\n",
    "]\n",
    "}"
   ]
  },
  {
   "cell_type": "markdown",
   "id": "4304b5fa",
   "metadata": {},
   "source": [
    "9. The first instance of [`PlannedEvent`](https://aeontology.sail-lab.org/docs/class-engagementplannedevent.html) describes the deployment of the deception objects onto the network. Now we continue to what we expect to happen in the next `PlannedEvent` called `kb:Event2`. We left the property [`eventContext`](https://aeontology.sail-lab.org/docs/prop-engagementeventcontext.html) with `...` because this needs to be expanded, but we will get to that in the next step. "
   ]
  },
  {
   "cell_type": "code",
   "execution_count": null,
   "id": "983008a2",
   "metadata": {},
   "outputs": [],
   "source": [
    "{\n",
    "      \"@id\": \"kb:Event2\",\n",
    "      \"@type\": \"engagement:PlannedEvent\",\n",
    "      \"engagement:eventContext\": [...],\n",
    "      \"uco-core:name\": \"adv-exfiltrates-Obfuscated-files\"\n",
    "    }\n",
    "    "
   ]
  },
  {
   "cell_type": "markdown",
   "id": "2a7e9901",
   "metadata": {},
   "source": [
    "10. The first thing we expect is an action that is partially-observable, but not entirely. In this case, we do not actually know if a file is exfiltrated until we are alerted by our `dataSource` that it recieved a signal from the obfuscated file through the canarytoken. We include an instance of `Alert` to represent the relationship between the CanaryTokenAlert system and the obfuscated files which we are able to deduce."
   ]
  },
  {
   "cell_type": "code",
   "execution_count": null,
   "id": "fbdc4b4b",
   "metadata": {},
   "outputs": [],
   "source": [
    " {\n",
    "          \"@id\": \"kb:alert0\",\n",
    "          \"@type\": \"engagement:Alert\",\n",
    "          \"uco-action:performer\": [            \n",
    "                {\n",
    "                  \"@id\": \"kb:obffile1\"\n",
    "                },\n",
    "                {\n",
    "                  \"@id\": \"kb:obffile2\"\n",
    "                },\n",
    "                {\n",
    "                  \"@id\": \"kb:file1\",\n",
    "                  \"@type\": \"uco-observable:File\",\n",
    "                  \"uco-core:name\": \"backup-safe-passcode.pdf\",\n",
    "                  \"uco-core:hasFacet\": [\n",
    "                    {\n",
    "                      \"@id\": \"kb:filefacet1\",\n",
    "                      \"@type\": \"uco-observable:FileFacet\",\n",
    "                      \"observable:filename\": \"backup-safe-passcode.pdf\"\n",
    "                    }\n",
    "                  ]\n",
    "                },\n",
    "                {\n",
    "                  \"@id\": \"kb:file2\",\n",
    "                  \"@type\": \"uco-observable:File\",\n",
    "                  \"uco-core:name\": \"mining-procedure.pdf\",\n",
    "                  \"uco-core:hasFacet\": [\n",
    "                    {\n",
    "                      \"@id\": \"kb:filefacet1\",\n",
    "                      \"@type\": \"uco-observable:FileFacet\",\n",
    "                      \"observable:filename\": \"mining-procedure.pdf\"\n",
    "                    }\n",
    "                  ]\n",
    "                }\n",
    "          ],\n",
    "          \"uco-action:object\": [            \n",
    "            {\n",
    "              \"@id\": \"kb:DataSource1\",\n",
    "              \"@type\": \"engagement:DataSource\",\n",
    "              \"uco-core:name\": \"CanaryTokenAlert\"\n",
    "            }\n",
    "          ]\n",
    " }"
   ]
  },
  {
   "cell_type": "markdown",
   "id": "4997a411",
   "metadata": {},
   "source": [
    "11. The second thing we expect is to be alerted by some data source. Then, the action class we will use to describe this is an instance of [`Alert`](https://aeontology.sail-lab.org/docs/class-engagementalert.html). The `performer` for this instance of [`Alert`](https://aeontology.sail-lab.org/docs/class-engagementalert.html) is not going to be a person or identity, but rather an [`engagement:DataSource`](https://aeontology.sail-lab.org/docs/class-engagementdatasource.html) we call CanaryTokenAlert.\n",
    "12. The `object` property of `Alert` would be an identity such as a person such as our deployer, Richard Rocky.\n",
    "13. The attached objective to this action is `objective:Detect` because the usage of an alert is to inform a defender or identity of an event."
   ]
  },
  {
   "cell_type": "code",
   "execution_count": null,
   "id": "97a4f256",
   "metadata": {},
   "outputs": [],
   "source": [
    "{\n",
    "  \"@id\": \"kb:alert1\",\n",
    "  \"@type\": \"engagement:Alert\",\n",
    "  \"engagement:alertContext\": [...],\n",
    "  \"uco-action:object\": [\n",
    "    {\n",
    "      \"@id\": \"kb:person1\"\n",
    "    }\n",
    "  ],\n",
    "  \"uco-action:performer\": [\n",
    "    {\n",
    "      \"@id\": \"kb:DataSource1\",\n",
    "      \"@type\": \"engagement:DataSource\",\n",
    "      \"uco-core:name\": \"CanaryTokenAlert\"\n",
    "    }\n",
    "  ]\n",
    "}\n"
   ]
  },
  {
   "cell_type": "markdown",
   "id": "c6117efb",
   "metadata": {},
   "source": [
    "14. We now expand the property `alertContext` to describe what this explicit alert implies about an occurence. By design, we expect to see another action such as `Access` since the alert informed us that one of the falsified files were accessed. \n",
    "15. Unified Cyber Ontology (UCO) explicitly has a class called `uco-observable:File` which we use to instantiate the UCO object itself with an attached facet `uco-observable:FileFacet`. We reference the `kb:obffile1` instance with the property `object`."
   ]
  },
  {
   "cell_type": "markdown",
   "id": "31dbc0d4",
   "metadata": {},
   "source": [
    "`kb:obffile1`"
   ]
  },
  {
   "cell_type": "code",
   "execution_count": null,
   "id": "9c878177",
   "metadata": {},
   "outputs": [],
   "source": [
    "{\n",
    "\"engagement:alertContext\": [\n",
    "{\n",
    "  \"@id\": \"kb:access1\",\n",
    "  \"@type\": \"engagement:Access\",\n",
    "  \"uco-action:object\": [\n",
    "    {\n",
    "      \"@id\": \"kb:obffile1\",\n",
    "    },\n",
    "    {\n",
    "      \"@id\": \"kb:file1\",\n",
    "      \"@type\": \"uco-observable:File\",\n",
    "      \"uco-core:name\": \"backup-safe-passcode.pdf\",\n",
    "      \"uco-core:hasFacet\": [\n",
    "        {\n",
    "          \"@id\": \"kb:filefacet1\",\n",
    "          \"@type\": \"uco-observable:FileFacet\",\n",
    "          \"observable:filename\": \"backup-safe-passcode.pdf\"\n",
    "        }\n",
    "      ]\n",
    "    }\n",
    "  ],\n",
    "  \"uco-action:performer\": [...]\n",
    "}\n",
    "]\n",
    "}"
   ]
  },
  {
   "cell_type": "markdown",
   "id": "921ebe85",
   "metadata": {},
   "source": [
    "16. We then repeat the process for `kb:obffile2`. Additionally, we expect the `performer` of the `Access` action to be a specific person, namely Mary Moroe. This is because she is the only other person that is aware of the physical safe and has a privilege user account that would have user account access to view this file."
   ]
  },
  {
   "cell_type": "markdown",
   "id": "dcc0f568",
   "metadata": {},
   "source": [
    "`kb:obffile2`"
   ]
  },
  {
   "cell_type": "code",
   "execution_count": null,
   "id": "e60371ec",
   "metadata": {},
   "outputs": [],
   "source": [
    "{\n",
    "\"engagement:alertContext\": [\n",
    "{\n",
    "  \"@id\": \"kb:access1\",\n",
    "  \"@type\": \"engagement:Access\",\n",
    "  \"uco-action:object\": [\n",
    "    {\n",
    "      \"@id\": \"kb:obffile2\"\n",
    "    },\n",
    "    {\n",
    "      \"@id\": \"kb:file2\",\n",
    "      \"@type\": \"uco-observable:File\",\n",
    "      \"uco-core:name\": \"mining-procedure.pdf\",\n",
    "      \"uco-core:hasFacet\": [\n",
    "        {\n",
    "          \"@id\": \"kb:filefacet1\",\n",
    "          \"@type\": \"uco-observable:FileFacet\",\n",
    "          \"observable:filename\": \"mining-procedure.pdf\"\n",
    "        }\n",
    "      ]\n",
    "    }\n",
    "  ],\n",
    "  \"uco-action:performer\": [\n",
    "        {\n",
    "          \"@id\": \"kb:person2\",\n",
    "          \"@type\": \"uco-identity:Person\",\n",
    "          \"uco-core:hasFacet\": [\n",
    "            {\n",
    "              \"@id\": \"kb:MaryMoroe\",\n",
    "              \"@type\": \"identity:SimpleNameFacet\",\n",
    "              \"uco-identity:familyName\": \"Mary\",\n",
    "              \"uco-identity:givenName\": \"Moroe\"\n",
    "            }\n",
    "          ]\n",
    "        }\n",
    "  ]\n",
    "}\n",
    "]\n",
    "}"
   ]
  },
  {
   "cell_type": "markdown",
   "id": "c319339d",
   "metadata": {},
   "source": [
    "17. Now that the [`PlannedEvent`](https://aeontology.sail-lab.org/docs/class-engagementplannedevent.html) is complete, we now need to ensure that the `PlannedEvent(s)` can be used as a sequence of events tied to the [`engagement:Storyline`](https://aeontology.sail-lab.org/docs/class-engagementstoryline.html). To do this, UCO has a specific class called `uco-types:Thread` which has the structure for supporting the concepts of sequential relationships."
   ]
  },
  {
   "cell_type": "markdown",
   "id": "9a3e8443",
   "metadata": {},
   "source": [
    "18. Our explicit instance of [`engagement:Storyline`](https://aeontology.sail-lab.org/docs/class-engagementstoryline.html) uses a property called `hasEvent` to instantiate an instance of `uco-types:Thread`. The important properties of `uco-types:Thread` for our use case are: `co:element`, `co:item`, `co:size`, `uco-types:threadOriginItem`, `uco-types:threadTerminalItem`. We outline the necessary properties and will expand them separately."
   ]
  },
  {
   "cell_type": "code",
   "execution_count": 27,
   "id": "9b8ef8ac",
   "metadata": {},
   "outputs": [
    {
     "data": {
      "text/plain": [
       "{'@id': 'kb:storyline1',\n",
       " '@type': 'engagement:Storyline',\n",
       " 'engagement:hasEvent': [Ellipsis]}"
      ]
     },
     "execution_count": 27,
     "metadata": {},
     "output_type": "execute_result"
    }
   ],
   "source": [
    " {\n",
    "  \"@id\": \"kb:storyline1\",\n",
    "  \"@type\": \"engagement:Storyline\",\n",
    "      \"engagement:hasEvent\": [\n",
    "        {\n",
    "          \"@id\": \"kb:eventthread1\",\n",
    "          \"@type\": \"uco-types:Thread\",\n",
    "          \"co:element\": [...],\n",
    "          \"co:item\": [...],\n",
    "          \"co:size\": {...},\n",
    "          \"uco-types:threadOriginItem\": [...],\n",
    "          \"uco-types:threadTerminalItem\": [...]\n",
    "        }\n",
    "      ]\n",
    " }"
   ]
  },
  {
   "cell_type": "markdown",
   "id": "84ab3588",
   "metadata": {},
   "source": [
    "`co:element` refers to the elements of the `Thread` so in our case, they reference our instantiated `PlannedEvent(s)`: `kb:Event1` and `kb:Event2`"
   ]
  },
  {
   "cell_type": "code",
   "execution_count": 31,
   "id": "07035c62",
   "metadata": {},
   "outputs": [
    {
     "data": {
      "text/plain": [
       "{'co:element': [{'@id': 'kb:Event1'}, {'@id': 'kb:Event2'}]}"
      ]
     },
     "execution_count": 31,
     "metadata": {},
     "output_type": "execute_result"
    }
   ],
   "source": [
    " {\"co:element\": [\n",
    "    {\n",
    "      \"@id\": \"kb:Event1\"\n",
    "    },\n",
    "    {\n",
    "      \"@id\": \"kb:Event2\"\n",
    "    }\n",
    "  ] }"
   ]
  },
  {
   "cell_type": "markdown",
   "id": "12c6b6c9",
   "metadata": {},
   "source": [
    "`co:item` refers to the event as a thread item itself."
   ]
  },
  {
   "cell_type": "code",
   "execution_count": 32,
   "id": "e3c0d611",
   "metadata": {},
   "outputs": [
    {
     "data": {
      "text/plain": [
       "{'co:item': [{'@id': 'kb:event-thread-item1'},\n",
       "  {'@id': 'kb:event-thread-item2'}]}"
      ]
     },
     "execution_count": 32,
     "metadata": {},
     "output_type": "execute_result"
    }
   ],
   "source": [
    " {\n",
    "\n",
    "  \"co:item\": [\n",
    "    {\n",
    "      \"@id\": \"kb:event-thread-item1\"\n",
    "    },\n",
    "    {\n",
    "      \"@id\": \"kb:event-thread-item2\"\n",
    "    }\n",
    "  ]}"
   ]
  },
  {
   "cell_type": "markdown",
   "id": "d6c5197f",
   "metadata": {},
   "source": [
    "`co:size` refers to the number of thread items in the thread."
   ]
  },
  {
   "cell_type": "code",
   "execution_count": 33,
   "id": "57b70773",
   "metadata": {},
   "outputs": [
    {
     "data": {
      "text/plain": [
       "{'co:size': {'@type': 'xsd:nonNegativeInteger', '@value': '2'}}"
      ]
     },
     "execution_count": 33,
     "metadata": {},
     "output_type": "execute_result"
    }
   ],
   "source": [
    "{  \"co:size\": {\n",
    "    \"@type\": \"xsd:nonNegativeInteger\",\n",
    "    \"@value\": \"2\"\n",
    "  }}"
   ]
  },
  {
   "cell_type": "markdown",
   "id": "a81b052e",
   "metadata": {},
   "source": [
    "`uco-types:threadOriginItem` refers to the first thread item or source thread item."
   ]
  },
  {
   "cell_type": "code",
   "execution_count": 34,
   "id": "390ecde7",
   "metadata": {},
   "outputs": [
    {
     "data": {
      "text/plain": [
       "{'uco-types:threadOriginItem': [{'@id': 'kb:event-thread-item1'}]}"
      ]
     },
     "execution_count": 34,
     "metadata": {},
     "output_type": "execute_result"
    }
   ],
   "source": [
    "{  \"uco-types:threadOriginItem\": [\n",
    "    {\n",
    "      \"@id\": \"kb:event-thread-item1\"\n",
    "    }\n",
    "  ]}"
   ]
  },
  {
   "cell_type": "markdown",
   "id": "adaf0fb6",
   "metadata": {},
   "source": [
    "`uco-types:threadTerminalItem` refers to the last thread item which terminates the sequence of thread items."
   ]
  },
  {
   "cell_type": "code",
   "execution_count": 36,
   "id": "e8e7d443",
   "metadata": {},
   "outputs": [
    {
     "data": {
      "text/plain": [
       "{'uco-types:threadTerminalItem': [{'@id': 'kb:event-thread-item2'}]}"
      ]
     },
     "execution_count": 36,
     "metadata": {},
     "output_type": "execute_result"
    }
   ],
   "source": [
    " {\n",
    "  \"uco-types:threadTerminalItem\": [\n",
    "    {\n",
    "      \"@id\": \"kb:event-thread-item2\"\n",
    "    }\n",
    "  ]\n",
    "    }"
   ]
  },
  {
   "cell_type": "markdown",
   "id": "7d51b34c",
   "metadata": {},
   "source": [
    "19. Finally, in the home stretch, we need to use `uco-types:ThreadItem` to create the chain of threads using the `uco-types:threadNextItem` property and `uco-types:threadPreviousItem` property. `kb:Event1` only uses the `threadNextItem` and `kb:Event2` only uses the `threadPreviousItem`."
   ]
  },
  {
   "cell_type": "markdown",
   "id": "253d8330",
   "metadata": {},
   "source": [
    "`kb:Event1`"
   ]
  },
  {
   "cell_type": "code",
   "execution_count": 39,
   "id": "efe3b82f",
   "metadata": {},
   "outputs": [
    {
     "data": {
      "text/plain": [
       "{'@id': 'kb:event-thread-item1',\n",
       " '@type': 'uco-types:ThreadItem',\n",
       " 'co:itemContent': {'@id': 'kb:Event1'},\n",
       " 'uco-types:threadNextItem': [{'@id': 'kb:event-thread-item2'}]}"
      ]
     },
     "execution_count": 39,
     "metadata": {},
     "output_type": "execute_result"
    }
   ],
   "source": [
    "{\n",
    "      \"@id\": \"kb:event-thread-item1\",\n",
    "      \"@type\": \"uco-types:ThreadItem\",\n",
    "      \"co:itemContent\": {\n",
    "        \"@id\": \"kb:Event1\"\n",
    "      },\n",
    "      \"uco-types:threadNextItem\": [\n",
    "        {\n",
    "          \"@id\": \"kb:event-thread-item2\"\n",
    "        }\n",
    "      ]\n",
    "    }"
   ]
  },
  {
   "cell_type": "markdown",
   "id": "25239d60",
   "metadata": {},
   "source": [
    "`kb:Event2`"
   ]
  },
  {
   "cell_type": "code",
   "execution_count": 38,
   "id": "f26d9738",
   "metadata": {},
   "outputs": [
    {
     "data": {
      "text/plain": [
       "{'@id': 'kb:event-thread-item2',\n",
       " '@type': 'uco-types:ThreadItem',\n",
       " 'co:itemContent': {'@id': 'kb:Event2'},\n",
       " 'uco-types:threadPreviousItem': [{'@id': 'kb:event-thread-item1'}]}"
      ]
     },
     "execution_count": 38,
     "metadata": {},
     "output_type": "execute_result"
    }
   ],
   "source": [
    "{\n",
    "  \"@id\": \"kb:event-thread-item2\",\n",
    "  \"@type\": \"uco-types:ThreadItem\",\n",
    "  \"co:itemContent\": {\n",
    "    \"@id\": \"kb:Event2\"\n",
    "  },\n",
    "  \"uco-types:threadPreviousItem\": [\n",
    "    {\n",
    "      \"@id\": \"kb:event-thread-item1\"\n",
    "    }\n",
    "  ]\n",
    "}\n"
   ]
  },
  {
   "cell_type": "markdown",
   "id": "f21d7684",
   "metadata": {},
   "source": [
    "And voila! Your adversary engagement plan is now fully represented in a standardized knowledge graph using the AE ontology. "
   ]
  },
  {
   "cell_type": "markdown",
   "id": "82a49159",
   "metadata": {},
   "source": [
    "# Querying a Graph"
   ]
  },
  {
   "cell_type": "markdown",
   "id": "c976aa40",
   "metadata": {},
   "source": [
    "Now that we have a fully functional example which we can insert into a graph database, let's test some queries. We'll work with logistics for the narrative which can help in the development of more variance and variety of deception techniques used within the `Narrative`"
   ]
  },
  {
   "cell_type": "code",
   "execution_count": 57,
   "id": "6ac29ba1",
   "metadata": {},
   "outputs": [
    {
     "data": {
      "text/plain": [
       "<Graph identifier=N3f6735a044f846e19ecfecb90e0d2179 (<class 'rdflib.graph.Graph'>)>"
      ]
     },
     "execution_count": 57,
     "metadata": {},
     "output_type": "execute_result"
    }
   ],
   "source": [
    "import rdflib\n",
    "g = rdflib.Graph()\n",
    "narrative_example = \"SmallBusinessExample.jsonld\"\n",
    "g.parse(narrative_example)"
   ]
  },
  {
   "cell_type": "markdown",
   "id": "70fa1ef1",
   "metadata": {},
   "source": [
    "## [Q] How many deception objects were instantiated with the objective `engagement:Exfiltrate`?"
   ]
  },
  {
   "cell_type": "markdown",
   "id": "170d0e19",
   "metadata": {},
   "source": [
    "It may be useful to know how many deception objects were deployed with the objective to be exfiltrated. For our example, it is relatively easy to deploy more obfuscated files on a network than scale up the number of highly functional honeypots on a network, therefore perhaps in a revision of the deception plan, more falsified files are placed on the network for more visibility."
   ]
  },
  {
   "cell_type": "code",
   "execution_count": 58,
   "id": "db4e4d0e",
   "metadata": {},
   "outputs": [
    {
     "name": "stdout",
     "output_type": "stream",
     "text": [
      "(rdflib.term.Literal('2', datatype=rdflib.term.URIRef('http://www.w3.org/2001/XMLSchema#integer')),)\n"
     ]
    }
   ],
   "source": [
    "query = \"\"\"\n",
    "PREFIX co: <http://purl.org/co/>\n",
    "PREFIX kb: <http://example.org/kb/>\n",
    "PREFIX engagement: <https://ontology.adversaryengagement.org/ae/engagement/>\n",
    "PREFIX objective: <https://ontology.adversaryengagement.org/ae/objective/>\n",
    "\n",
    "\n",
    "SELECT (COUNT(DISTINCT ?s)  as ?count)\n",
    "\n",
    "WHERE {\n",
    " ?s objective:hasObjective ?o .\n",
    " ?s ?p objective:Exfiltrate .\n",
    "}\n",
    "\"\"\"\n",
    "for row in g.query(query):\n",
    "    print(row)"
   ]
  },
  {
   "cell_type": "markdown",
   "id": "d1786517",
   "metadata": {},
   "source": [
    "## [Q] What are the distinct objectives used during planned events that deployed objects?"
   ]
  },
  {
   "cell_type": "markdown",
   "id": "438dbf89",
   "metadata": {},
   "source": [
    "It may also be useful to know whether or not our deception operation uses a wide variety of techniques based on their objective. If we know specific characteristics of an adversary such as their attack pattern preferences, we may wish to diversify our plan or simulate a network environment that caters to their preferences for false sense of security."
   ]
  },
  {
   "cell_type": "code",
   "execution_count": 165,
   "id": "d0f7f642",
   "metadata": {},
   "outputs": [
    {
     "name": "stdout",
     "output_type": "stream",
     "text": [
      "(rdflib.term.URIRef('https://ontology.adversaryengagement.org/ae/objective/Direct'),)\n",
      "(rdflib.term.URIRef('https://ontology.adversaryengagement.org/ae/objective/Exfilitrate'),)\n"
     ]
    }
   ],
   "source": [
    "query = \"\"\"\n",
    "PREFIX co: <http://purl.org/co/>\n",
    "PREFIX kb: <http://example.org/kb/>\n",
    "PREFIX engagement: <https://ontology.adversaryengagement.org/ae/engagement/>\n",
    "PREFIX objective: <https://ontology.adversaryengagement.org/ae/objective/>\n",
    "\n",
    "\n",
    "SELECT DISTINCT ?obj \n",
    "\n",
    "WHERE {\n",
    "?allevents engagement:eventContext ?action .\n",
    "?action ?p engagement:Deploy .\n",
    "?event ?y ?action .\n",
    "?event engagement:eventContext ?action .\n",
    "?action ?has ?object .\n",
    "?object objective:hasObjective ?obj .\n",
    "}\n",
    "\"\"\"\n",
    "for row in g.query(query):\n",
    "    print(row)"
   ]
  },
  {
   "cell_type": "markdown",
   "id": "28a2bb32",
   "metadata": {},
   "source": [
    "### Full JSON-LD Format"
   ]
  },
  {
   "cell_type": "code",
   "execution_count": 1,
   "id": "fb4f644d",
   "metadata": {
    "scrolled": false
   },
   "outputs": [
    {
     "data": {
      "text/plain": [
       "{'@context': {'co': 'http://purl.org/co/',\n",
       "  'engagement': 'https://ontology.adversaryengagement.org/ae/engagement/',\n",
       "  'objective': 'https://ontology.adversaryengagement.org/ae/objective/',\n",
       "  'role': 'https://ontology.adversaryengagement.org/ae/role/',\n",
       "  'kb': 'http://example.org/kb/',\n",
       "  'rdfs': 'http://www.w3.org/2000/01/rdf-schema#',\n",
       "  'uco-action': 'https://ontology.unifiedcyberontology.org/uco/action/',\n",
       "  'uco-core': 'https://ontology.unifiedcyberontology.org/uco/core/',\n",
       "  'uco-identity': 'https://ontology.unifiedcyberontology.org/uco/identity/',\n",
       "  'uco-observable': 'https://ontology.unifiedcyberontology.org/uco/observable/',\n",
       "  'uco-types': 'https://ontology.unifiedcyberontology.org/uco/types/',\n",
       "  'xsd': 'http://www.w3.org/2001/XMLSchema#'},\n",
       " '@graph': [{'@id': 'kb:narrative1',\n",
       "   '@type': 'engagement:Narrative',\n",
       "   'engagement:hasStoryline': [{'@id': 'kb:storyline1',\n",
       "     '@type': 'engagement:Storyline',\n",
       "     'uco-core:name': 'ProtectTheFilesNarrative'}],\n",
       "   'objective:hasObjective': [{'@id': 'kb:objective1',\n",
       "     '@type': 'objective:Objective',\n",
       "     'uco-core:name': 'ProtectTheFiles'}],\n",
       "   'uco-core:description': 'Grand objective is to lure adversaries or insiders on the network away from details of the mining operations, location and passcode of the safe containing intellectual property.'},\n",
       "  {'@id': 'kb:Event1',\n",
       "   '@type': 'engagement:PlannedEvent',\n",
       "   'engagement:eventContext': [{'@id': 'kb:deploy1',\n",
       "     '@type': 'engagement:Deploy',\n",
       "     'uco-action:object': [{'@id': 'kb:honeypot1',\n",
       "       '@type': 'engagement:Honeypot',\n",
       "       'uco-core:description': 'Fake production server to contain the fabricated files.',\n",
       "       'objective:hasObjective': [{'@id': 'objective:Direct'}]},\n",
       "      {'@id': 'kb:obffile1',\n",
       "       '@type': 'engagement:LureObject',\n",
       "       'uco-core:name': 'mining-procedure.pdf',\n",
       "       'uco-core:description': 'ADO file of mining procedures.',\n",
       "       'objective:hasObjective': [{'@id': 'objective:exfiltrate'}]},\n",
       "      {'@id': 'kb:obffile2',\n",
       "       '@type': 'engagement:LureObject',\n",
       "       'uco-core:name': 'backup-safe-passcode.pdf',\n",
       "       'uco-core:description': 'ADO file of safe passcode and physical location of the safe.',\n",
       "       'objective:hasObjective': [{'@id': 'objective:exfiltrate'}]}],\n",
       "     'uco-action:performer': [{'@id': 'kb:person1',\n",
       "       '@type': 'uco-identity:Person',\n",
       "       'uco-core:hasFacet': [{'@id': 'kb:RichardRocky',\n",
       "         '@type': 'identity:SimpleNameFacet',\n",
       "         'uco-identity:familyName': 'Richard',\n",
       "         'uco-identity:givenName': 'Rocky'}]}]}],\n",
       "   'objective:hasObjective': [{'@id': 'objective:Deploy'}],\n",
       "   'uco-core:name': 'def-deploy-deception-objects'},\n",
       "  {'@id': 'kb:Event2',\n",
       "   '@type': 'engagement:PlannedEvent',\n",
       "   'engagement:eventContext': [{'@id': 'kb:alert1',\n",
       "     '@type': 'engagement:Alert',\n",
       "     'engagement:alertContext': [{'@id': 'kb:access1',\n",
       "       '@type': 'engagement:Access',\n",
       "       'uco-action:object': [{'@id': 'kb:obffile1'},\n",
       "        {'@id': 'kb:obffile2'},\n",
       "        {'@id': 'kb:file1',\n",
       "         '@type': 'uco-observable:File',\n",
       "         'uco-core:name': 'backup-safe-passcode.pdf',\n",
       "         'uco-core:hasFacet': [{'@id': 'kb:filefacet1',\n",
       "           '@type': 'uco-observable:FileFacet',\n",
       "           'observable:filename': 'backup-safe-passcode.pdf'}]},\n",
       "        {'@id': 'kb:file2',\n",
       "         '@type': 'uco-observable:File',\n",
       "         'uco-core:name': 'mining-procedure.pdf',\n",
       "         'uco-core:hasFacet': [{'@id': 'kb:filefacet1',\n",
       "           '@type': 'uco-observable:FileFacet',\n",
       "           'observable:filename': 'mining-procedure.pdf'}]}],\n",
       "       'uco-action:performer': [{'@id': 'kb:person2',\n",
       "         '@type': 'uco-identity:Person',\n",
       "         'uco-core:hasFacet': [{'@id': 'kb:MaryMoroe',\n",
       "           '@type': 'identity:SimpleNameFacet',\n",
       "           'uco-identity:familyName': 'Mary',\n",
       "           'uco-identity:givenName': 'Moroe'}]}]}],\n",
       "     'uco-action:object': [{'@id': 'kb:person1'}],\n",
       "     'uco-action:performer': [{'@id': 'kb:DataSource1',\n",
       "       '@type': 'engagement:DataSource',\n",
       "       'uco-core:name': 'CanaryTokenAlert'}]}],\n",
       "   'objective:hasObjective': [{'@id': 'objective:Detect'}],\n",
       "   'uco-core:name': 'adv-exfiltrates-Obfuscated-files'},\n",
       "  {'@id': 'kb:storyline1',\n",
       "   '@type': 'engagement:Storyline',\n",
       "   'engagement:hasEvent': [{'@id': 'kb:eventthread1',\n",
       "     '@type': 'uco-types:Thread',\n",
       "     'co:element': [{'@id': 'kb:Event1'}, {'@id': 'kb:Event2'}],\n",
       "     'co:item': [{'@id': 'kb:event-thread-item1'},\n",
       "      {'@id': 'kb:event-thread-item2'}],\n",
       "     'co:size': {'@type': 'xsd:nonNegativeInteger', '@value': '2'},\n",
       "     'uco-types:threadOriginItem': [{'@id': 'kb:event-thread-item1'}],\n",
       "     'uco-types:threadTerminalItem': [{'@id': 'kb:event-thread-item2'}]}]},\n",
       "  {'@id': 'kb:event-thread-item1',\n",
       "   '@type': 'uco-types:ThreadItem',\n",
       "   'co:itemContent': {'@id': 'kb:Event1'},\n",
       "   'uco-types:threadNextItem': [{'@id': 'kb:event-thread-item2'}]},\n",
       "  {'@id': 'kb:event-thread-item2',\n",
       "   '@type': 'uco-types:ThreadItem',\n",
       "   'co:itemContent': {'@id': 'kb:Event2'},\n",
       "   'uco-types:threadPreviousItem': [{'@id': 'kb:event-thread-item1'}]}]}"
      ]
     },
     "execution_count": 1,
     "metadata": {},
     "output_type": "execute_result"
    }
   ],
   "source": [
    "{\n",
    "  \"@context\": {\n",
    "    \"co\": \"http://purl.org/co/\",\n",
    "    \"engagement\": \"https://ontology.adversaryengagement.org/ae/engagement/\",\n",
    "    \"objective\": \"https://ontology.adversaryengagement.org/ae/objective/\",\n",
    "    \"role\": \"https://ontology.adversaryengagement.org/ae/role/\",\n",
    "    \"kb\": \"http://example.org/kb/\",\n",
    "    \"rdfs\": \"http://www.w3.org/2000/01/rdf-schema#\",\n",
    "    \"uco-action\": \"https://ontology.unifiedcyberontology.org/uco/action/\",\n",
    "    \"uco-core\": \"https://ontology.unifiedcyberontology.org/uco/core/\",\n",
    "    \"uco-identity\": \"https://ontology.unifiedcyberontology.org/uco/identity/\",\n",
    "    \"uco-observable\": \"https://ontology.unifiedcyberontology.org/uco/observable/\",\n",
    "    \"uco-types\": \"https://ontology.unifiedcyberontology.org/uco/types/\",\n",
    "    \"xsd\": \"http://www.w3.org/2001/XMLSchema#\"\n",
    "  },\n",
    "  \"@graph\": [\n",
    "    {\n",
    "      \"@id\": \"kb:narrative1\",\n",
    "      \"@type\": \"engagement:Narrative\",\n",
    "      \"engagement:hasStoryline\": [\n",
    "        {\n",
    "          \"@id\": \"kb:storyline1\",\n",
    "          \"@type\": \"engagement:Storyline\",\n",
    "          \"uco-core:name\": \"ProtectTheFilesNarrative\"\n",
    "        }\n",
    "      ],\n",
    "      \"objective:hasObjective\": [\n",
    "        {\n",
    "          \"@id\": \"kb:objective1\",\n",
    "          \"@type\": \"objective:Objective\",\n",
    "          \"uco-core:name\": \"ProtectTheFiles\"\n",
    "        }\n",
    "      ],\n",
    "      \"uco-core:description\": \"Grand objective is to lure adversaries or insiders on the network away from details of the mining operations, location and passcode of the safe containing intellectual property.\"\n",
    "    },\n",
    "    {\n",
    "      \"@id\": \"kb:Event1\",\n",
    "      \"@type\": \"engagement:PlannedEvent\",\n",
    "      \"engagement:eventContext\": [\n",
    "        {\n",
    "          \"@id\": \"kb:deploy1\",\n",
    "          \"@type\": \"engagement:Deploy\",\n",
    "          \"uco-action:object\": [\n",
    "            {\n",
    "              \"@id\": \"kb:honeypot1\",\n",
    "              \"@type\": \"engagement:Honeypot\",\n",
    "              \"uco-core:description\": \"Fake production server to contain the fabricated files.\",\n",
    "              \"objective:hasObjective\": [\n",
    "                {\n",
    "                  \"@id\": \"objective:Direct\"\n",
    "                } \n",
    "                ]\n",
    "                \n",
    "            },\n",
    "            {\n",
    "              \"@id\": \"kb:obffile1\",\n",
    "              \"@type\": \"engagement:LureObject\",\n",
    "              \"uco-core:name\": \"mining-procedure.pdf\",\n",
    "              \"uco-core:description\": \"ADO file of mining procedures.\",\n",
    "              \"objective:hasObjective\": [\n",
    "                {\n",
    "                  \"@id\": \"objective:Exfiltrate\"\n",
    "                } \n",
    "                ]\n",
    "            },\n",
    "            {\n",
    "              \"@id\": \"kb:obffile2\",\n",
    "              \"@type\": \"engagement:LureObject\",\n",
    "              \"uco-core:name\": \"backup-safe-passcode.pdf\",\n",
    "              \"uco-core:description\": \"ADO file of safe passcode and physical location of the safe.\",\n",
    "              \"objective:hasObjective\": [\n",
    "                {\n",
    "                  \"@id\": \"objective:Exfiltrate\"\n",
    "                } \n",
    "                ]\n",
    "            }\n",
    "          ],\n",
    "          \"uco-action:performer\": [\n",
    "            {\n",
    "              \"@id\": \"kb:person1\",\n",
    "              \"@type\": \"uco-identity:Person\",\n",
    "              \"uco-core:hasFacet\": [\n",
    "                {\n",
    "                  \"@id\": \"kb:RichardRocky\",\n",
    "                  \"@type\": \"identity:SimpleNameFacet\",\n",
    "                  \"uco-identity:familyName\": \"Richard\",\n",
    "                  \"uco-identity:givenName\": \"Rocky\"\n",
    "                }\n",
    "              ]\n",
    "            }\n",
    "          ]\n",
    "        }\n",
    "      ],\n",
    "      \"objective:hasObjective\": [\n",
    "        {\n",
    "          \"@id\": \"objective:Deploy\"\n",
    "        }\n",
    "      ],\n",
    "      \"uco-core:name\": \"def-deploy-deception-objects\"\n",
    "    },\n",
    "    {\n",
    "      \"@id\": \"kb:Event2\",\n",
    "      \"@type\": \"engagement:PlannedEvent\",\n",
    "      \"engagement:eventContext\": [\n",
    " {\n",
    "          \"@id\": \"kb:alert0\",\n",
    "          \"@type\": \"engagement:Alert\",\n",
    "          \"uco-action:performer\": [            \n",
    "                {\n",
    "                  \"@id\": \"kb:obffile1\"\n",
    "                },\n",
    "                {\n",
    "                  \"@id\": \"kb:obffile2\"\n",
    "                },\n",
    "                {\n",
    "                  \"@id\": \"kb:file1\",\n",
    "                  \"@type\": \"uco-observable:File\",\n",
    "                  \"uco-core:name\": \"backup-safe-passcode.pdf\",\n",
    "                  \"uco-core:hasFacet\": [\n",
    "                    {\n",
    "                      \"@id\": \"kb:filefacet1\",\n",
    "                      \"@type\": \"uco-observable:FileFacet\",\n",
    "                      \"observable:filename\": \"backup-safe-passcode.pdf\"\n",
    "                    }\n",
    "                  ]\n",
    "                },\n",
    "                {\n",
    "                  \"@id\": \"kb:file2\",\n",
    "                  \"@type\": \"uco-observable:File\",\n",
    "                  \"uco-core:name\": \"mining-procedure.pdf\",\n",
    "                  \"uco-core:hasFacet\": [\n",
    "                    {\n",
    "                      \"@id\": \"kb:filefacet1\",\n",
    "                      \"@type\": \"uco-observable:FileFacet\",\n",
    "                      \"observable:filename\": \"mining-procedure.pdf\"\n",
    "                    }\n",
    "                  ]\n",
    "                }\n",
    "          ],\n",
    "          \"uco-action:object\": [            \n",
    "            {\n",
    "              \"@id\": \"kb:DataSource1\",\n",
    "              \"@type\": \"engagement:DataSource\",\n",
    "              \"uco-core:name\": \"CanaryTokenAlert\"\n",
    "            }\n",
    "          ]\n",
    " },\n",
    "          \n",
    "          \n",
    "        {\n",
    "          \"@id\": \"kb:alert1\",\n",
    "          \"@type\": \"engagement:Alert\",\n",
    "          \"engagement:alertContext\": [\n",
    "            {\n",
    "              \"@id\": \"kb:access1\",\n",
    "              \"@type\": \"engagement:Access\",\n",
    "              \"uco-action:object\": [\n",
    "                {\n",
    "                  \"@id\": \"kb:obffile1\"\n",
    "                },\n",
    "                {\n",
    "                  \"@id\": \"kb:obffile2\"\n",
    "                },\n",
    "                {\n",
    "                  \"@id\": \"kb:file1\",\n",
    "                  \"@type\": \"uco-observable:File\",\n",
    "                  \"uco-core:name\": \"backup-safe-passcode.pdf\",\n",
    "                  \"uco-core:hasFacet\": [\n",
    "                    {\n",
    "                      \"@id\": \"kb:filefacet1\",\n",
    "                      \"@type\": \"uco-observable:FileFacet\",\n",
    "                      \"observable:filename\": \"backup-safe-passcode.pdf\"\n",
    "                    }\n",
    "                  ]\n",
    "                },\n",
    "                {\n",
    "                  \"@id\": \"kb:file2\",\n",
    "                  \"@type\": \"uco-observable:File\",\n",
    "                  \"uco-core:name\": \"mining-procedure.pdf\",\n",
    "                  \"uco-core:hasFacet\": [\n",
    "                    {\n",
    "                      \"@id\": \"kb:filefacet1\",\n",
    "                      \"@type\": \"uco-observable:FileFacet\",\n",
    "                      \"observable:filename\": \"mining-procedure.pdf\"\n",
    "                    }\n",
    "                  ]\n",
    "                }\n",
    "              ],\n",
    "              \"uco-action:performer\": [\n",
    "                    {\n",
    "                      \"@id\": \"kb:person2\",\n",
    "                      \"@type\": \"uco-identity:Person\",\n",
    "                      \"uco-core:hasFacet\": [\n",
    "                        {\n",
    "                          \"@id\": \"kb:MaryMoroe\",\n",
    "                          \"@type\": \"identity:SimpleNameFacet\",\n",
    "                          \"uco-identity:familyName\": \"Mary\",\n",
    "                          \"uco-identity:givenName\": \"Moroe\"\n",
    "                        }\n",
    "                      ]\n",
    "                    }\n",
    "              ]\n",
    "            }\n",
    "          ],\n",
    "          \"uco-action:object\": [\n",
    "            {\n",
    "              \"@id\": \"kb:person1\"\n",
    "            }\n",
    "          ],\n",
    "          \"uco-action:performer\": [\n",
    "            {\n",
    "              \"@id\": \"kb:DataSource1\",\n",
    "              \"@type\": \"engagement:DataSource\",\n",
    "              \"uco-core:name\": \"CanaryTokenAlert\"\n",
    "            }\n",
    "          ]\n",
    "        }\n",
    "      ],\n",
    "      \"objective:hasObjective\": [\n",
    "        {\n",
    "          \"@id\": \"objective:Detect\"\n",
    "        }\n",
    "      ],\n",
    "      \"uco-core:name\": \"adv-exfiltrates-Obfuscated-files\"\n",
    "    },\n",
    "    \n",
    "    {\n",
    "      \"@id\": \"kb:storyline1\",\n",
    "      \"@type\": \"engagement:Storyline\",\n",
    "      \"engagement:hasEvent\": [\n",
    "        {\n",
    "          \"@id\": \"kb:eventthread1\",\n",
    "          \"@type\": \"uco-types:Thread\",\n",
    "          \"co:element\": [\n",
    "            {\n",
    "              \"@id\": \"kb:Event1\"\n",
    "            },\n",
    "            {\n",
    "              \"@id\": \"kb:Event2\"\n",
    "            }\n",
    "          ],\n",
    "          \"co:item\": [\n",
    "            {\n",
    "              \"@id\": \"kb:event-thread-item1\"\n",
    "            },\n",
    "            {\n",
    "              \"@id\": \"kb:event-thread-item2\"\n",
    "            }\n",
    "          ],\n",
    "          \"co:size\": {\n",
    "            \"@type\": \"xsd:nonNegativeInteger\",\n",
    "            \"@value\": \"2\"\n",
    "          },\n",
    "          \"uco-types:threadOriginItem\": [\n",
    "            {\n",
    "              \"@id\": \"kb:event-thread-item1\"\n",
    "            }\n",
    "          ],\n",
    "          \"uco-types:threadTerminalItem\": [\n",
    "            {\n",
    "              \"@id\": \"kb:event-thread-item2\"\n",
    "            }\n",
    "          ]\n",
    "        }\n",
    "      ]\n",
    "    },\n",
    "    {\n",
    "      \"@id\": \"kb:event-thread-item1\",\n",
    "      \"@type\": \"uco-types:ThreadItem\",\n",
    "      \"co:itemContent\": {\n",
    "        \"@id\": \"kb:Event1\"\n",
    "      },\n",
    "      \"uco-types:threadNextItem\": [\n",
    "        {\n",
    "          \"@id\": \"kb:event-thread-item2\"\n",
    "        }\n",
    "      ]\n",
    "    },\n",
    "    {\n",
    "      \"@id\": \"kb:event-thread-item2\",\n",
    "      \"@type\": \"uco-types:ThreadItem\",\n",
    "      \"co:itemContent\": {\n",
    "        \"@id\": \"kb:Event2\"\n",
    "      },\n",
    "      \"uco-types:threadPreviousItem\": [\n",
    "        {\n",
    "          \"@id\": \"kb:event-thread-item1\"\n",
    "        }\n",
    "      ]\n",
    "    }\n",
    "  ]\n",
    "}\n"
   ]
  },
  {
   "cell_type": "markdown",
   "id": "53cfbb79",
   "metadata": {},
   "source": [
    "Note: Objectives are considered individual and, as such, will not be found under any classes in the documentation. For more details on the AE Ontology Documentation, please [click here](https://aeontology.sail-lab.org/docs/index.html). The UCO Documentation can be accessed from this [link.](https://unifiedcyberontology.org/releases/0.7.0/docs/index.html)\n",
    "\n",
    "\n",
    "The aforementioned examples are based on the latest release of AE Ontology version 0.1.8. It should be noted that the AE Ontology will continue to incorporate additive improvements, which may involve the inclusion of new classes and the removal of old concepts, potentially affecting the existing examples. We recommend checking the [latest release](https://aeontology.sail-lab.org/release/) news on [AE ontology website](https://aeontology.sail-lab.org/) to ensure you have access to the most up-to-date information. Additionally, supplementary examples can be found in the GitHub [`examples`](https://github.com/UNHSAILLab/Adversary-Engagement-Ontology/tree/main/examples) directory. Lastly, if you have any inquiries, please do not hesitate to contact us through this [contact form](https://aeontology.sail-lab.org/contact/).\n"
   ]
  }
 ],
 "metadata": {
  "kernelspec": {
   "display_name": "Python 3 (ipykernel)",
   "language": "python",
   "name": "python3"
  },
  "language_info": {
   "codemirror_mode": {
    "name": "ipython",
    "version": 3
   },
   "file_extension": ".py",
   "mimetype": "text/x-python",
   "name": "python",
   "nbconvert_exporter": "python",
   "pygments_lexer": "ipython3",
   "version": "3.8.13"
  }
 },
 "nbformat": 4,
 "nbformat_minor": 5
}
