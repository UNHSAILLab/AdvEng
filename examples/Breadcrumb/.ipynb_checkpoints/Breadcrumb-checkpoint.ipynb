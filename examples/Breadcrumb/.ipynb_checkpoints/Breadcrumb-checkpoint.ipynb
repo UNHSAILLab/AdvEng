{
 "cells": [
  {
   "cell_type": "markdown",
   "metadata": {
    "id": "DcN7rraP171x"
   },
   "source": [
    "# Breadcrumb"
   ]
  },
  {
   "cell_type": "code",
   "execution_count": null,
   "metadata": {
    "id": "iOY3khyI1i0j"
   },
   "outputs": [],
   "source": [
    "# This software was produced for the U.S. Government under contract FA8702-23-C-0001,\n",
    "# and is subject to the Rights in Data-General Clause 52.227-14, Alt. IV (DEC 2007)\n",
    "# ©2023 The MITRE Corporation. Published under the Linux Foundation’s Cyber Domain Ontology project’s Apache 2 license.\n",
    "# Released under MITRE PRS 18-4297."
   ]
  },
  {
   "cell_type": "markdown",
   "metadata": {
    "id": "2mCbEEKL1zHN"
   },
   "source": [
    "## Breadcrumb\n",
    "This simple example outlines how to describe a simple and bare example of how to the breadcrumb ae object and attach objectives to `lureObject(s)`.\n",
    "\n",
    "In this example, you will see how to use:\n",
    "- `engagement:Breadcrumb`\n",
    "\n",
    "\n",
    "\n",
    "![BreadcrumbExample.drawio.png](BreadcrumbExample.drawio.png)\n",
    "\n",
    "\n",
    "\n",
    "Additionally there is the `engagement:BreadcrumbTrail` object in case where the breadcrumbs themselves have some partial ordering. Alternatively, one can describe `engagement:Breadcrumb` with multiple `uco-core:UcoObject(s)` if all components as a whole is the breadcrumb concept."
   ]
  },
  {
   "cell_type": "code",
   "execution_count": null,
   "metadata": {
    "id": "O3HDclnx2Kfz"
   },
   "outputs": [],
   "source": [
    "{\n",
    "  \"@context\": {\n",
    "    \"co\": \"http://purl.org/co/\",\n",
    "    \"kb\": \"http://example.org/kb/\",\n",
    "    \"rdfs\": \"http://www.w3.org/2000/01/rdf-schema#\",\n",
    "    \"uco-observable\": \"https://ontology.unifiedcyberontology.org/uco/observable/\",\n",
    "    \"uco-core\": \"https://ontology.unifiedcyberontology.org/uco/core/\",\n",
    "    \"uco-types\": \"https://ontology.unifiedcyberontology.org/uco/types/\",\n",
    "    \"uco-identity\": \"https://ontology.unifiedcyberontology.org/uco/identity/\",\n",
    "    \"uco-action\": \"https://ontology.unifiedcyberontology.org/uco/action/\",\n",
    "    \"engagement\": \"https://ontology.adversaryengagement.org/ae/engagement/\",\n",
    "    \"objective\": \"https://ontology.adversaryengagement.org/ae/objective/\",\n",
    "    \"xsd\": \"http://www.w3.org/2001/XMLSchema#\"\n",
    "  },\n",
    "  \"@graph\": [\n",
    "    {\n",
    "      \"@id\": \"kb:bcdeployment1\",\n",
    "      \"@type\": \"engagement:Deploy\",\n",
    "      \"uco-action:performer\": [\n",
    "        {\n",
    "          \"@id\": \"kb:person1\",\n",
    "          \"@type\": \"uco-identity:Person\",\n",
    "          \"uco-core:hasFacet\": [\n",
    "            {\n",
    "              \"@id\": \"kb:LiamWilliam\",\n",
    "              \"@type\": \"identity:SimpleNameFacet\",\n",
    "              \"uco-identity:familyName\": \"Liam\",\n",
    "              \"uco-identity:givenName\": \"William\"\n",
    "            }\n",
    "          ],\n",
    "          \"uco-action:object\": [\n",
    "            {\n",
    "              \"@id\": \"kb:breadcrumb1\",\n",
    "              \"@type\": \"engagement:Breadcrumb\",\n",
    "              \"uco-core:description\": \"breadcrumb 1\",\n",
    "              \"engagement:hasObjective\": [\n",
    "                {\n",
    "                  \"@id\": \"objective:Lure\"\n",
    "                }\n",
    "              ],\n",
    "\t\t\t  \"engagement:hasCharacterization\": [\n",
    "\t\t\t\t{\n",
    "\t\t\t\t  \"@id\": \"kb:dir1\",\n",
    "\t\t\t\t  \"@type\": \"uco-observable:Directory\",\n",
    "\t\t\t\t  \"uco-core:name\": \"C://marysu/projectBoat\"\n",
    "\t\t\t\t}\n",
    "\t\t\t  \n",
    "            },\n",
    "            {\n",
    "              \"@id\": \"kb:breadcrumb2\",\n",
    "              \"@type\": \"engagement:Breadcrumb\",\n",
    "              \"uco-core:description\": \"breadcrumb 2\",\n",
    "              \"engagement:hasObjective\": [\n",
    "                {\n",
    "                  \"@id\": \"objective:Lure\"\n",
    "                }\n",
    "              ],\n",
    "\t\t\t  \"engagement:hasCharacterization\": [\n",
    "\t\t\t\t{\n",
    "\t\t\t\t  \"@id\": \"kb:file1\",\n",
    "\t\t\t\t  \"@type\": \"uco-observable:File\",\n",
    "\t\t\t\t  \"uco-core:name\": \"projectBoat.doc\",\n",
    "\t\t\t\t  \"uco-core:hasFacet\": [\n",
    "\t\t\t\t\t{\n",
    "\t\t\t\t\t  \"@id\": \"kb:filefacet1\",\n",
    "\t\t\t\t\t  \"@type\": \"uco-observable:FileFacet\",\n",
    "\t\t\t\t\t  \"observable:filename\": \"projectBoat.doc\"\n",
    "\t\t\t\t\t}\n",
    "\t\t\t\t  ]\n",
    "\t\t\t\t}\n",
    "\t\t\t  ]\n",
    "            },\n",
    "            {\n",
    "              \"@id\": \"kb:breadcrumb3\",\n",
    "              \"@type\": \"engagement:Breadcrumb\",\n",
    "              \"uco-core:description\": \"breadcrumb 3\",\n",
    "              \"engagement:hasObjective\": [\n",
    "                {\n",
    "                  \"@id\": \"objective:Lure\"\n",
    "                }\n",
    "              ],\n",
    "\t\t\t  \"engagement:hasCharacterization\": [\n",
    "\t\t\t\t{\n",
    "\t\t\t\t  \"@id\": \"kb:file2\",\n",
    "\t\t\t\t  \"@type\": \"uco-observable:File\",\n",
    "\t\t\t\t  \"uco-core:name\": \"to-do-list.pdf\",\n",
    "\t\t\t\t  \"uco-core:hasFacet\": [\n",
    "\t\t\t\t\t{\n",
    "\t\t\t\t\t  \"@id\": \"kb:filefacet2\",\n",
    "\t\t\t\t\t  \"@type\": \"uco-observable:FileFacet\",\n",
    "\t\t\t\t\t  \"observable:filename\": \"to-do-list.pdf\"\n",
    "\t\t\t\t\t}\n",
    "\t\t\t\t  ]\n",
    "\t\t\t\t}\n",
    "\t\t\t  ]\n",
    "\t\t\t  \n",
    "\t\t\t  \n",
    "            }\n",
    "          ]\n",
    "        }\n",
    "      ]\n",
    "    }\n",
    "  ]\n",
    "}"
   ]
  }
 ],
 "metadata": {
  "colab": {
   "provenance": []
  },
  "kernelspec": {
   "display_name": "Python 3 (ipykernel)",
   "language": "python",
   "name": "python3"
  },
  "language_info": {
   "codemirror_mode": {
    "name": "ipython",
    "version": 3
   },
   "file_extension": ".py",
   "mimetype": "text/x-python",
   "name": "python",
   "nbconvert_exporter": "python",
   "pygments_lexer": "ipython3",
   "version": "3.8.13"
  }
 },
 "nbformat": 4,
 "nbformat_minor": 1
}
