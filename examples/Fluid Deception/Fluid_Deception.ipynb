{
 "cells": [
  {
   "cell_type": "markdown",
   "metadata": {
    "id": "Yz_0FbPm2e0K"
   },
   "source": [
    "# Fluid Deception\n"
   ]
  },
  {
   "cell_type": "code",
   "execution_count": null,
   "metadata": {
    "id": "K25PS1r31iF_"
   },
   "outputs": [],
   "source": [
    "# This software was produced for the U.S. Government under contract FA8702-23-C-0001,\n",
    "# and is subject to the Rights in Data-General Clause 52.227-14, Alt. IV (DEC 2007)\n",
    "# ©2023 The MITRE Corporation. Published under the Linux Foundation’s Cyber Domain Ontology project’s Apache 2 license.\n",
    "# Released under MITRE PRS 18-4297."
   ]
  },
  {
   "cell_type": "markdown",
   "metadata": {},
   "source": [
    "## NOTE: `engagement:Stage` has been depreciated in AEO version 0.2.0. Instead `engagement:Honeypot` now has the available property `engagement:hasPerceptionCharacterization` that connects `engagement:Honeypot` to `uco-observable:Device`."
   ]
  },
  {
   "cell_type": "markdown",
   "metadata": {
    "id": "1lnc1ST-2gq5"
   },
   "source": [
    "## Fluid Deception\n",
    "\n",
    "\n",
    "This simple example outlines how to describe a simple and bare example of how the concept of the `engage:Stage` to maintain and persist an intended perception for an audience (e.g. an adversary). The example is designed for operational purposes in support of deception technologies rather than manual narration such as done with the `Narrative`/preplanning of a deception operation.\n",
    "\n",
    "In this example, you will see how to use:\n",
    "- `engagement:Honeypot` and its property `HoneypotInteractionType` (\"high\", \"low\", \"dynamic\")\n",
    "- the property `engagement:hasCharacterization`\n",
    "- the property `engagement:hasPerceptionCharacterization`\n",
    "\n",
    "\n",
    "![fluiddecption.png](FluidDeceptionExample.drawio.png)\n",
    "This example does not discuss whether to treat these honeypots as alias of one or another, this is case by case. With deception technologies and concepts such as fluid deception that attempt to reduce computational costs, it is important to be capable of documenting and describing operational events that are not necessarily thought to be of concern during preplanning. "
   ]
  },
  {
   "cell_type": "code",
   "execution_count": 2,
   "metadata": {
    "id": "FRjLetwx2mTg"
   },
   "outputs": [
    {
     "data": {
      "text/plain": [
       "{'@context': {'co': 'http://purl.org/co/',\n",
       "  'kb': 'http://example.org/kb/',\n",
       "  'rdfs': 'http://www.w3.org/2000/01/rdf-schema#',\n",
       "  'uco-observable': 'https://ontology.unifiedcyberontology.org/uco/observable/',\n",
       "  'uco-action': 'https://ontology.unifiedcyberontology.org/uco/action/',\n",
       "  'uco-core': 'https://ontology.unifiedcyberontology.org/uco/core/',\n",
       "  'uco-types': 'https://ontology.unifiedcyberontology.org/uco/types/',\n",
       "  'uco-identity': 'https://ontology.unifiedcyberontology.org/uco/identity/',\n",
       "  'engagement': 'https://ontology.adversaryengagement.org/ae/engagement/',\n",
       "  'objective': 'https://ontology.adversaryengagement.org/ae/objective/',\n",
       "  'xsd': 'http://www.w3.org/2001/XMLSchema#'},\n",
       " '@graph': [{'@id': 'kb:bcdeployment1',\n",
       "   '@type': 'engagement:Deploy',\n",
       "   'uco-core:startTime': '2023-01-01:10:01',\n",
       "   'uco-core:endTime': '2023-02-03:03:05',\n",
       "   'uco-action:performer': [{'@id': 'kb:person1',\n",
       "     '@type': 'uco-identity:Person',\n",
       "     'uco-core:hasFacet': [{'@id': 'kb:LiamWilliam',\n",
       "       '@type': 'identity:SimpleNameFacet',\n",
       "       'uco-identity:familyName': 'Liam',\n",
       "       'uco-identity:givenName': 'William'}]}],\n",
       "   'uco-action:object': [{'@id': 'kb:honeypot-low',\n",
       "     '@type': 'engagement:Honeypot',\n",
       "     'engagement:honeypotInteractionType': 'low',\n",
       "     'engagement:hasCharacterization': [{'@id': 'kb:device1',\n",
       "       '@type': 'uco-observable:Device',\n",
       "       'uco-core:hasFacet': [{'@id': 'kb:operatingsystemfacet1',\n",
       "         '@type': 'uco-observable:OperatingSystemFacet',\n",
       "         'uco-core:name': 'WindowsXP'},\n",
       "        {'@id': 'kb:networkinterfacefacet1',\n",
       "         '@type': 'uco-observable:NetworkInterfaceFacet',\n",
       "         'uco-observable:ip': [{'@id': 'kb:ipaddress1',\n",
       "           '@type': 'uco-observable:IPAddress',\n",
       "           'uco-core:hasFacet': [{'@id': 'kb:ipaddressfacet1',\n",
       "             '@type': 'uco-observable:IPAddressFacet',\n",
       "             'uco-observable:addressValue': 'AAA.BBB.CCC.DDD'}]}]}]}]}]},\n",
       "  {'@id': 'kb:honeypot-high',\n",
       "   '@type': 'engagement:Honeypot',\n",
       "   'engagement:honeypotInteractionType': 'high',\n",
       "   'uco-core:startTime': '2023-02-03:03:02',\n",
       "   'engagement:hasCharacterization': {'@id': 'kb:device1'}}]}"
      ]
     },
     "execution_count": 2,
     "metadata": {},
     "output_type": "execute_result"
    }
   ],
   "source": [
    "{\n",
    "  \"@context\": {\n",
    "    \"co\": \"http://purl.org/co/\",\n",
    "    \"kb\": \"http://example.org/kb/\",\n",
    "    \"rdfs\": \"http://www.w3.org/2000/01/rdf-schema#\",\n",
    "    \"uco-observable\": \"https://ontology.unifiedcyberontology.org/uco/observable/\",\n",
    "    \"uco-action\": \"https://ontology.unifiedcyberontology.org/uco/action/\",\n",
    "    \"uco-core\": \"https://ontology.unifiedcyberontology.org/uco/core/\",\n",
    "    \"uco-types\": \"https://ontology.unifiedcyberontology.org/uco/types/\",\n",
    "    \"uco-identity\": \"https://ontology.unifiedcyberontology.org/uco/identity/\",\n",
    "    \"engagement\": \"https://ontology.adversaryengagement.org/ae/engagement/\",\n",
    "    \"objective\": \"https://ontology.adversaryengagement.org/ae/objective/\",\n",
    "    \"xsd\": \"http://www.w3.org/2001/XMLSchema#\"\n",
    "  },\n",
    "  \"@graph\": [\n",
    "    {\n",
    "      \"@id\": \"kb:bcdeployment1\",\n",
    "      \"@type\": \"engagement:Deploy\",\n",
    "      \"uco-core:startTime\": \"2023-01-01:10:01\",\n",
    "      \"uco-core:endTime\": \"2023-02-03:03:05\",\n",
    "      \"uco-action:performer\": [\n",
    "        {\n",
    "          \"@id\": \"kb:person1\",\n",
    "          \"@type\": \"uco-identity:Person\",\n",
    "          \"uco-core:hasFacet\": [\n",
    "            {\n",
    "              \"@id\": \"kb:LiamWilliam\",\n",
    "              \"@type\": \"identity:SimpleNameFacet\",\n",
    "              \"uco-identity:familyName\": \"Liam\",\n",
    "              \"uco-identity:givenName\": \"William\"\n",
    "            }\n",
    "          ]\n",
    "        }\n",
    "      ],\n",
    "      \"uco-action:object\": [\n",
    "        {\n",
    "          \"@id\": \"kb:honeypot-low\",\n",
    "          \"@type\": \"engagement:Honeypot\",\n",
    "          \"engagement:honeypotInteractionType\": \"low\",\n",
    "      \"engagement:hasCharacterization\":\n",
    "      [\n",
    "        {\n",
    "          \"@id\": \"kb:device1\",\n",
    "          \"@type\": \"uco-observable:Device\",\n",
    "          \"uco-core:hasFacet\": [\n",
    "            {\n",
    "              \"@id\": \"kb:operatingsystemfacet1\",\n",
    "              \"@type\": \"uco-observable:OperatingSystemFacet\",\n",
    "              \"uco-core:name\": \"WindowsXP\"\n",
    "            },\n",
    "            {\n",
    "              \"@id\": \"kb:networkinterfacefacet1\",\n",
    "              \"@type\": \"uco-observable:NetworkInterfaceFacet\",\n",
    "              \"uco-observable:ip\": [\n",
    "                {\n",
    "                  \"@id\": \"kb:ipaddress1\",\n",
    "                  \"@type\": \"uco-observable:IPAddress\",\n",
    "                  \"uco-core:hasFacet\": [\n",
    "                    {\n",
    "                      \"@id\": \"kb:ipaddressfacet1\",\n",
    "                      \"@type\": \"uco-observable:IPAddressFacet\",\n",
    "                      \"uco-observable:addressValue\": \"AAA.BBB.CCC.DDD\"\n",
    "                    }\n",
    "                  ]\n",
    "                }\n",
    "              ]\n",
    "            }\n",
    "          ]\n",
    "        }\n",
    "      ]\n",
    "        }\n",
    "      ]\n",
    "    },\n",
    "\n",
    "    {\n",
    "      \"@id\": \"kb:honeypot-high\",\n",
    "      \"@type\": \"engagement:Honeypot\",\n",
    "      \"engagement:honeypotInteractionType\": \"high\",\n",
    "      \"uco-core:startTime\": \"2023-02-03:03:02\",\n",
    "      \"engagement:hasCharacterization\":\n",
    "        {\n",
    "          \"@id\": \"kb:device1\"\n",
    "        }\n",
    "    }\n",
    "  ]\n",
    "}\n"
   ]
  },
  {
   "cell_type": "code",
   "execution_count": null,
   "metadata": {},
   "outputs": [],
   "source": []
  }
 ],
 "metadata": {
  "colab": {
   "provenance": []
  },
  "kernelspec": {
   "display_name": "Python 3",
   "language": "python",
   "name": "python3"
  },
  "language_info": {
   "codemirror_mode": {
    "name": "ipython",
    "version": 3
   },
   "file_extension": ".py",
   "mimetype": "text/x-python",
   "name": "python",
   "nbconvert_exporter": "python",
   "pygments_lexer": "ipython3",
   "version": "3.8.8"
  }
 },
 "nbformat": 4,
 "nbformat_minor": 1
}
