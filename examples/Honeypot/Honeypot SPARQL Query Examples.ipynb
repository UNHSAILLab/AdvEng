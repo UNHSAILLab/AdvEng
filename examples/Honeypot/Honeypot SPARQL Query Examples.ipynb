{
 "cells": [
  {
   "cell_type": "code",
   "execution_count": null,
   "id": "ae9844e0",
   "metadata": {},
   "outputs": [],
   "source": [
    "# NOTICE\n",
    "\n",
    "# This software was produced for the U.S. Government under contract FA8702-23-C-0001,\n",
    "\n",
    "# and is subject to the Rights in Data-General Clause 52.227-14, Alt. IV (DEC 2007)\n",
    "\n",
    "# ©2023 The MITRE Corporation. Published under the Linux Foundation’s Cyber Domain Ontology project’s Apache 2 license.\n",
    "\n",
    "# Released under MITRE PRS 18-4297."
   ]
  },
  {
   "cell_type": "code",
   "execution_count": 1,
   "id": "afd3088a",
   "metadata": {},
   "outputs": [],
   "source": [
    "narrative_example = \"Narrative/HoneypotNarrativeExample.jsonld\""
   ]
  },
  {
   "cell_type": "code",
   "execution_count": 2,
   "id": "d4b36479",
   "metadata": {},
   "outputs": [],
   "source": [
    "operation_example = \"Operational/OperationalHoneypot.jsonld\""
   ]
  },
  {
   "cell_type": "markdown",
   "id": "9ca28e2a",
   "metadata": {},
   "source": [
    "## Example Query: \"How many Storylines are there in the Narrative?\""
   ]
  },
  {
   "cell_type": "markdown",
   "id": "1a91b09c",
   "metadata": {},
   "source": [
    "In case a Narrative has multiple storylines, one can check the exclusive `engage:hasStoryline` property."
   ]
  },
  {
   "cell_type": "code",
   "execution_count": 4,
   "id": "d5bcd238",
   "metadata": {},
   "outputs": [
    {
     "name": "stdout",
     "output_type": "stream",
     "text": [
      "(rdflib.term.Literal('1', datatype=rdflib.term.URIRef('http://www.w3.org/2001/XMLSchema#integer')),)\n"
     ]
    }
   ],
   "source": [
    "import rdflib\n",
    "g = rdflib.Graph()\n",
    "g.parse(narrative_example)\n",
    "\n",
    "query = \"\"\"\n",
    "PREFIX engagement: <https://ontology.adversaryengagement.org/ae/engagement/>\n",
    "\n",
    "SELECT (COUNT(DISTINCT ?p) as ?count)\n",
    "\n",
    "WHERE {\n",
    " ?s engagement:hasStoryline ?p\n",
    "}\n",
    "\"\"\"\n",
    "\n",
    "for row in g.query(query):\n",
    "    print(row)"
   ]
  },
  {
   "cell_type": "markdown",
   "id": "8c5b422e",
   "metadata": {},
   "source": [
    "## Example Query: \"How many events are in `storyline1`?\""
   ]
  },
  {
   "cell_type": "markdown",
   "id": "278baf1c",
   "metadata": {},
   "source": [
    "To answer this question, UCO version 1.0.0 has a `types:Thread` class designed to describe partially ordered lists of objects with a property `co:element`"
   ]
  },
  {
   "cell_type": "code",
   "execution_count": 22,
   "id": "438989bd",
   "metadata": {},
   "outputs": [
    {
     "name": "stdout",
     "output_type": "stream",
     "text": [
      "(rdflib.term.Literal('4', datatype=rdflib.term.URIRef('http://www.w3.org/2001/XMLSchema#integer')),)\n"
     ]
    }
   ],
   "source": [
    "import rdflib\n",
    "g = rdflib.Graph()\n",
    "g.parse(narrative_example)\n",
    "\n",
    "query = \"\"\"\n",
    "PREFIX co: <http://purl.org/co/>\n",
    "PREFIX kb: <http://example.org/kb/>\n",
    "\n",
    "SELECT (COUNT(DISTINCT ?events)  as ?count)\n",
    "\n",
    "WHERE {\n",
    " kb:storyline1 engagement:hasEvent ?o .\n",
    " ?s co:element ?events\n",
    "}\n",
    "\"\"\"\n",
    "\n",
    "for row in g.query(query):\n",
    "    print(row)"
   ]
  },
  {
   "cell_type": "markdown",
   "id": "d1700c5e",
   "metadata": {},
   "source": [
    "## Example Query: \"What PlannedEvents use engage:Alert?\""
   ]
  },
  {
   "cell_type": "code",
   "execution_count": 23,
   "id": "d8f03b84",
   "metadata": {},
   "outputs": [
    {
     "name": "stdout",
     "output_type": "stream",
     "text": [
      "(rdflib.term.URIRef('http://example.org/kb/Event2'),)\n",
      "(rdflib.term.URIRef('http://example.org/kb/Event3'),)\n",
      "(rdflib.term.URIRef('http://example.org/kb/Event4'),)\n"
     ]
    }
   ],
   "source": [
    "import rdflib\n",
    "g = rdflib.Graph()\n",
    "g.parse(narrative_example)\n",
    "\n",
    "query = \"\"\"\n",
    "PREFIX uco-action: <https://ontology.unifiedcyberontology.org/uco/action/> \n",
    "PREFIX uco-core: <https://ontology.unifiedcyberontology.org/uco/core/> \n",
    "PREFIX engagement: <https://ontology.adversaryengagement.org/ae/engagement/>\n",
    "\n",
    "SELECT ?event\n",
    "\n",
    "WHERE {\n",
    " ?alert ?p engagement:Alert .\n",
    " ?event ?s ?alert .\n",
    "}\n",
    "\"\"\"\n",
    "\n",
    "for row in g.query(query):\n",
    "    print(row)"
   ]
  },
  {
   "cell_type": "markdown",
   "id": "37a48efb",
   "metadata": {},
   "source": [
    "## Example Query: \"What PlannedEvent(s) had uco-identity:Person action performers?\""
   ]
  },
  {
   "cell_type": "code",
   "execution_count": 24,
   "id": "3df0b5d3",
   "metadata": {},
   "outputs": [
    {
     "name": "stdout",
     "output_type": "stream",
     "text": [
      "\n",
      "\n",
      "(rdflib.term.URIRef('http://example.org/kb/Event1'),)\n"
     ]
    }
   ],
   "source": [
    "import rdflib\n",
    "g = rdflib.Graph()\n",
    "g.parse(narrative_example)\n",
    "\n",
    "query = \"\"\"\n",
    "PREFIX uco-action: <https://ontology.unifiedcyberontology.org/uco/action/> \n",
    "PREFIX uco-core: <https://ontology.unifiedcyberontology.org/uco/core/> \n",
    "\n",
    "\n",
    "SELECT ?event\n",
    "\n",
    "WHERE {\n",
    " ?personid ?p uco-identity:Person .\n",
    " ?action ?s ?personid .\n",
    " ?event ?y ?action\n",
    "}\n",
    "\"\"\"\n",
    "\n",
    "for row in g.query(query):\n",
    "    print(\"\\n\")\n",
    "    print(row)"
   ]
  }
 ],
 "metadata": {
  "kernelspec": {
   "display_name": "Python 3 (ipykernel)",
   "language": "python",
   "name": "python3"
  },
  "language_info": {
   "codemirror_mode": {
    "name": "ipython",
    "version": 3
   },
   "file_extension": ".py",
   "mimetype": "text/x-python",
   "name": "python",
   "nbconvert_exporter": "python",
   "pygments_lexer": "ipython3",
   "version": "3.8.13"
  }
 },
 "nbformat": 4,
 "nbformat_minor": 5
}
