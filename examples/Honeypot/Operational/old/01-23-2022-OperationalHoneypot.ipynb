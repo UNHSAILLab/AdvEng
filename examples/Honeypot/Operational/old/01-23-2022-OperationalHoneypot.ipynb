{
 "cells": [
  {
   "cell_type": "markdown",
   "id": "4130f78b",
   "metadata": {},
   "source": [
    "# Operational Honeypot Narrative Example"
   ]
  },
  {
   "cell_type": "markdown",
   "id": "673b1151",
   "metadata": {},
   "source": [
    "The usage of this example is to demonstrate how events during a deception operation will appear in regards to a timeline with datetime properties."
   ]
  },
  {
   "cell_type": "markdown",
   "id": "206dcf2b",
   "metadata": {},
   "source": [
    "![alt text](01-23-2022-OperationalHoneypot.drawio.png \"01-23-2022-OperationalHoneypot\")"
   ]
  },
  {
   "cell_type": "markdown",
   "id": "d2f4e2e5",
   "metadata": {},
   "source": [
    "### 1. Event 1 (highlighted in green)\n",
    "\n",
    "The first Deploy action is representative of \"def-deploy-honeytoken\" as outlined in the narrative version. This action represents that on 12-12-2023-08:30, a defender deployed honeytoken credentials at a certain location and IP inside of an accessible, public file."
   ]
  },
  {
   "cell_type": "markdown",
   "id": "662e19e2",
   "metadata": {},
   "source": [
    "### 2. Event 2 (highlighted in red)\n",
    "\n",
    "The first Alert action describes when the first automated generated report or notification from a data source which indicates that a certain file was opened. This does not guarentee that the user will use or knows of the honeytoken, but we know the file has been opened."
   ]
  },
  {
   "cell_type": "markdown",
   "id": "02edad1e",
   "metadata": {},
   "source": [
    "### 3. Event 3 (highlighted in purple)\n",
    "\n",
    "The third alert from a network data source is generated when an adversary known IP or unknown IP ping sweeps the honeypot. Here, we do not necessarily know if this was intentional from the laid honeytoken, but we know they might try to gain direct access."
   ]
  },
  {
   "cell_type": "markdown",
   "id": "426ce259",
   "metadata": {},
   "source": [
    "### 4. Event 4 (highlighted in blue)\n",
    "\n",
    "The last alert is generated when the internal logging system of the honeypot reports that a user successfully or unsuccessfully logged onto the system. Here, given we can inspect the logs afterward, we can be certain whether or not the honeytoken was successful. Furthermore, the end goal was to reach the honeypot and therefore despite whatever method, depending on the objective of the deception operation, this can be considered successful or not."
   ]
  },
  {
   "cell_type": "code",
   "execution_count": null,
   "id": "6d3eaa0a",
   "metadata": {},
   "outputs": [],
   "source": []
  }
 ],
 "metadata": {
  "kernelspec": {
   "display_name": "Python 3 (ipykernel)",
   "language": "python",
   "name": "python3"
  },
  "language_info": {
   "codemirror_mode": {
    "name": "ipython",
    "version": 3
   },
   "file_extension": ".py",
   "mimetype": "text/x-python",
   "name": "python",
   "nbconvert_exporter": "python",
   "pygments_lexer": "ipython3",
   "version": "3.8.13"
  }
 },
 "nbformat": 4,
 "nbformat_minor": 5
}
