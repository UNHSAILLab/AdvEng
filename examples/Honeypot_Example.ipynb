{
 "cells": [
  {
   "cell_type": "markdown",
   "metadata": {},
   "source": [
    "# Honeypot Example"
   ]
  },
  {
   "cell_type": "markdown",
   "metadata": {},
   "source": [
    "## Scenario:\n",
    "This example instantiates a UCO bundle of objects relating to the deployment of a honeypot in jsonld format. \n",
    "\n",
    "A honeypot is instantiated by teamX for an APT group called APTZ with the desired tactic of credential access and specific method of entrance through a honeytoken."
   ]
  },
  {
   "cell_type": "markdown",
   "metadata": {},
   "source": [
    "1. Add relevant UCO and AE prefixes"
   ]
  },
  {
   "cell_type": "code",
   "execution_count": null,
   "metadata": {},
   "outputs": [],
   "source": [
    "\"@context\": { \n",
    "    \"kb\": \"http://example.org/kb#\", \n",
    "    \"@vocab\": \"http://example.org/ontology/local#\", \n",
    "    \"rdf\": \"http://www.w3.org/1999/02/22-rdf-syntax-ns#\", \n",
    "    \"rdfs\": \"http://www.w3.org/2000/01/rdf-schema#\", \n",
    "    \"xsd\": \"http://www.w3.org/2001/XMLSchema#\" \n",
    "    \"uco-action\": \"https://ontology.unifiedcyberontology.org/uco/action/\", \n",
    "    \"uco-configuration\": \"https://ontology.unifiedcyberontology.org/uco/configuration/\", \n",
    "    \"uco-core\": \"https://ontology.unifiedcyberontology.org/uco/core/\", \n",
    "    \"uco-identity\": \"https://ontology.unifiedcyberontology.org/uco/identity/\", \n",
    "    \"uco-location\": \"https://ontology.unifiedcyberontology.org/uco/location/\", \n",
    "    \"uco-observable\": \"https://ontology.unifiedcyberontology.org/uco/observable/\", \n",
    "    \"uco-tool\": \"https://ontology.unifiedcyberontology.org/uco/tool/\", \n",
    "    \"uco-types\": \"https://ontology.unifiedcyberontology.org/uco/types/\", \n",
    "    \"uco-vocabulary\": \"https://ontology.unifiedcyberontology.org/uco/vocabulary/\", \n",
    "    \"engage\": \"https://ontology.adversaryengagement.org/ae/engage/\",\n",
    "    \"identity\": \"https://ontology.adversaryengagement.org/ae/identity/\",\n",
    "    \"role\": \"https://ontology.adversaryengagement.org/ae/role/\",\n",
    "    \"attack\": \"https://ontology.adversaryengagement.org/ae/attack/\"\n",
    "}"
   ]
  },
  {
   "cell_type": "markdown",
   "metadata": {},
   "source": [
    "2. The bundle instantiation and description"
   ]
  },
  {
   "cell_type": "code",
   "execution_count": null,
   "metadata": {},
   "outputs": [],
   "source": [
    "    \"@id\": \"kb:honeypot_02_02_2022\", \n",
    "    \"@type\": \"uco-observable:Bundle\", \n",
    "    \"uco-core:description\": \"Honeypot deployed onto network by XTeam was accessed by honey token user-credentials.\", \n",
    "    \"uco-core:object\": [ ...]"
   ]
  },
  {
   "cell_type": "markdown",
   "metadata": {},
   "source": [
    "3. Honeypot object instantiation"
   ]
  },
  {
   "cell_type": "code",
   "execution_count": null,
   "metadata": {},
   "outputs": [],
   "source": [
    "\"@id\": \"kb:honeypot1\", \n",
    "\"@type\": \"engage:honeypot\", \n",
    "\"uco-core:hasFacet\": [...]"
   ]
  },
  {
   "cell_type": "markdown",
   "metadata": {},
   "source": [
    "3.1 Attach a honeypotFacet or a honeyObjectFacet."
   ]
  },
  {
   "cell_type": "code",
   "execution_count": null,
   "metadata": {},
   "outputs": [],
   "source": [
    "\"@type\": \"engage:honeypotFacet\""
   ]
  },
  {
   "cell_type": "markdown",
   "metadata": {},
   "source": [
    "3.2. Time is treated as a namespace / domain object which has a TimeType and a Unit property. Timestamp inherits these properties to be able to be used as an object. time:Time is a property of the honeypotFacet / honeyObjectFacet"
   ]
  },
  {
   "cell_type": "code",
   "execution_count": null,
   "metadata": {},
   "outputs": [],
   "source": [
    "\"time:hasTime\": [\n",
    "    {\n",
    "    \"time:Timestamp\": \"01-01-2022\",\n",
    "    \"time:TimeType\": \"deployment\"\n",
    "    },\n",
    "    {\n",
    "    \"time:Timestamp: \"02-02-2022\",\n",
    "    \"time:TimeType\": \"trigger\"\n",
    "    },"
   ]
  },
  {
   "cell_type": "markdown",
   "metadata": {},
   "source": [
    "3.3. deployEntity is a property that is either an identity or a role. the entity/team that deployed/performed has an unique ID."
   ]
  },
  {
   "cell_type": "code",
   "execution_count": null,
   "metadata": {},
   "outputs": [],
   "source": [
    "\"engage:deployEntity\": [\n",
    "{\n",
    "    \"@id\" : \"kb:ex1\",\n",
    "    \"@type\": \"role:defender\"\n",
    "    \"engage:teamIdentifier\": \"team-01\"\n",
    "    \"engage:teamMemberIdentifier\": \"btm-01\"\n",
    "}\n",
    "],"
   ]
  },
  {
   "cell_type": "markdown",
   "metadata": {},
   "source": [
    "3.4. engage:TargetEntity is an optional property of honeypot which specifies an intended target entity or team at which it was deployed for."
   ]
  },
  {
   "cell_type": "code",
   "execution_count": null,
   "metadata": {},
   "outputs": [],
   "source": [
    "\"role:hasTargetEntity\": [\n",
    "{\n",
    "    \"@id\" : \"kb:ex1\",\n",
    "    \"@type\": \"role:adversary\"\n",
    "    \"engage:teamIdentifier\": \"APTZ\"\n",
    "    \"engage:teamMemberIdentifier\": \"APTZ\"\n",
    "}\n",
    "],"
   ]
  },
  {
   "cell_type": "markdown",
   "metadata": {},
   "source": [
    "3.5. objective:Objective is a property which is the immediate or long-term/mission goal relating to the scope and lifespan of the honeypot. objective:trap is one type of standard objectives for adversary engagement."
   ]
  },
  {
   "cell_type": "code",
   "execution_count": null,
   "metadata": {},
   "outputs": [],
   "source": [
    "\"objective:hasObjective\": [\n",
    "    \"@id\": \"kb:obj1\",\n",
    "    \"@type\": \"objective:trap\"\n",
    "],"
   ]
  },
  {
   "cell_type": "markdown",
   "metadata": {},
   "source": [
    "3.6. stagedAttackMethod is a property which preferences the expected TTP / attack methodology the deploying team/entity believes a targetEntity/team will use to gain access to the honeypot"
   ]
  },
  {
   "cell_type": "code",
   "execution_count": null,
   "metadata": {},
   "outputs": [],
   "source": [
    "\"engage:hasStagedAttackMethod\": [\n",
    "    {\n",
    "        \"@id\": \"kb:sae1\",\n",
    "        \"@type\": \"attack:Attack\"\n",
    "        \"uco-core:description\": \"Honeytoken credential access.\"\n",
    "        \"technique\": \"T1555.1\"\n",
    "        \"tactic\": \"Credential Access\"\n",
    "    }\n",
    "    ],"
   ]
  },
  {
   "cell_type": "markdown",
   "metadata": {},
   "source": [
    "3.7. Conventionally, honeypots are often described as high/low interactive which determines both the resource expenditure and expectations for a honeypot's usage in an operation."
   ]
  },
  {
   "cell_type": "code",
   "execution_count": null,
   "metadata": {},
   "outputs": [],
   "source": [
    "\"engage:honeypotInteractionType\": \"High\","
   ]
  },
  {
   "cell_type": "markdown",
   "metadata": {},
   "source": [
    "3.8. A stage is a UcoObject or Bundle which describes the desired perception a deploying team/entity has for a honeypot to a targetEntity/team. Here we can express it simply as an uco-observable android device with its standard usage of a facet."
   ]
  },
  {
   "cell_type": "code",
   "execution_count": null,
   "metadata": {},
   "outputs": [],
   "source": [
    "\"engage:hasStage\": [\n",
    "        \"@id\": \"kb:hhp-1\",\n",
    "        \"@type\": \"uco-observable:AndroidDevice\",\n",
    "        \"uco-core:hasFacet\": [\n",
    "        {\n",
    "            \"@id\": \"kb:ad-hp\",\n",
    "            \"@type\": \"uco-observable:AndroidDeviceFacet\"\n",
    "            \"uco-core:description\": \"Honeypot Android device.\"\n",
    "            \"uco-observable:androidFingerprint\": \"13141516\",\n",
    "            \"uco-observable:androidID\": \"android-01m4\",\n",
    "            \"uco-observable:androidVersion:\"1.0.2\"\n",
    "            }\n",
    "        ]\n",
    "    ],"
   ]
  },
  {
   "cell_type": "markdown",
   "metadata": {},
   "source": [
    "3.9. stagedAttackSurface is the property which more specifically describes a component of the stage which the stagedAttackMethod directly applies to. This is useful for describing all expected methods of entry into a honeypot as objects themselves than through techniques."
   ]
  },
  {
   "cell_type": "code",
   "execution_count": null,
   "metadata": {},
   "outputs": [],
   "source": [
    "\"engage:hasStagedAttackSurface\": [\n",
    "    {\n",
    "        \"@id\": \"kb:sae1\",\n",
    "        \"@type\": \"uco-observable:port\"\n",
    "        \"uco-core:description\": \"Port 22 has ssh service running that can be accessed via the honeytoken credentials.\"\n",
    "        \"uco-core:hasFacet\": [\n",
    "        {\n",
    "            \"@type\": \"uco-observable:port\"\n",
    "            \"uco-observable:port\": 22\n",
    "        }\n",
    "        ]\n",
    "    }\n",
    "],"
   ]
  },
  {
   "cell_type": "markdown",
   "metadata": {},
   "source": [
    "3.10. stageExit is an optional property in which trapping an adversary within a honeypot is not the end-goal. Instead, this can be used to describe the sequences of entering/exiting from stage to stage."
   ]
  },
  {
   "cell_type": "code",
   "execution_count": null,
   "metadata": {},
   "outputs": [],
   "source": [
    "\"engage:hasStagedExit\": [\n",
    "        {\n",
    "            \"@type\": \"engage:Exit\"\n",
    "            \"uco-core:description\": \"Honeypot is meant to trap adversaries so there is not available exit.\"\n",
    "        }\n",
    "        ],"
   ]
  },
  {
   "cell_type": "markdown",
   "metadata": {},
   "source": [
    "3.11. HoneyObject as a property of a honeypot refers to any \"props\" and necessary supplemental deception objects which is directly related to this honeypot. In this case, the desired method of entry was to use honeyToken credentials. Normally we would use something as \"CredentialFacet\" to attach as a facet to the honeyToken, but UCO treats Credential as a property so we attach the object to honeyTokenFacet."
   ]
  },
  {
   "cell_type": "code",
   "execution_count": null,
   "metadata": {},
   "outputs": [],
   "source": [
    "\"engage:hasHoneyObject\":[\n",
    "        {\n",
    "            \"@id\": \"ht-1\",\n",
    "            \"@type\": \"engage:honeyToken\",\n",
    "            \"engage:honeyTokenIdentifier\": \"honeytoken-1\"\n",
    "            \"uco-core:hasFacet\": [\n",
    "            {\n",
    "                \"@id\": \"ht-accountcred1\",\n",
    "                \"@type\": \"engage:honeyTokenFacet\",\n",
    "                \"uco-core:object\": [\n",
    "                    \"uco-observable:Credential\": \"HarryPeter01\"\n",
    "                ]\n",
    "            }\n",
    "            ]\n",
    "        }\n",
    "] \t\t\n",
    "}\n",
    "]"
   ]
  }
 ],
 "metadata": {
  "kernelspec": {
   "display_name": "Python 3 (ipykernel)",
   "language": "python",
   "name": "python3"
  },
  "language_info": {
   "codemirror_mode": {
    "name": "ipython",
    "version": 3
   },
   "file_extension": ".py",
   "mimetype": "text/x-python",
   "name": "python",
   "nbconvert_exporter": "python",
   "pygments_lexer": "ipython3",
   "version": "3.7.15"
  }
 },
 "nbformat": 4,
 "nbformat_minor": 2
}
