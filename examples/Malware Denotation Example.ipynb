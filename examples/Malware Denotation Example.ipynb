{
 "cells": [
  {
   "cell_type": "markdown",
   "id": "22e597c3",
   "metadata": {},
   "source": [
    "## Scenario: \n",
    "Malware (known for targetting android devices) is deployed and executed in a specialized sandbox for elliciting human behavior or from a human malicious actor."
   ]
  },
  {
   "cell_type": "markdown",
   "id": "9e90df43",
   "metadata": {},
   "source": [
    "1.Add appropriate prefixes (short forms of the URI)"
   ]
  },
  {
   "cell_type": "code",
   "execution_count": null,
   "id": "d407b0ff",
   "metadata": {},
   "outputs": [],
   "source": [
    "{ \n",
    "    \"__AE__\": \"AE_2022_01_01\", \n",
    "    \"@context\": { \n",
    "        \"kb\": \"http://example.org/kb#\", \n",
    "        \"@vocab\": \"http://example.org/ontology/local#\", \n",
    "        \"rdf\": \"http://www.w3.org/1999/02/22-rdf-syntax-ns#\", \n",
    "        \"rdfs\": \"http://www.w3.org/2000/01/rdf-schema#\", \n",
    "        \"xsd\": \"http://www.w3.org/2001/XMLSchema#\",\n",
    "        \"uco-action\": \"https://ontology.unifiedcyberontology.org/uco/action/\", \n",
    "        \"uco-configuration\": \"https://ontology.unifiedcyberontology.org/uco/configuration/\", \n",
    "        \"uco-core\": \"https://ontology.unifiedcyberontology.org/uco/core/\", \n",
    "        \"uco-identity\": \"https://ontology.unifiedcyberontology.org/uco/identity/\", \n",
    "        \"uco-location\": \"https://ontology.unifiedcyberontology.org/uco/location/\", \n",
    "        \"uco-observable\": \"https://ontology.unifiedcyberontology.org/uco/observable/\", \n",
    "        \"uco-tool\": \"https://ontology.unifiedcyberontology.org/uco/tool/\", \n",
    "        \"uco-types\": \"https://ontology.unifiedcyberontology.org/uco/types/\", \n",
    "        \"uco-vocabulary\": \"https://ontology.unifiedcyberontology.org/uco/vocabulary/\", \n",
    "        \"engage\": \"https://ontology.adversaryengagement.org/ae/engage/\",\n",
    "        \"identity\": \"https://ontology.adversaryengagement.org/ae/identity/\",\n",
    "        \"role\": \"https://ontology.adversaryengagement.org/ae/role/\",\n",
    "        \"attack\": \"https://ontology.adversaryengagement.org/ae/attack/\"\n",
    "    },"
   ]
  },
  {
   "cell_type": "markdown",
   "id": "028212ee",
   "metadata": {},
   "source": [
    "2. Add the bundle. Bundle consists the instantiation of the sandbox, the deployment of the Malware,  the execution time of the Malware, an alert that was triggered from a data-source."
   ]
  },
  {
   "cell_type": "code",
   "execution_count": null,
   "id": "10914728",
   "metadata": {},
   "outputs": [],
   "source": [
    "    \"@id\": \"kb:sandbox_02_02_2022\", \n",
    "    \"@type\": \"uco-observable:Bundle\", \n",
    "    \"uco-core:description\": \"Malware TrojanX deployed in specialized environment to ellicit the attention of a human adversary.\", "
   ]
  },
  {
   "cell_type": "code",
   "execution_count": null,
   "id": "504aed50",
   "metadata": {},
   "outputs": [],
   "source": [
    "\"uco-core:object\": [ "
   ]
  },
  {
   "cell_type": "markdown",
   "id": "1c20f0e3",
   "metadata": {},
   "source": [
    "2.1. First object in this list is the sandbox/sandboxFacet (android) with a timestamp of when it was initially deployed and configured. Additionally, we define the entity that deployed the sandbox, the objective of which the sandbox was configured for, and any relating data sources to this sandbox."
   ]
  },
  {
   "cell_type": "code",
   "execution_count": null,
   "id": "9453921c",
   "metadata": {},
   "outputs": [],
   "source": [
    "        { \n",
    "            \"@id\": \"kb:sandbox1\", \n",
    "            \"@type\": \"engage:sandbox\",\n",
    "            \"uco-core:hasFacet\": [\n",
    "                {\n",
    "                    \"@id\":\"sandbox1facet\",\n",
    "                    \"@type\":\"engage:sandboxFacet\",\n",
    "                    \"time:hasTime\": [\n",
    "                        {\n",
    "                        \"time:Timestamp\": \"01-01-2022\",\n",
    "                        \"time:TimeType\": \"deployment\"\n",
    "                        }\n",
    "                        ],\n",
    "                        \"engage:deployEntity\": [\n",
    "                        {\n",
    "                            \"@id\" : \"kb:ex1\",\n",
    "                            \"@type\": \"role:defender\",\n",
    "                            \"engage:teamIdentifier\": \"team-01\",\n",
    "                            \"engage:teamMemberIdentifier\": \"btm-01\"\n",
    "                        }\n",
    "                        ],\n",
    "                        \"objective:hasObjective\": [\n",
    "                          {\n",
    "                            \"@id\": \"kb:obj1\",\n",
    "                            \"@type\": \"objective:reconnisance\"\n",
    "                          }\n",
    "                        ],\n",
    "                        \"engage:hasDataSource\": [\n",
    "                            {\n",
    "                                \"@id\": \"kb:ds1\",\n",
    "                                \"@type\": \"engage:dataSource\",\n",
    "                                \"uco-core:description\": \"CMD prompt tracer log\"\n",
    "                            }\n",
    "                            ],\n",
    "                        \"engage:hasStage\": [\n",
    "                                \"@id\": \"kb:hhp-1\",\n",
    "                                \"@type\": \"uco-observable:AndroidDevice\",\n",
    "                                \"uco-core:hasFacet\": [\n",
    "                                {\n",
    "                                    \"@id\": \"kb:ad-hp\",\n",
    "                                    \"@type\": \"uco-observable:AndroidDeviceFacet\"\n",
    "                                    \"uco-core:description\": \"Honeypot Android device.\"\n",
    "                                    \"uco-observable:androidFingerprint\": \"13141516\",\n",
    "                                    \"uco-observable:androidID\": \"android-01m4\",\n",
    "                                    \"uco-observable:androidVersion:\"1.0.2\"\n",
    "                                    }\n",
    "                                ]\n",
    "                            \n",
    "                \n",
    "                \n",
    "            ]} ]},"
   ]
  },
  {
   "cell_type": "markdown",
   "id": "012ab4c8",
   "metadata": {},
   "source": [
    "2.2. Next object is the Malware with two timestamps, the first when it was deployed and the second of when it was initially executed. (MalwareFacet)"
   ]
  },
  {
   "cell_type": "code",
   "execution_count": null,
   "id": "4dead003",
   "metadata": {},
   "outputs": [],
   "source": [
    "        { \n",
    "            \"@id\": \"kb:malware1\", \n",
    "            \"@type\": \"engage:Malware\",\n",
    "            \"uco-core:hasFacet\": [\n",
    "                {\n",
    "                    \"@type\":\"engage:MalwareFacet\",\n",
    "                    \"time:hasTime\": [\n",
    "                        {\n",
    "                        \"time:Timestamp\": \"01-01-2022\",\n",
    "                        \"time:TimeType\": \"deployment\"\n",
    "                        },\n",
    "                        {\n",
    "                        \"time:Timestamp\": \"01-02-2022\",\n",
    "                        \"time:TimeType\": \"trigger\"\n",
    "                        }\n",
    "                    ]\n",
    "                }\n",
    "            ]},"
   ]
  },
  {
   "cell_type": "markdown",
   "id": "948df5c6",
   "metadata": {},
   "source": [
    "2.3. The third object is an alert with a timestamp of type trigger that is generated from a specific data source"
   ]
  },
  {
   "cell_type": "code",
   "execution_count": null,
   "id": "cce450e6",
   "metadata": {},
   "outputs": [],
   "source": [
    "        {\n",
    "            \"@id\":\"kb:alert1\",\n",
    "            \"@type\":\"engage:alert\",\n",
    "            \"time:hasTime\": [\n",
    "              {\"time:Timestamp\":\"01-05-2022\",\n",
    "               \"time:TimeType\":\"trigger\"\n",
    "              }  \n",
    "            ],\n",
    "            \"engage:hasDataSource\": [\n",
    "                {\n",
    "                    \"@id\": \"kb:ds1\",\n",
    "                    \"@type\": \"engage:dataSource\",\n",
    "                    \"uco-core:description\": \"CMD prompt tracer log\"\n",
    "                }\n",
    "                ]\n",
    "            }\n",
    "            ]\n",
    "    }"
   ]
  }
 ],
 "metadata": {
  "kernelspec": {
   "display_name": "Python 3 (ipykernel)",
   "language": "python",
   "name": "python3"
  },
  "language_info": {
   "codemirror_mode": {
    "name": "ipython",
    "version": 3
   },
   "file_extension": ".py",
   "mimetype": "text/x-python",
   "name": "python",
   "nbconvert_exporter": "python",
   "pygments_lexer": "ipython3",
   "version": "3.7.15"
  }
 },
 "nbformat": 4,
 "nbformat_minor": 5
}
